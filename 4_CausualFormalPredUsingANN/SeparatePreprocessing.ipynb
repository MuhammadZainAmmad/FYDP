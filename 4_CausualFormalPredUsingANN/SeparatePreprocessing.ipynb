{
 "cells": [
  {
   "attachments": {},
   "cell_type": "markdown",
   "metadata": {},
   "source": [
    "# Preprocessing the Dataset"
   ]
  },
  {
   "cell_type": "code",
   "execution_count": 1,
   "metadata": {},
   "outputs": [],
   "source": [
    "import numpy as np\n",
    "from PIL import Image\n",
    "import pandas as pd"
   ]
  },
  {
   "cell_type": "code",
   "execution_count": 2,
   "metadata": {},
   "outputs": [],
   "source": [
    "df = pd.read_csv(\"../2_SeparatingMaleDataset/maleDS.csv\")"
   ]
  },
  {
   "cell_type": "code",
   "execution_count": 19,
   "metadata": {},
   "outputs": [
    {
     "data": {
      "text/html": [
       "<div>\n",
       "<style scoped>\n",
       "    .dataframe tbody tr th:only-of-type {\n",
       "        vertical-align: middle;\n",
       "    }\n",
       "\n",
       "    .dataframe tbody tr th {\n",
       "        vertical-align: top;\n",
       "    }\n",
       "\n",
       "    .dataframe thead th {\n",
       "        text-align: right;\n",
       "    }\n",
       "</style>\n",
       "<table border=\"1\" class=\"dataframe\">\n",
       "  <thead>\n",
       "    <tr style=\"text-align: right;\">\n",
       "      <th></th>\n",
       "      <th>id</th>\n",
       "      <th>gender</th>\n",
       "      <th>articleType</th>\n",
       "      <th>usage</th>\n",
       "    </tr>\n",
       "  </thead>\n",
       "  <tbody>\n",
       "    <tr>\n",
       "      <th>15</th>\n",
       "      <td>18461</td>\n",
       "      <td>Men</td>\n",
       "      <td>Deodorant</td>\n",
       "      <td>Casual</td>\n",
       "    </tr>\n",
       "    <tr>\n",
       "      <th>16</th>\n",
       "      <td>9036</td>\n",
       "      <td>Men</td>\n",
       "      <td>Formal Shoes</td>\n",
       "      <td>Formal</td>\n",
       "    </tr>\n",
       "    <tr>\n",
       "      <th>17</th>\n",
       "      <td>7990</td>\n",
       "      <td>Men</td>\n",
       "      <td>Tshirts</td>\n",
       "      <td>Sports</td>\n",
       "    </tr>\n",
       "    <tr>\n",
       "      <th>18</th>\n",
       "      <td>37812</td>\n",
       "      <td>Men</td>\n",
       "      <td>Shirts</td>\n",
       "      <td>Formal</td>\n",
       "    </tr>\n",
       "    <tr>\n",
       "      <th>19</th>\n",
       "      <td>56825</td>\n",
       "      <td>Men</td>\n",
       "      <td>Shirts</td>\n",
       "      <td>Casual</td>\n",
       "    </tr>\n",
       "    <tr>\n",
       "      <th>20</th>\n",
       "      <td>39988</td>\n",
       "      <td>Men</td>\n",
       "      <td>Casual Shoes</td>\n",
       "      <td>Casual</td>\n",
       "    </tr>\n",
       "    <tr>\n",
       "      <th>21</th>\n",
       "      <td>18839</td>\n",
       "      <td>Men</td>\n",
       "      <td>Belts</td>\n",
       "      <td>Formal</td>\n",
       "    </tr>\n",
       "    <tr>\n",
       "      <th>22</th>\n",
       "      <td>23278</td>\n",
       "      <td>Men</td>\n",
       "      <td>Watches</td>\n",
       "      <td>Casual</td>\n",
       "    </tr>\n",
       "    <tr>\n",
       "      <th>23</th>\n",
       "      <td>8580</td>\n",
       "      <td>Men</td>\n",
       "      <td>Waistcoat</td>\n",
       "      <td>Casual</td>\n",
       "    </tr>\n",
       "    <tr>\n",
       "      <th>24</th>\n",
       "      <td>3168</td>\n",
       "      <td>Men</td>\n",
       "      <td>Sports Shoes</td>\n",
       "      <td>Sports</td>\n",
       "    </tr>\n",
       "    <tr>\n",
       "      <th>25</th>\n",
       "      <td>18005</td>\n",
       "      <td>Men</td>\n",
       "      <td>Shorts</td>\n",
       "      <td>Sports</td>\n",
       "    </tr>\n",
       "    <tr>\n",
       "      <th>26</th>\n",
       "      <td>17871</td>\n",
       "      <td>Men</td>\n",
       "      <td>Briefs</td>\n",
       "      <td>Casual</td>\n",
       "    </tr>\n",
       "    <tr>\n",
       "      <th>27</th>\n",
       "      <td>9452</td>\n",
       "      <td>Men</td>\n",
       "      <td>Shirts</td>\n",
       "      <td>Formal</td>\n",
       "    </tr>\n",
       "    <tr>\n",
       "      <th>28</th>\n",
       "      <td>10268</td>\n",
       "      <td>Men</td>\n",
       "      <td>Formal Shoes</td>\n",
       "      <td>Formal</td>\n",
       "    </tr>\n",
       "    <tr>\n",
       "      <th>29</th>\n",
       "      <td>32138</td>\n",
       "      <td>Men</td>\n",
       "      <td>Briefs</td>\n",
       "      <td>Casual</td>\n",
       "    </tr>\n",
       "  </tbody>\n",
       "</table>\n",
       "</div>"
      ],
      "text/plain": [
       "       id gender   articleType   usage\n",
       "15  18461    Men     Deodorant  Casual\n",
       "16   9036    Men  Formal Shoes  Formal\n",
       "17   7990    Men       Tshirts  Sports\n",
       "18  37812    Men        Shirts  Formal\n",
       "19  56825    Men        Shirts  Casual\n",
       "20  39988    Men  Casual Shoes  Casual\n",
       "21  18839    Men         Belts  Formal\n",
       "22  23278    Men       Watches  Casual\n",
       "23   8580    Men     Waistcoat  Casual\n",
       "24   3168    Men  Sports Shoes  Sports\n",
       "25  18005    Men        Shorts  Sports\n",
       "26  17871    Men        Briefs  Casual\n",
       "27   9452    Men        Shirts  Formal\n",
       "28  10268    Men  Formal Shoes  Formal\n",
       "29  32138    Men        Briefs  Casual"
      ]
     },
     "execution_count": 19,
     "metadata": {},
     "output_type": "execute_result"
    }
   ],
   "source": [
    "df.iloc[15:30].head(15) # More formal from 15 to 29"
   ]
  },
  {
   "cell_type": "code",
   "execution_count": 3,
   "metadata": {},
   "outputs": [
    {
     "data": {
      "text/plain": [
       "id             24781\n",
       "gender         24781\n",
       "articleType    24781\n",
       "usage          24781\n",
       "dtype: int64"
      ]
     },
     "execution_count": 3,
     "metadata": {},
     "output_type": "execute_result"
    }
   ],
   "source": [
    "df.count()"
   ]
  },
  {
   "cell_type": "code",
   "execution_count": 4,
   "metadata": {},
   "outputs": [
    {
     "data": {
      "text/plain": [
       "(24781, 80, 60, 3)"
      ]
     },
     "execution_count": 4,
     "metadata": {},
     "output_type": "execute_result"
    }
   ],
   "source": [
    "# Directory of the images\n",
    "folderPathOfImage = \"../2_SeparatingMaleDataset/maleDS/\"\n",
    "\n",
    "NumpyArrays = []\n",
    "for id in df['id']:\n",
    "    imagePathVariable = folderPathOfImage + str(id)+'.jpg'\n",
    "    image = Image.open(imagePathVariable)\n",
    "    numpyArrayImg = np.array(image)\n",
    "    NumpyArrays.append(numpyArrayImg)\n",
    "\n",
    "df_images = np.array(NumpyArrays)\n",
    "df_images.shape"
   ]
  },
  {
   "cell_type": "code",
   "execution_count": 7,
   "metadata": {},
   "outputs": [],
   "source": [
    "np.save('df_images.npy', df_images)"
   ]
  },
  {
   "cell_type": "code",
   "execution_count": 8,
   "metadata": {},
   "outputs": [
    {
     "data": {
      "text/plain": [
       "0     Casual\n",
       "1     Casual\n",
       "2     Casual\n",
       "3     Casual\n",
       "4     Casual\n",
       "5     Ethnic\n",
       "6     Casual\n",
       "7     Casual\n",
       "8     Casual\n",
       "9     Casual\n",
       "10    Formal\n",
       "11    Casual\n",
       "Name: usage, dtype: object"
      ]
     },
     "execution_count": 8,
     "metadata": {},
     "output_type": "execute_result"
    }
   ],
   "source": [
    "# Encoding the usage column into Casual and Formal\n",
    "df_usage = df['usage']"
   ]
  },
  {
   "cell_type": "code",
   "execution_count": 10,
   "metadata": {},
   "outputs": [
    {
     "name": "stdout",
     "output_type": "stream",
     "text": [
      "<class 'numpy.ndarray'>\n"
     ]
    },
    {
     "data": {
      "text/plain": [
       "(24781,)"
      ]
     },
     "execution_count": 10,
     "metadata": {},
     "output_type": "execute_result"
    }
   ],
   "source": [
    "# Defining Lambda Function to encode the values of the column\n",
    "encoderFunction = lambda valueOfColumn: 1 if (valueOfColumn == 'Formal') else 0\n",
    "df_usageEncoded = np.vectorize(encoderFunction)(df_usage)\n",
    "print(type(df_usageEncoded))\n",
    "df_usageEncoded.shape # (24781,)"
   ]
  },
  {
   "cell_type": "code",
   "execution_count": 11,
   "metadata": {},
   "outputs": [],
   "source": [
    "np.save('df_usageEncoded.npy', df_usageEncoded)"
   ]
  },
  {
   "cell_type": "code",
   "execution_count": 12,
   "metadata": {},
   "outputs": [
    {
     "name": "stdout",
     "output_type": "stream",
     "text": [
      "formal count (1): 2205\n",
      "casual count (0): 22576\n"
     ]
    }
   ],
   "source": [
    "formalCount, casualCount = 0, 0\n",
    "for i in df_usageEncoded:\n",
    "    # print(i)\n",
    "    if i ==1:\n",
    "        formalCount += 1\n",
    "    elif i ==0:\n",
    "        casualCount += 1\n",
    "print(f'formal count (1): {formalCount}') # 2,205 i.e. correct number of 1s (formal)\n",
    "print(f'casual count (0): {casualCount}') # 22,556 i.e. correct number of 0s"
   ]
  },
  {
   "cell_type": "code",
   "execution_count": 20,
   "metadata": {},
   "outputs": [
    {
     "name": "stdout",
     "output_type": "stream",
     "text": [
      "15 0\n",
      "16 1\n",
      "17 0\n",
      "18 1\n",
      "19 0\n",
      "20 0\n",
      "21 1\n",
      "22 0\n",
      "23 0\n",
      "24 0\n",
      "25 0\n",
      "26 0\n",
      "27 1\n",
      "28 1\n",
      "29 0\n"
     ]
    }
   ],
   "source": [
    "# checking the saved numpy array of encoded usage column \n",
    "encodedUsage = np.load('./df_usageEncoded.npy')\n",
    "encodedUsage\n",
    "for i in range(15,30):\n",
    "    print(i, encodedUsage[i])"
   ]
  }
 ],
 "metadata": {
  "kernelspec": {
   "display_name": "Python 3",
   "language": "python",
   "name": "python3"
  },
  "language_info": {
   "codemirror_mode": {
    "name": "ipython",
    "version": 3
   },
   "file_extension": ".py",
   "mimetype": "text/x-python",
   "name": "python",
   "nbconvert_exporter": "python",
   "pygments_lexer": "ipython3",
   "version": "3.9.5"
  },
  "orig_nbformat": 4
 },
 "nbformat": 4,
 "nbformat_minor": 2
}
