{
 "cells": [
  {
   "cell_type": "markdown",
   "metadata": {},
   "source": [
    "# Preprocessing the Dataset"
   ]
  },
  {
   "cell_type": "code",
   "execution_count": 3,
   "metadata": {},
   "outputs": [],
   "source": [
    "import numpy as np\n",
    "from PIL import Image\n",
    "import pandas as pd"
   ]
  },
  {
   "cell_type": "code",
   "execution_count": 4,
   "metadata": {},
   "outputs": [],
   "source": [
    "df = pd.read_csv(\"../2_SeparatingMaleDataset/maleDS.csv\")"
   ]
  },
  {
   "cell_type": "code",
   "execution_count": 5,
   "metadata": {},
   "outputs": [
    {
     "data": {
      "text/plain": [
       "id             24781\n",
       "gender         24781\n",
       "articleType    24781\n",
       "usage          24781\n",
       "dtype: int64"
      ]
     },
     "execution_count": 5,
     "metadata": {},
     "output_type": "execute_result"
    }
   ],
   "source": [
    "df.count()"
   ]
  },
  {
   "cell_type": "code",
   "execution_count": 6,
   "metadata": {},
   "outputs": [
    {
     "data": {
      "text/plain": [
       "(24781, 80, 60, 3)"
      ]
     },
     "execution_count": 6,
     "metadata": {},
     "output_type": "execute_result"
    }
   ],
   "source": [
    "# Directory of the images\n",
    "folderPathOfImage = \"../2_SeparatingMaleDataset/maleDS/\"\n",
    "\n",
    "NumpyArrays = []\n",
    "for id in df['id']:\n",
    "    imagePathVariable = folderPathOfImage + str(id)+'.jpg'\n",
    "    image = Image.open(imagePathVariable)\n",
    "    numpyArrayImg = np.array(image)\n",
    "    NumpyArrays.append(numpyArrayImg)\n",
    "\n",
    "df_images = np.array(NumpyArrays)\n",
    "df_images.shape"
   ]
  },
  {
   "cell_type": "code",
   "execution_count": 7,
   "metadata": {},
   "outputs": [],
   "source": [
    "np.save('df_images.npy', df_images)"
   ]
  },
  {
   "cell_type": "code",
   "execution_count": 8,
   "metadata": {},
   "outputs": [
    {
     "data": {
      "text/plain": [
       "(24781,)"
      ]
     },
     "execution_count": 8,
     "metadata": {},
     "output_type": "execute_result"
    }
   ],
   "source": [
    "# Encoding the usage column into Casual and Formal\n",
    "df_usage = df['usage']\n",
    "df_usage.head()\n",
    "df_usage.shape # (24761,)"
   ]
  },
  {
   "cell_type": "code",
   "execution_count": 9,
   "metadata": {},
   "outputs": [
    {
     "name": "stdout",
     "output_type": "stream",
     "text": [
      "<class 'numpy.ndarray'>\n"
     ]
    },
    {
     "data": {
      "text/plain": [
       "(24781,)"
      ]
     },
     "execution_count": 9,
     "metadata": {},
     "output_type": "execute_result"
    }
   ],
   "source": [
    "# Defining Lambda Function to encode the values of the column\n",
    "encoderFunction = lambda valueOfColumn: 1 if (valueOfColumn == 'Formal') else 0\n",
    "df_usageEncoded = np.vectorize(encoderFunction)(df_usage)\n",
    "print(type(df_usageEncoded))\n",
    "df_usageEncoded.shape # (24761,)"
   ]
  },
  {
   "cell_type": "code",
   "execution_count": 10,
   "metadata": {},
   "outputs": [],
   "source": [
    "np.save('df_usageEncoded.npy', df_usageEncoded)"
   ]
  },
  {
   "cell_type": "code",
   "execution_count": null,
   "metadata": {},
   "outputs": [
    {
     "name": "stdout",
     "output_type": "stream",
     "text": [
      "formal count (1): 2205\n",
      "casual count (0): 22576\n"
     ]
    }
   ],
   "source": [
    "formalCount, casualCount = 0, 0\n",
    "for i in df_usageEncoded:\n",
    "    # print(i)\n",
    "    if i ==1:\n",
    "        formalCount += 1\n",
    "    elif i ==0:\n",
    "        casualCount += 1\n",
    "print(f'formal count (1): {formalCount}') # 2,205 i.e. correct number of 1s (formal)\n",
    "print(f'casual count (0): {casualCount}') # 22,556 i.e. correct number of 0s"
   ]
  }
 ],
 "metadata": {
  "kernelspec": {
   "display_name": "Python 3",
   "language": "python",
   "name": "python3"
  },
  "language_info": {
   "codemirror_mode": {
    "name": "ipython",
    "version": 3
   },
   "file_extension": ".py",
   "mimetype": "text/x-python",
   "name": "python",
   "nbconvert_exporter": "python",
   "pygments_lexer": "ipython3",
   "version": "3.9.5"
  },
  "orig_nbformat": 4
 },
 "nbformat": 4,
 "nbformat_minor": 2
}
