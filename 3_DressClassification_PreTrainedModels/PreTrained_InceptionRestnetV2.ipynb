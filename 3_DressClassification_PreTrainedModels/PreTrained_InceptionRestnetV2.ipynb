{
 "cells": [
  {
   "cell_type": "markdown",
   "metadata": {},
   "source": [
    "## PreTrained Keras Model: InceptionResNetV2"
   ]
  },
  {
   "cell_type": "code",
   "execution_count": null,
   "metadata": {},
   "outputs": [],
   "source": [
    "import numpy as np\n",
    "from tensorflow.keras.preprocessing import image\n",
    "from tensorflow.keras.applications.inception_resnet_v2 import InceptionResNetV2, preprocess_input, decode_predictions\n",
    "import matplotlib.pyplot as plt\n",
    "import os\n",
    "\n",
    "# Load pre-trained Inception-ResNet-v2 model\n",
    "model = InceptionResNetV2(weights='imagenet')\n",
    "\n",
    "# Set image size for the model\n",
    "img_width, img_height = 299, 299\n",
    "\n",
    "# Define a function to predict the class of an image\n",
    "def predict_class(model, img_path):\n",
    "    # Load image and preprocess it\n",
    "    img = image.load_img(img_path, target_size=(img_width, img_height))\n",
    "    x = image.img_to_array(img)\n",
    "    x = np.expand_dims(x, axis=0)\n",
    "    x = preprocess_input(x)\n",
    "\n",
    "    # Make prediction and decode the results\n",
    "    preds = model.predict(x)\n",
    "    decoded_preds = decode_predictions(preds, top=1)[0]\n",
    "    label = decoded_preds[0][1]    \n",
    "\n",
    "    # Display the image and the prediction\n",
    "    plt.imshow(img)\n",
    "    plt.axis('off')\n",
    "    plt.title('Predicted class: {}'.format(label))\n",
    "    plt.show()\n",
    "\n",
    "# Defining a list of image paths\n",
    "dir_path = '../2_SeparatingMaleDataset/maleDatasetImages/'\n",
    "img_paths = [dir_path + '1163.jpg', \n",
    "             dir_path + '1525.jpg', \n",
    "             dir_path + '1541.jpg', \n",
    "             dir_path + '1619.jpg']\n",
    "\n",
    "# Predicting all the images in the folder\n",
    "# img_dir = '../2_SeparatingMaleDataset/maleDatasetImages/'\n",
    "# img_paths = [os.path.join(img_dir, filename) for filename in os.listdir(img_dir) if filename.endswith('.jpg')]\n",
    "\n",
    "# Loop over the image paths and make predictions\n",
    "for img_path in img_paths:\n",
    "    label = predict_class(model, img_path)\n"
   ]
  }
 ],
 "metadata": {
  "kernelspec": {
   "display_name": "Python 3.11.2 64-bit",
   "language": "python",
   "name": "python3"
  },
  "language_info": {
   "codemirror_mode": {
    "name": "ipython",
    "version": 3
   },
   "file_extension": ".py",
   "mimetype": "text/x-python",
   "name": "python",
   "nbconvert_exporter": "python",
   "pygments_lexer": "ipython3",
   "version": "3.11.2"
  },
  "orig_nbformat": 4,
  "vscode": {
   "interpreter": {
    "hash": "69713e280fccb9aa802931bf1b98f79efcfe938b3ab1e86cc85b2e647522a81d"
   }
  }
 },
 "nbformat": 4,
 "nbformat_minor": 2
}
