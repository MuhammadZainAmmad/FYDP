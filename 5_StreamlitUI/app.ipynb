{
 "cells": [
  {
   "cell_type": "code",
   "execution_count": 1,
   "metadata": {},
   "outputs": [],
   "source": [
    "import streamlit as st\n",
    "import pandas as pd\n",
    "from keras.models import load_model"
   ]
  },
  {
   "cell_type": "code",
   "execution_count": 2,
   "metadata": {},
   "outputs": [],
   "source": [
    "# Load the saved Keras model\n",
    "model = load_model('../4_CausualFormalPredUsingANN/ANN_2Hidden.h5')"
   ]
  },
  {
   "cell_type": "code",
   "execution_count": 3,
   "metadata": {},
   "outputs": [],
   "source": [
    "# Define a function to make predictions on new data\n",
    "def predict(formalness, color, pattern, texture):\n",
    "    # Convert the input values to a Pandas DataFrame\n",
    "    input_df = pd.DataFrame({'Formalness': formalness,\n",
    "                             'Color': color,\n",
    "                             'Pattern': pattern,\n",
    "                             'Texture': texture},\n",
    "                            index=[0])\n",
    "    # Preprocess the input data as needed\n",
    "    # ...\n",
    "    # Make a prediction using the loaded Keras model\n",
    "    prediction = model.predict(input_df)\n",
    "    # Return the predicted formalness label (0 or 1)\n",
    "    return int(prediction[0])"
   ]
  },
  {
   "cell_type": "code",
   "execution_count": 4,
   "metadata": {},
   "outputs": [],
   "source": [
    "# Define the Streamlit app\n",
    "def app():\n",
    "    st.title('Formalness Predictor')\n",
    "    st.markdown('Enter the following details to predict whether a clothing item is formal or informal:')\n",
    "    formalness = st.slider('Formalness', 0, 10)\n",
    "    color = st.selectbox('Color', ['Red', 'Green', 'Blue'])\n",
    "    pattern = st.selectbox('Pattern', ['Solid', 'Striped', 'Polka Dot'])\n",
    "    texture = st.selectbox('Texture', ['Smooth', 'Rough', 'Fuzzy'])\n",
    "    if st.button('Predict'):\n",
    "        prediction = predict(formalness, color, pattern, texture)\n",
    "        if prediction == 1:\n",
    "            st.markdown('This clothing item is **formal**.')\n",
    "        else:\n",
    "            st.markdown('This clothing item is **informal**.')\n"
   ]
  },
  {
   "cell_type": "code",
   "execution_count": 5,
   "metadata": {},
   "outputs": [
    {
     "name": "stderr",
     "output_type": "stream",
     "text": [
      "2023-05-02 21:55:08.156 \n",
      "  \u001b[33m\u001b[1mWarning:\u001b[0m to view this Streamlit app on a browser, run it with the following\n",
      "  command:\n",
      "\n",
      "    streamlit run C:\\Users\\zaina\\AppData\\Roaming\\Python\\Python39\\site-packages\\ipykernel_launcher.py [ARGUMENTS]\n",
      "2023-05-02 21:55:08.158 Session state does not function when running a script without `streamlit run`\n"
     ]
    }
   ],
   "source": [
    "if __name__ == '__main__':\n",
    "    app()\n"
   ]
  }
 ],
 "metadata": {
  "kernelspec": {
   "display_name": "Python 3",
   "language": "python",
   "name": "python3"
  },
  "language_info": {
   "codemirror_mode": {
    "name": "ipython",
    "version": 3
   },
   "file_extension": ".py",
   "mimetype": "text/x-python",
   "name": "python",
   "nbconvert_exporter": "python",
   "pygments_lexer": "ipython3",
   "version": "3.9.5"
  },
  "orig_nbformat": 4
 },
 "nbformat": 4,
 "nbformat_minor": 2
}
