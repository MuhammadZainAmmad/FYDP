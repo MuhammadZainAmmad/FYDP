{
 "cells": [
  {
   "cell_type": "code",
   "execution_count": 16,
   "metadata": {},
   "outputs": [],
   "source": [
    "import numpy as np\n",
    "import tensorflow as tf\n",
    "from tensorflow.keras.layers import Conv2D, MaxPooling2D, Flatten, Dense, Dropout\n",
    "from tensorflow.keras.optimizers import Adam\n",
    "from sklearn.model_selection import train_test_split\n",
    "from sklearn.preprocessing import LabelEncoder\n",
    "from PIL import Image\n",
    "import pandas as pd\n",
    "\n",
    "from sklearn.metrics import precision_score, recall_score"
   ]
  },
  {
   "cell_type": "code",
   "execution_count": 2,
   "metadata": {},
   "outputs": [],
   "source": [
    "df = pd.read_csv('../3_PreprocessingMaleDS/final.csv')"
   ]
  },
  {
   "cell_type": "code",
   "execution_count": 3,
   "metadata": {},
   "outputs": [],
   "source": [
    "labels = df['usage']"
   ]
  },
  {
   "cell_type": "code",
   "execution_count": 6,
   "metadata": {},
   "outputs": [],
   "source": [
    "image_paths = [f'../3_PreprocessingMaleDS/finalDS/{str(img_id)}.jpg'  for img_id in df['id']]\n",
    "images = [np.array(Image.open(img_path).resize((80, 60))) for img_path in image_paths]"
   ]
  },
  {
   "cell_type": "code",
   "execution_count": 7,
   "metadata": {},
   "outputs": [],
   "source": [
    "images = np.array(images)\n",
    "labels = np.array(labels)"
   ]
  },
  {
   "cell_type": "code",
   "execution_count": 12,
   "metadata": {},
   "outputs": [],
   "source": [
    "label_encoder = LabelEncoder()\n",
    "labels = label_encoder.fit_transform(labels)"
   ]
  },
  {
   "cell_type": "code",
   "execution_count": 13,
   "metadata": {},
   "outputs": [],
   "source": [
    "X_train, X_val, y_train, y_val = train_test_split(images, labels, test_size=0.2, random_state=42)"
   ]
  },
  {
   "cell_type": "code",
   "execution_count": 9,
   "metadata": {},
   "outputs": [],
   "source": [
    "model = tf.keras.Sequential([\n",
    "    Conv2D(32, (3, 3), activation='relu', input_shape=(60, 80, 3)),\n",
    "    MaxPooling2D((2, 2)),\n",
    "    Conv2D(64, (3, 3), activation='relu'),\n",
    "    MaxPooling2D((2, 2)),\n",
    "    Conv2D(128, (3, 3), activation='relu'),\n",
    "    MaxPooling2D((2, 2)),\n",
    "    Flatten(),\n",
    "    Dense(128, activation='relu'),\n",
    "    Dropout(0.5),\n",
    "    Dense(2, activation='softmax')  # 2 classes: 'Informal' and 'Formal'\n",
    "])"
   ]
  },
  {
   "cell_type": "code",
   "execution_count": 14,
   "metadata": {},
   "outputs": [],
   "source": [
    "model.compile(optimizer=Adam(learning_rate=0.0001),\n",
    "              loss='sparse_categorical_crossentropy',\n",
    "              metrics=['accuracy'])"
   ]
  },
  {
   "cell_type": "code",
   "execution_count": 15,
   "metadata": {},
   "outputs": [
    {
     "name": "stdout",
     "output_type": "stream",
     "text": [
      "Epoch 1/10\n",
      "272/272 [==============================] - 50s 177ms/step - loss: 0.9926 - accuracy: 0.8933 - val_loss: 0.1775 - val_accuracy: 0.9382\n",
      "Epoch 2/10\n",
      "272/272 [==============================] - 50s 183ms/step - loss: 0.2009 - accuracy: 0.9281 - val_loss: 0.1611 - val_accuracy: 0.9373\n",
      "Epoch 3/10\n",
      "272/272 [==============================] - 69s 256ms/step - loss: 0.1816 - accuracy: 0.9335 - val_loss: 0.1586 - val_accuracy: 0.9401\n",
      "Epoch 4/10\n",
      "272/272 [==============================] - 71s 262ms/step - loss: 0.1677 - accuracy: 0.9415 - val_loss: 0.1875 - val_accuracy: 0.9313\n",
      "Epoch 5/10\n",
      "272/272 [==============================] - 92s 338ms/step - loss: 0.1528 - accuracy: 0.9413 - val_loss: 0.1419 - val_accuracy: 0.9479\n",
      "Epoch 6/10\n",
      "272/272 [==============================] - 72s 264ms/step - loss: 0.1463 - accuracy: 0.9453 - val_loss: 0.1397 - val_accuracy: 0.9438\n",
      "Epoch 7/10\n",
      "272/272 [==============================] - 70s 259ms/step - loss: 0.1388 - accuracy: 0.9483 - val_loss: 0.1451 - val_accuracy: 0.9465\n",
      "Epoch 8/10\n",
      "272/272 [==============================] - 55s 202ms/step - loss: 0.1389 - accuracy: 0.9480 - val_loss: 0.1498 - val_accuracy: 0.9479\n",
      "Epoch 9/10\n",
      "272/272 [==============================] - 52s 190ms/step - loss: 0.1308 - accuracy: 0.9503 - val_loss: 0.1336 - val_accuracy: 0.9534\n",
      "Epoch 10/10\n",
      "272/272 [==============================] - 53s 193ms/step - loss: 0.1247 - accuracy: 0.9524 - val_loss: 0.1309 - val_accuracy: 0.9484\n"
     ]
    },
    {
     "data": {
      "text/plain": [
       "<keras.src.callbacks.History at 0x2261895b490>"
      ]
     },
     "execution_count": 15,
     "metadata": {},
     "output_type": "execute_result"
    }
   ],
   "source": [
    "model.fit(X_train, y_train, epochs=10, validation_data=(X_val, y_val))"
   ]
  },
  {
   "cell_type": "code",
   "execution_count": 17,
   "metadata": {},
   "outputs": [
    {
     "name": "stdout",
     "output_type": "stream",
     "text": [
      "68/68 [==============================] - 3s 45ms/step\n",
      "Precision: 0.8436\n",
      "Recall: 0.6426\n"
     ]
    }
   ],
   "source": [
    "# Get model predictions on the validation dataset\n",
    "predicted_probabilities = model.predict(X_val)\n",
    "predicted_labels = np.argmax(predicted_probabilities, axis=1)\n",
    "\n",
    "# Calculate precision and recall\n",
    "precision = precision_score(y_val, predicted_labels)\n",
    "recall = recall_score(y_val, predicted_labels)\n",
    "\n",
    "print(f'Precision: {precision:.4f}')\n",
    "print(f'Recall: {recall:.4f}')\n"
   ]
  },
  {
   "cell_type": "code",
   "execution_count": null,
   "metadata": {},
   "outputs": [],
   "source": [
    "model.save('trained_cnn_model.h5')"
   ]
  },
  {
   "cell_type": "code",
   "execution_count": null,
   "metadata": {},
   "outputs": [],
   "source": [
    "\n",
    "\n",
    "\n",
    "# Convert labels to numeric values\n",
    "\n",
    "\n",
    "# Split the dataset into training and validation sets\n",
    "\n",
    "\n",
    "\n",
    "\n",
    "# Compile the model\n",
    "\n",
    "\n",
    "# Train the model\n",
    "\n",
    "\n",
    "# Save the trained model\n",
    "\n"
   ]
  }
 ],
 "metadata": {
  "kernelspec": {
   "display_name": "Python 3",
   "language": "python",
   "name": "python3"
  },
  "language_info": {
   "codemirror_mode": {
    "name": "ipython",
    "version": 3
   },
   "file_extension": ".py",
   "mimetype": "text/x-python",
   "name": "python",
   "nbconvert_exporter": "python",
   "pygments_lexer": "ipython3",
   "version": "3.9.7"
  },
  "orig_nbformat": 4
 },
 "nbformat": 4,
 "nbformat_minor": 2
}
