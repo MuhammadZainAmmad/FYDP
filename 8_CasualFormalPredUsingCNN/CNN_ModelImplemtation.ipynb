{
 "cells": [
  {
   "cell_type": "code",
   "execution_count": 2,
   "metadata": {},
   "outputs": [],
   "source": [
    "import numpy as np\n",
    "import tensorflow as tf\n",
    "from tensorflow.keras.layers import Conv2D, MaxPooling2D, Flatten, Dense, Dropout\n",
    "from tensorflow.keras.optimizers import Adam\n",
    "from sklearn.model_selection import train_test_split\n",
    "from sklearn.preprocessing import LabelEncoder\n",
    "from PIL import Image\n",
    "import pandas as pd\n",
    "\n",
    "from sklearn.metrics import precision_score, recall_score"
   ]
  },
  {
   "cell_type": "code",
   "execution_count": 16,
   "metadata": {},
   "outputs": [],
   "source": [
    "df = pd.read_csv('../3_PreprocessingMaleDS/final.csv')"
   ]
  },
  {
   "cell_type": "code",
   "execution_count": 17,
   "metadata": {},
   "outputs": [],
   "source": [
    "labels_usage = df['usage']\n",
    "labels_articleType = df['articleType']"
   ]
  },
  {
   "cell_type": "code",
   "execution_count": 18,
   "metadata": {},
   "outputs": [],
   "source": [
    "image_paths = [f'../3_PreprocessingMaleDS/finalDS/{str(img_id)}.jpg'  for img_id in df['id']]\n",
    "images = [np.array(Image.open(img_path).resize((80, 60))) for img_path in image_paths]\n",
    "# images = [np.array(Image.open(img_path).resize((224, 224))) for img_path in image_paths] # for transfer learning"
   ]
  },
  {
   "cell_type": "code",
   "execution_count": 19,
   "metadata": {},
   "outputs": [],
   "source": [
    "images = np.array(images)\n",
    "labels_usage = np.array(labels_usage)\n",
    "labels_articleType = np.array(labels_articleType)"
   ]
  },
  {
   "cell_type": "code",
   "execution_count": 20,
   "metadata": {},
   "outputs": [],
   "source": [
    "label_encoder = LabelEncoder()\n",
    "labels_usage = label_encoder.fit_transform(labels_usage)\n",
    "labels_articleType = label_encoder.fit_transform(labels_articleType)"
   ]
  },
  {
   "cell_type": "markdown",
   "metadata": {},
   "source": [
    "# CNN From Scratch For \"usage\" "
   ]
  },
  {
   "cell_type": "code",
   "execution_count": 8,
   "metadata": {},
   "outputs": [],
   "source": [
    "X_train, X_val, y_train, y_val = train_test_split(images, labels_usage, test_size=0.2, random_state=42)"
   ]
  },
  {
   "cell_type": "code",
   "execution_count": 10,
   "metadata": {},
   "outputs": [],
   "source": [
    "model_usage = tf.keras.Sequential([\n",
    "    Conv2D(32, (3, 3), activation='relu', input_shape=(60, 80, 3)),\n",
    "    MaxPooling2D((2, 2)),\n",
    "    Conv2D(64, (3, 3), activation='relu'),\n",
    "    MaxPooling2D((2, 2)),\n",
    "    Conv2D(128, (3, 3), activation='relu'),\n",
    "    MaxPooling2D((2, 2)),\n",
    "    Flatten(),\n",
    "    Dense(128, activation='relu'),\n",
    "    Dropout(0.5),\n",
    "    Dense(2, activation='softmax')  # 2 classes: 'Informal' and 'Formal'\n",
    "])"
   ]
  },
  {
   "cell_type": "code",
   "execution_count": 11,
   "metadata": {},
   "outputs": [],
   "source": [
    "model_usage.compile(optimizer=Adam(learning_rate=0.0001),\n",
    "              loss='sparse_categorical_crossentropy',\n",
    "              metrics=['accuracy'])"
   ]
  },
  {
   "cell_type": "code",
   "execution_count": 12,
   "metadata": {},
   "outputs": [
    {
     "name": "stdout",
     "output_type": "stream",
     "text": [
      "Epoch 1/20\n",
      "272/272 [==============================] - 44s 157ms/step - loss: 1.0532 - accuracy: 0.8897 - val_loss: 0.2188 - val_accuracy: 0.9179\n",
      "Epoch 2/20\n",
      "272/272 [==============================] - 45s 165ms/step - loss: 0.2000 - accuracy: 0.9240 - val_loss: 0.1610 - val_accuracy: 0.9396\n",
      "Epoch 3/20\n",
      "272/272 [==============================] - 50s 183ms/step - loss: 0.1757 - accuracy: 0.9322 - val_loss: 0.1807 - val_accuracy: 0.9368\n",
      "Epoch 4/20\n",
      "272/272 [==============================] - 50s 183ms/step - loss: 0.1689 - accuracy: 0.9389 - val_loss: 0.1528 - val_accuracy: 0.9419\n",
      "Epoch 5/20\n",
      "272/272 [==============================] - 49s 182ms/step - loss: 0.1520 - accuracy: 0.9453 - val_loss: 0.1621 - val_accuracy: 0.9410\n",
      "Epoch 6/20\n",
      "272/272 [==============================] - 49s 182ms/step - loss: 0.1501 - accuracy: 0.9455 - val_loss: 0.1585 - val_accuracy: 0.9414\n",
      "Epoch 7/20\n",
      "272/272 [==============================] - 49s 180ms/step - loss: 0.1357 - accuracy: 0.9496 - val_loss: 0.1516 - val_accuracy: 0.9428\n",
      "Epoch 8/20\n",
      "272/272 [==============================] - 51s 188ms/step - loss: 0.1341 - accuracy: 0.9508 - val_loss: 0.1390 - val_accuracy: 0.9479\n",
      "Epoch 9/20\n",
      "272/272 [==============================] - 83s 305ms/step - loss: 0.1197 - accuracy: 0.9565 - val_loss: 0.1256 - val_accuracy: 0.9562\n",
      "Epoch 10/20\n",
      "272/272 [==============================] - 79s 292ms/step - loss: 0.1178 - accuracy: 0.9571 - val_loss: 0.1341 - val_accuracy: 0.9521\n",
      "Epoch 11/20\n",
      "272/272 [==============================] - 69s 254ms/step - loss: 0.1096 - accuracy: 0.9615 - val_loss: 0.1395 - val_accuracy: 0.9488\n",
      "Epoch 12/20\n",
      "272/272 [==============================] - 77s 285ms/step - loss: 0.1068 - accuracy: 0.9607 - val_loss: 0.1131 - val_accuracy: 0.9571\n",
      "Epoch 13/20\n",
      "272/272 [==============================] - 63s 230ms/step - loss: 0.0961 - accuracy: 0.9631 - val_loss: 0.1245 - val_accuracy: 0.9580\n",
      "Epoch 14/20\n",
      "272/272 [==============================] - 69s 256ms/step - loss: 0.0990 - accuracy: 0.9623 - val_loss: 0.1178 - val_accuracy: 0.9599\n",
      "Epoch 15/20\n",
      "272/272 [==============================] - 47s 173ms/step - loss: 0.1034 - accuracy: 0.9626 - val_loss: 0.1095 - val_accuracy: 0.9594\n",
      "Epoch 16/20\n",
      "272/272 [==============================] - 52s 191ms/step - loss: 0.0881 - accuracy: 0.9658 - val_loss: 0.1121 - val_accuracy: 0.9608\n",
      "Epoch 17/20\n",
      "272/272 [==============================] - 53s 194ms/step - loss: 0.0838 - accuracy: 0.9689 - val_loss: 0.1284 - val_accuracy: 0.9636\n",
      "Epoch 18/20\n",
      "272/272 [==============================] - 53s 195ms/step - loss: 0.0748 - accuracy: 0.9718 - val_loss: 0.1329 - val_accuracy: 0.9645\n",
      "Epoch 19/20\n",
      "272/272 [==============================] - 46s 168ms/step - loss: 0.0717 - accuracy: 0.9712 - val_loss: 0.1239 - val_accuracy: 0.9631\n",
      "Epoch 20/20\n",
      "272/272 [==============================] - 51s 186ms/step - loss: 0.0709 - accuracy: 0.9733 - val_loss: 0.1110 - val_accuracy: 0.9654\n"
     ]
    },
    {
     "data": {
      "text/plain": [
       "<keras.src.callbacks.History at 0x1901cebc070>"
      ]
     },
     "execution_count": 12,
     "metadata": {},
     "output_type": "execute_result"
    }
   ],
   "source": [
    "model_usage.fit(X_train, y_train, epochs=20, validation_data=(X_val, y_val))"
   ]
  },
  {
   "cell_type": "code",
   "execution_count": 13,
   "metadata": {},
   "outputs": [
    {
     "name": "stdout",
     "output_type": "stream",
     "text": [
      "68/68 [==============================] - 3s 45ms/step\n",
      "Precision: 0.8419\n",
      "Recall: 0.8383\n"
     ]
    }
   ],
   "source": [
    "predicted_probabilities = model_usage.predict(X_val)\n",
    "predicted_labels = np.argmax(predicted_probabilities, axis=1)\n",
    "\n",
    "precision = precision_score(y_val, predicted_labels)\n",
    "recall = recall_score(y_val, predicted_labels)\n",
    "\n",
    "print(f'Precision: {precision:.4f}')\n",
    "print(f'Recall: {recall:.4f}')\n"
   ]
  },
  {
   "cell_type": "code",
   "execution_count": 14,
   "metadata": {},
   "outputs": [
    {
     "name": "stderr",
     "output_type": "stream",
     "text": [
      "C:\\Users\\Electro Store\\AppData\\Roaming\\Python\\Python39\\site-packages\\keras\\src\\engine\\training.py:3000: UserWarning: You are saving your model as an HDF5 file via `model.save()`. This file format is considered legacy. We recommend using instead the native Keras format, e.g. `model.save('my_model.keras')`.\n",
      "  saving_api.save_model(\n"
     ]
    }
   ],
   "source": [
    "model_usage.save('cnn_usage.h5')"
   ]
  },
  {
   "cell_type": "markdown",
   "metadata": {},
   "source": [
    "# CNN From Scratch For \"articleType\""
   ]
  },
  {
   "cell_type": "code",
   "execution_count": 21,
   "metadata": {},
   "outputs": [],
   "source": [
    "X_train, X_val, y_train, y_val = train_test_split(images, labels_articleType, test_size=0.2, random_state=42)"
   ]
  },
  {
   "cell_type": "code",
   "execution_count": 22,
   "metadata": {},
   "outputs": [],
   "source": [
    "model_articleType = tf.keras.Sequential([\n",
    "    Conv2D(32, (3, 3), activation='relu', input_shape=(60, 80, 3)),\n",
    "    MaxPooling2D((2, 2)),\n",
    "    Conv2D(64, (3, 3), activation='relu'),\n",
    "    MaxPooling2D((2, 2)),\n",
    "    Conv2D(128, (3, 3), activation='relu'),\n",
    "    MaxPooling2D((2, 2)),\n",
    "    Flatten(),\n",
    "    Dense(128, activation='relu'),\n",
    "    Dropout(0.5),\n",
    "    Dense(3, activation='softmax')  # 3 classes: 'shirt', 'tshirt' and 'trouser'\n",
    "])"
   ]
  },
  {
   "cell_type": "code",
   "execution_count": 23,
   "metadata": {},
   "outputs": [],
   "source": [
    "model_articleType.compile(optimizer=Adam(learning_rate=0.0001),\n",
    "              loss='sparse_categorical_crossentropy',\n",
    "              metrics=['accuracy'])"
   ]
  },
  {
   "cell_type": "code",
   "execution_count": 24,
   "metadata": {},
   "outputs": [
    {
     "name": "stdout",
     "output_type": "stream",
     "text": [
      "Epoch 1/20\n",
      "272/272 [==============================] - 43s 155ms/step - loss: 1.3556 - accuracy: 0.7225 - val_loss: 0.3635 - val_accuracy: 0.8456\n",
      "Epoch 2/20\n",
      "272/272 [==============================] - 45s 164ms/step - loss: 0.4322 - accuracy: 0.8137 - val_loss: 0.2694 - val_accuracy: 0.8981\n",
      "Epoch 3/20\n",
      "272/272 [==============================] - 46s 168ms/step - loss: 0.3343 - accuracy: 0.8555 - val_loss: 0.2516 - val_accuracy: 0.9059\n",
      "Epoch 4/20\n",
      "272/272 [==============================] - 46s 168ms/step - loss: 0.2807 - accuracy: 0.8860 - val_loss: 0.2001 - val_accuracy: 0.9272\n",
      "Epoch 5/20\n",
      "272/272 [==============================] - 47s 173ms/step - loss: 0.2551 - accuracy: 0.8978 - val_loss: 0.2019 - val_accuracy: 0.9313\n",
      "Epoch 6/20\n",
      "272/272 [==============================] - 47s 173ms/step - loss: 0.2216 - accuracy: 0.9140 - val_loss: 0.2010 - val_accuracy: 0.9262\n",
      "Epoch 7/20\n",
      "272/272 [==============================] - 46s 169ms/step - loss: 0.2154 - accuracy: 0.9147 - val_loss: 0.1506 - val_accuracy: 0.9447\n",
      "Epoch 8/20\n",
      "272/272 [==============================] - 46s 171ms/step - loss: 0.1744 - accuracy: 0.9350 - val_loss: 0.1390 - val_accuracy: 0.9525\n",
      "Epoch 9/20\n",
      "272/272 [==============================] - 47s 171ms/step - loss: 0.1655 - accuracy: 0.9373 - val_loss: 0.1440 - val_accuracy: 0.9474\n",
      "Epoch 10/20\n",
      "272/272 [==============================] - 47s 171ms/step - loss: 0.1424 - accuracy: 0.9450 - val_loss: 0.1256 - val_accuracy: 0.9585\n",
      "Epoch 11/20\n",
      "272/272 [==============================] - 48s 176ms/step - loss: 0.1259 - accuracy: 0.9510 - val_loss: 0.1368 - val_accuracy: 0.9567\n",
      "Epoch 12/20\n",
      "272/272 [==============================] - 50s 183ms/step - loss: 0.1197 - accuracy: 0.9543 - val_loss: 0.1207 - val_accuracy: 0.9640\n",
      "Epoch 13/20\n",
      "272/272 [==============================] - 47s 171ms/step - loss: 0.1127 - accuracy: 0.9586 - val_loss: 0.1330 - val_accuracy: 0.9608\n",
      "Epoch 14/20\n",
      "272/272 [==============================] - 46s 171ms/step - loss: 0.1081 - accuracy: 0.9591 - val_loss: 0.1104 - val_accuracy: 0.9677\n",
      "Epoch 15/20\n",
      "272/272 [==============================] - 47s 173ms/step - loss: 0.0887 - accuracy: 0.9634 - val_loss: 0.1423 - val_accuracy: 0.9567\n",
      "Epoch 16/20\n",
      "272/272 [==============================] - 46s 169ms/step - loss: 0.0846 - accuracy: 0.9679 - val_loss: 0.1167 - val_accuracy: 0.9663\n",
      "Epoch 17/20\n",
      "272/272 [==============================] - 46s 171ms/step - loss: 0.0753 - accuracy: 0.9723 - val_loss: 0.1352 - val_accuracy: 0.9599\n",
      "Epoch 18/20\n",
      "272/272 [==============================] - 48s 177ms/step - loss: 0.0641 - accuracy: 0.9754 - val_loss: 0.1262 - val_accuracy: 0.9700\n",
      "Epoch 19/20\n",
      "272/272 [==============================] - 72s 265ms/step - loss: 0.0635 - accuracy: 0.9752 - val_loss: 0.1366 - val_accuracy: 0.9691\n",
      "Epoch 20/20\n",
      "272/272 [==============================] - 77s 282ms/step - loss: 0.0596 - accuracy: 0.9777 - val_loss: 0.1417 - val_accuracy: 0.9668\n"
     ]
    },
    {
     "data": {
      "text/plain": [
       "<keras.src.callbacks.History at 0x1900a25cc10>"
      ]
     },
     "execution_count": 24,
     "metadata": {},
     "output_type": "execute_result"
    }
   ],
   "source": [
    "model_articleType.fit(X_train, y_train, epochs=20, validation_data=(X_val, y_val))"
   ]
  },
  {
   "cell_type": "code",
   "execution_count": 32,
   "metadata": {},
   "outputs": [
    {
     "name": "stdout",
     "output_type": "stream",
     "text": [
      "68/68 [==============================] - 3s 41ms/step\n",
      "Precision: 0.9672\n",
      "Recall: 0.9668\n"
     ]
    }
   ],
   "source": [
    "# Get model predictions on the validation dataset\n",
    "predicted_probabilities = model_articleType.predict(X_val)\n",
    "predicted_labels = np.argmax(predicted_probabilities, axis=1)\n",
    "\n",
    "# Calculate precision and recall\n",
    "precision = precision_score(y_val, predicted_labels, average='weighted')\n",
    "recall = recall_score(y_val, predicted_labels, average='weighted')\n",
    "\n",
    "print(f'Precision: {precision:.4f}')\n",
    "print(f'Recall: {recall:.4f}')\n"
   ]
  },
  {
   "cell_type": "code",
   "execution_count": 26,
   "metadata": {},
   "outputs": [
    {
     "name": "stderr",
     "output_type": "stream",
     "text": [
      "C:\\Users\\Electro Store\\AppData\\Roaming\\Python\\Python39\\site-packages\\keras\\src\\engine\\training.py:3000: UserWarning: You are saving your model as an HDF5 file via `model.save()`. This file format is considered legacy. We recommend using instead the native Keras format, e.g. `model.save('my_model.keras')`.\n",
      "  saving_api.save_model(\n"
     ]
    }
   ],
   "source": [
    "model_articleType.save('cnn_articleType.h5')"
   ]
  }
 ],
 "metadata": {
  "kernelspec": {
   "display_name": "Python 3",
   "language": "python",
   "name": "python3"
  },
  "language_info": {
   "codemirror_mode": {
    "name": "ipython",
    "version": 3
   },
   "file_extension": ".py",
   "mimetype": "text/x-python",
   "name": "python",
   "nbconvert_exporter": "python",
   "pygments_lexer": "ipython3",
   "version": "3.9.7"
  },
  "orig_nbformat": 4
 },
 "nbformat": 4,
 "nbformat_minor": 2
}
