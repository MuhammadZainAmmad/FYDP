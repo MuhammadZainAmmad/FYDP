{
 "cells": [
  {
   "attachments": {},
   "cell_type": "markdown",
   "metadata": {},
   "source": [
    "# Preprocessing the Dataset For ANN implementation"
   ]
  },
  {
   "cell_type": "code",
   "execution_count": 1,
   "metadata": {},
   "outputs": [],
   "source": [
    "import numpy as np\n",
    "from PIL import Image\n",
    "import pandas as pd"
   ]
  },
  {
   "cell_type": "code",
   "execution_count": 3,
   "metadata": {},
   "outputs": [
    {
     "name": "stdout",
     "output_type": "stream",
     "text": [
      "<class 'pandas.core.frame.DataFrame'>\n",
      "RangeIndex: 24781 entries, 0 to 24780\n",
      "Data columns (total 4 columns):\n",
      " #   Column       Non-Null Count  Dtype \n",
      "---  ------       --------------  ----- \n",
      " 0   id           24781 non-null  int64 \n",
      " 1   gender       24781 non-null  object\n",
      " 2   articleType  24781 non-null  object\n",
      " 3   usage        24781 non-null  object\n",
      "dtypes: int64(1), object(3)\n",
      "memory usage: 774.5+ KB\n"
     ]
    }
   ],
   "source": [
    "df = pd.read_csv(\"../2_SeparatingMaleDataset/maleDS.csv\")\n",
    "df.info()"
   ]
  },
  {
   "cell_type": "code",
   "execution_count": 13,
   "metadata": {},
   "outputs": [
    {
     "data": {
      "text/plain": [
       "Casual          19161\n",
       "Sports           3223\n",
       "Formal           2205\n",
       "Ethnic            117\n",
       "Smart Casual       52\n",
       "Travel             20\n",
       "Party               2\n",
       "Home                1\n",
       "Name: usage, dtype: int64"
      ]
     },
     "execution_count": 13,
     "metadata": {},
     "output_type": "execute_result"
    }
   ],
   "source": [
    "df['usage'].value_counts()"
   ]
  },
  {
   "attachments": {},
   "cell_type": "markdown",
   "metadata": {},
   "source": [
    "## Converting Images to NP Array"
   ]
  },
  {
   "cell_type": "code",
   "execution_count": 24,
   "metadata": {},
   "outputs": [],
   "source": [
    "# Creating a new DataFrame with only the 'usage' labels Formal and Casual\n",
    "df_FormalCasual = df[df['usage'].isin(['Formal', 'Casual'])].copy()"
   ]
  },
  {
   "cell_type": "code",
   "execution_count": 15,
   "metadata": {},
   "outputs": [
    {
     "data": {
      "text/plain": [
       "21366"
      ]
     },
     "execution_count": 15,
     "metadata": {},
     "output_type": "execute_result"
    }
   ],
   "source": [
    "# Getting ids of the images whose label is either formal or casual\n",
    "formalCasual_ids = df_FormalCasual['id'].to_list()\n",
    "len(formalCasual_ids)"
   ]
  },
  {
   "cell_type": "code",
   "execution_count": 17,
   "metadata": {},
   "outputs": [
    {
     "data": {
      "text/plain": [
       "(21366, 80, 60, 3)"
      ]
     },
     "execution_count": 17,
     "metadata": {},
     "output_type": "execute_result"
    }
   ],
   "source": [
    "# Converting formal casual images into numpy array\n",
    "folderPathOfImage = \"../2_SeparatingMaleDataset/maleDS/\"\n",
    "\n",
    "allCasualFormalImgsList = []\n",
    "for id in formalCasual_ids:\n",
    "    imagePathVariable = folderPathOfImage + str(id)+'.jpg'\n",
    "    image = Image.open(imagePathVariable)\n",
    "    numpyArrayImg = np.array(image)\n",
    "    allCasualFormalImgsList.append(numpyArrayImg)\n",
    "\n",
    "casualFormalImgsNpArr = np.array(allCasualFormalImgsList)\n",
    "casualFormalImgsNpArr.shape"
   ]
  },
  {
   "cell_type": "code",
   "execution_count": 18,
   "metadata": {},
   "outputs": [],
   "source": [
    "# Saving the images array in a file for further use\n",
    "np.save('casualFormalImgsNpArr.npy', casualFormalImgsNpArr)"
   ]
  },
  {
   "attachments": {},
   "cell_type": "markdown",
   "metadata": {},
   "source": [
    "## Filtering only Casual, Formal and encoding it "
   ]
  },
  {
   "cell_type": "code",
   "execution_count": 27,
   "metadata": {},
   "outputs": [],
   "source": [
    "# Encode the 'usage' column\n",
    "df_FormalCasual['usage'] = df_FormalCasual['usage'].map({'Casual': 0, 'Formal': 1})\n",
    "\n",
    "# Saving only encoded usage column to a CSV file\n",
    "# df_FormalCasual[['usage']].to_csv('encodedUsageFormalCasual.csv', index=False)\n",
    "\n",
    "# Save the new DataFrame as a NumPy array\n",
    "encodedUsageFCNpArr = df_FormalCasual['usage'].to_numpy() # FC ==> Formal Casual\n",
    "np.save('encodedUsageFCNpArr.npy', encodedUsageFCNpArr)"
   ]
  },
  {
   "cell_type": "code",
   "execution_count": 28,
   "metadata": {},
   "outputs": [
    {
     "data": {
      "text/plain": [
       "(21366,)"
      ]
     },
     "execution_count": 28,
     "metadata": {},
     "output_type": "execute_result"
    }
   ],
   "source": [
    "# Checking the saved casual formal numpy array \n",
    "encodedUsageFC = np.load('encodedUsageFCNpArr.npy')\n",
    "encodedUsageFCNpArr.shape"
   ]
  },
  {
   "cell_type": "code",
   "execution_count": 11,
   "metadata": {},
   "outputs": [
    {
     "data": {
      "text/plain": [
       "usage\n",
       "0        19161\n",
       "1         2205\n",
       "dtype: int64"
      ]
     },
     "execution_count": 11,
     "metadata": {},
     "output_type": "execute_result"
    }
   ],
   "source": [
    "# Checking the encoded usage csv file\n",
    "# encodeUsage = pd.read_csv('encodedUsageFormalCasual.csv')\n",
    "# encodeUsage.value_counts()"
   ]
  }
 ],
 "metadata": {
  "kernelspec": {
   "display_name": "Python 3",
   "language": "python",
   "name": "python3"
  },
  "language_info": {
   "codemirror_mode": {
    "name": "ipython",
    "version": 3
   },
   "file_extension": ".py",
   "mimetype": "text/x-python",
   "name": "python",
   "nbconvert_exporter": "python",
   "pygments_lexer": "ipython3",
   "version": "3.9.5"
  },
  "orig_nbformat": 4
 },
 "nbformat": 4,
 "nbformat_minor": 2
}
