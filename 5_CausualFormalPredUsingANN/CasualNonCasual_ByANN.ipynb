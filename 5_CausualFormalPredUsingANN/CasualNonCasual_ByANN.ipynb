{
 "cells": [
  {
   "attachments": {},
   "cell_type": "markdown",
   "metadata": {},
   "source": [
    "# Implementing ANN"
   ]
  },
  {
   "cell_type": "code",
   "execution_count": 28,
   "metadata": {},
   "outputs": [],
   "source": [
    "import os\n",
    "import numpy as np\n",
    "import tensorflow as tf\n",
    "import keras\n",
    "\n",
    "from PIL import Image\n",
    "\n",
    "from keras.models import Sequential\n",
    "from keras.layers import Dense, Activation, Dropout\n",
    "from keras.callbacks import TensorBoard\n",
    "\n",
    "from time import strftime # gives hours and minutes of current time.\n",
    "\n",
    "from sklearn.metrics import precision_score, recall_score\n",
    "\n",
    "# import matplotlib.pyplot as plt"
   ]
  },
  {
   "cell_type": "code",
   "execution_count": 2,
   "metadata": {},
   "outputs": [
    {
     "name": "stdout",
     "output_type": "stream",
     "text": [
      "2.13.0 2.13.1\n"
     ]
    }
   ],
   "source": [
    "print(tf.__version__, keras.__version__)"
   ]
  },
  {
   "attachments": {},
   "cell_type": "markdown",
   "metadata": {},
   "source": [
    "### Loading the data"
   ]
  },
  {
   "cell_type": "code",
   "execution_count": 3,
   "metadata": {},
   "outputs": [
    {
     "name": "stdout",
     "output_type": "stream",
     "text": [
      "<class 'numpy.ndarray'>\n"
     ]
    },
    {
     "data": {
      "text/plain": [
       "(10842, 80, 60, 3)"
      ]
     },
     "execution_count": 3,
     "metadata": {},
     "output_type": "execute_result"
    }
   ],
   "source": [
    "df_images = np.load('../3_PreprocessingMaleDS/df_images.npy')\n",
    "\n",
    "print(type(df_images))\n",
    "df_images.shape"
   ]
  },
  {
   "cell_type": "code",
   "execution_count": 4,
   "metadata": {},
   "outputs": [
    {
     "name": "stdout",
     "output_type": "stream",
     "text": [
      "<class 'numpy.ndarray'>\n"
     ]
    },
    {
     "data": {
      "text/plain": [
       "(10842,)"
      ]
     },
     "execution_count": 4,
     "metadata": {},
     "output_type": "execute_result"
    }
   ],
   "source": [
    "df_usageEncoded = np.load('../3_PreprocessingMaleDS/df_usageEncoded.npy')\n",
    "\n",
    "print(type(df_usageEncoded))\n",
    "df_usageEncoded.shape"
   ]
  },
  {
   "attachments": {},
   "cell_type": "markdown",
   "metadata": {},
   "source": [
    "### Scaling and flattening the data"
   ]
  },
  {
   "cell_type": "code",
   "execution_count": 5,
   "metadata": {},
   "outputs": [],
   "source": [
    "#Scaling the data between 0 and 1 (Normalization)\n",
    "x_scaled = df_images / 255.0"
   ]
  },
  {
   "cell_type": "code",
   "execution_count": 6,
   "metadata": {},
   "outputs": [
    {
     "data": {
      "text/plain": [
       "array([[[[1.        , 1.        , 1.        ],\n",
       "         [1.        , 1.        , 1.        ],\n",
       "         [1.        , 1.        , 1.        ],\n",
       "         ...,\n",
       "         [1.        , 1.        , 1.        ],\n",
       "         [1.        , 1.        , 1.        ],\n",
       "         [1.        , 1.        , 1.        ]],\n",
       "\n",
       "        [[1.        , 1.        , 1.        ],\n",
       "         [1.        , 1.        , 1.        ],\n",
       "         [1.        , 1.        , 1.        ],\n",
       "         ...,\n",
       "         [1.        , 1.        , 1.        ],\n",
       "         [1.        , 1.        , 1.        ],\n",
       "         [1.        , 1.        , 1.        ]],\n",
       "\n",
       "        [[1.        , 1.        , 1.        ],\n",
       "         [1.        , 1.        , 1.        ],\n",
       "         [1.        , 1.        , 1.        ],\n",
       "         ...,\n",
       "         [1.        , 1.        , 1.        ],\n",
       "         [1.        , 1.        , 1.        ],\n",
       "         [1.        , 1.        , 1.        ]],\n",
       "\n",
       "        ...,\n",
       "\n",
       "        [[1.        , 1.        , 0.97254902],\n",
       "         [1.        , 1.        , 0.98039216],\n",
       "         [1.        , 0.98431373, 1.        ],\n",
       "         ...,\n",
       "         [0.99607843, 1.        , 1.        ],\n",
       "         [0.99607843, 1.        , 1.        ],\n",
       "         [0.99607843, 1.        , 0.99215686]],\n",
       "\n",
       "        [[1.        , 1.        , 0.97254902],\n",
       "         [1.        , 1.        , 0.98039216],\n",
       "         [1.        , 0.98431373, 1.        ],\n",
       "         ...,\n",
       "         [0.99607843, 1.        , 1.        ],\n",
       "         [0.99607843, 1.        , 1.        ],\n",
       "         [0.99607843, 1.        , 0.99215686]],\n",
       "\n",
       "        [[1.        , 1.        , 0.97254902],\n",
       "         [1.        , 1.        , 0.98039216],\n",
       "         [1.        , 0.98431373, 1.        ],\n",
       "         ...,\n",
       "         [0.99607843, 1.        , 1.        ],\n",
       "         [0.99607843, 1.        , 1.        ],\n",
       "         [0.99607843, 1.        , 0.99215686]]],\n",
       "\n",
       "\n",
       "       [[[1.        , 1.        , 1.        ],\n",
       "         [1.        , 1.        , 1.        ],\n",
       "         [1.        , 1.        , 1.        ],\n",
       "         ...,\n",
       "         [1.        , 1.        , 1.        ],\n",
       "         [1.        , 1.        , 1.        ],\n",
       "         [1.        , 1.        , 1.        ]],\n",
       "\n",
       "        [[1.        , 1.        , 1.        ],\n",
       "         [1.        , 1.        , 1.        ],\n",
       "         [1.        , 1.        , 1.        ],\n",
       "         ...,\n",
       "         [1.        , 1.        , 1.        ],\n",
       "         [1.        , 1.        , 1.        ],\n",
       "         [1.        , 1.        , 1.        ]],\n",
       "\n",
       "        [[1.        , 1.        , 1.        ],\n",
       "         [1.        , 1.        , 1.        ],\n",
       "         [1.        , 1.        , 1.        ],\n",
       "         ...,\n",
       "         [1.        , 1.        , 1.        ],\n",
       "         [1.        , 1.        , 1.        ],\n",
       "         [1.        , 1.        , 1.        ]],\n",
       "\n",
       "        ...,\n",
       "\n",
       "        [[1.        , 1.        , 1.        ],\n",
       "         [1.        , 1.        , 1.        ],\n",
       "         [1.        , 1.        , 1.        ],\n",
       "         ...,\n",
       "         [1.        , 1.        , 1.        ],\n",
       "         [1.        , 1.        , 1.        ],\n",
       "         [1.        , 1.        , 1.        ]],\n",
       "\n",
       "        [[1.        , 1.        , 1.        ],\n",
       "         [1.        , 1.        , 1.        ],\n",
       "         [1.        , 1.        , 1.        ],\n",
       "         ...,\n",
       "         [1.        , 1.        , 1.        ],\n",
       "         [1.        , 1.        , 1.        ],\n",
       "         [1.        , 1.        , 1.        ]],\n",
       "\n",
       "        [[1.        , 1.        , 1.        ],\n",
       "         [1.        , 1.        , 1.        ],\n",
       "         [1.        , 1.        , 1.        ],\n",
       "         ...,\n",
       "         [1.        , 1.        , 1.        ],\n",
       "         [1.        , 1.        , 1.        ],\n",
       "         [1.        , 1.        , 1.        ]]],\n",
       "\n",
       "\n",
       "       [[[1.        , 1.        , 1.        ],\n",
       "         [1.        , 1.        , 1.        ],\n",
       "         [1.        , 1.        , 1.        ],\n",
       "         ...,\n",
       "         [1.        , 1.        , 1.        ],\n",
       "         [1.        , 1.        , 1.        ],\n",
       "         [1.        , 1.        , 1.        ]],\n",
       "\n",
       "        [[1.        , 1.        , 1.        ],\n",
       "         [1.        , 1.        , 1.        ],\n",
       "         [1.        , 1.        , 1.        ],\n",
       "         ...,\n",
       "         [1.        , 1.        , 1.        ],\n",
       "         [1.        , 1.        , 1.        ],\n",
       "         [1.        , 1.        , 1.        ]],\n",
       "\n",
       "        [[1.        , 1.        , 1.        ],\n",
       "         [1.        , 1.        , 1.        ],\n",
       "         [1.        , 1.        , 1.        ],\n",
       "         ...,\n",
       "         [1.        , 1.        , 1.        ],\n",
       "         [1.        , 1.        , 1.        ],\n",
       "         [1.        , 1.        , 1.        ]],\n",
       "\n",
       "        ...,\n",
       "\n",
       "        [[1.        , 1.        , 1.        ],\n",
       "         [1.        , 1.        , 1.        ],\n",
       "         [1.        , 1.        , 1.        ],\n",
       "         ...,\n",
       "         [1.        , 1.        , 1.        ],\n",
       "         [1.        , 1.        , 1.        ],\n",
       "         [1.        , 1.        , 1.        ]],\n",
       "\n",
       "        [[1.        , 1.        , 1.        ],\n",
       "         [1.        , 1.        , 1.        ],\n",
       "         [1.        , 1.        , 1.        ],\n",
       "         ...,\n",
       "         [1.        , 1.        , 1.        ],\n",
       "         [1.        , 1.        , 1.        ],\n",
       "         [1.        , 1.        , 1.        ]],\n",
       "\n",
       "        [[1.        , 1.        , 1.        ],\n",
       "         [1.        , 1.        , 1.        ],\n",
       "         [1.        , 1.        , 1.        ],\n",
       "         ...,\n",
       "         [1.        , 1.        , 1.        ],\n",
       "         [1.        , 1.        , 1.        ],\n",
       "         [1.        , 1.        , 1.        ]]],\n",
       "\n",
       "\n",
       "       ...,\n",
       "\n",
       "\n",
       "       [[[0.76862745, 0.75686275, 0.72941176],\n",
       "         [0.76862745, 0.75686275, 0.72941176],\n",
       "         [0.76862745, 0.75686275, 0.72941176],\n",
       "         ...,\n",
       "         [0.76862745, 0.75686275, 0.72941176],\n",
       "         [0.76862745, 0.75686275, 0.72941176],\n",
       "         [0.76862745, 0.75686275, 0.72941176]],\n",
       "\n",
       "        [[0.76862745, 0.75686275, 0.72941176],\n",
       "         [0.76862745, 0.75686275, 0.72941176],\n",
       "         [0.76862745, 0.75686275, 0.72941176],\n",
       "         ...,\n",
       "         [0.76862745, 0.75686275, 0.72941176],\n",
       "         [0.76862745, 0.75686275, 0.72941176],\n",
       "         [0.76862745, 0.75686275, 0.72941176]],\n",
       "\n",
       "        [[0.76862745, 0.75686275, 0.72941176],\n",
       "         [0.76862745, 0.75686275, 0.72941176],\n",
       "         [0.77254902, 0.76078431, 0.73333333],\n",
       "         ...,\n",
       "         [0.76862745, 0.75686275, 0.72941176],\n",
       "         [0.76862745, 0.75686275, 0.72941176],\n",
       "         [0.76862745, 0.75686275, 0.72941176]],\n",
       "\n",
       "        ...,\n",
       "\n",
       "        [[0.77254902, 0.76078431, 0.73333333],\n",
       "         [0.77254902, 0.76078431, 0.73333333],\n",
       "         [0.77254902, 0.76078431, 0.73333333],\n",
       "         ...,\n",
       "         [0.75686275, 0.74509804, 0.71764706],\n",
       "         [0.75686275, 0.74509804, 0.71764706],\n",
       "         [0.75686275, 0.74509804, 0.71764706]],\n",
       "\n",
       "        [[0.76862745, 0.75686275, 0.72941176],\n",
       "         [0.76862745, 0.75686275, 0.72941176],\n",
       "         [0.76862745, 0.75686275, 0.72941176],\n",
       "         ...,\n",
       "         [0.75294118, 0.74117647, 0.71372549],\n",
       "         [0.75294118, 0.74117647, 0.71372549],\n",
       "         [0.75294118, 0.74117647, 0.71372549]],\n",
       "\n",
       "        [[0.76862745, 0.75686275, 0.72941176],\n",
       "         [0.76862745, 0.75686275, 0.72941176],\n",
       "         [0.76862745, 0.75686275, 0.72941176],\n",
       "         ...,\n",
       "         [0.75294118, 0.74117647, 0.71372549],\n",
       "         [0.74901961, 0.7372549 , 0.70980392],\n",
       "         [0.74901961, 0.7372549 , 0.70980392]]],\n",
       "\n",
       "\n",
       "       [[[1.        , 1.        , 1.        ],\n",
       "         [1.        , 1.        , 1.        ],\n",
       "         [1.        , 1.        , 1.        ],\n",
       "         ...,\n",
       "         [1.        , 1.        , 1.        ],\n",
       "         [1.        , 1.        , 1.        ],\n",
       "         [1.        , 1.        , 1.        ]],\n",
       "\n",
       "        [[1.        , 1.        , 1.        ],\n",
       "         [1.        , 1.        , 1.        ],\n",
       "         [1.        , 1.        , 1.        ],\n",
       "         ...,\n",
       "         [1.        , 1.        , 1.        ],\n",
       "         [1.        , 1.        , 1.        ],\n",
       "         [1.        , 1.        , 1.        ]],\n",
       "\n",
       "        [[1.        , 1.        , 1.        ],\n",
       "         [1.        , 1.        , 1.        ],\n",
       "         [1.        , 1.        , 1.        ],\n",
       "         ...,\n",
       "         [1.        , 1.        , 1.        ],\n",
       "         [1.        , 1.        , 1.        ],\n",
       "         [1.        , 1.        , 1.        ]],\n",
       "\n",
       "        ...,\n",
       "\n",
       "        [[1.        , 1.        , 1.        ],\n",
       "         [1.        , 1.        , 1.        ],\n",
       "         [1.        , 1.        , 1.        ],\n",
       "         ...,\n",
       "         [1.        , 1.        , 1.        ],\n",
       "         [1.        , 1.        , 1.        ],\n",
       "         [1.        , 1.        , 1.        ]],\n",
       "\n",
       "        [[1.        , 1.        , 1.        ],\n",
       "         [1.        , 1.        , 1.        ],\n",
       "         [1.        , 1.        , 1.        ],\n",
       "         ...,\n",
       "         [1.        , 1.        , 1.        ],\n",
       "         [1.        , 1.        , 1.        ],\n",
       "         [1.        , 1.        , 1.        ]],\n",
       "\n",
       "        [[1.        , 1.        , 1.        ],\n",
       "         [1.        , 1.        , 1.        ],\n",
       "         [1.        , 1.        , 1.        ],\n",
       "         ...,\n",
       "         [1.        , 1.        , 1.        ],\n",
       "         [1.        , 1.        , 1.        ],\n",
       "         [1.        , 1.        , 1.        ]]],\n",
       "\n",
       "\n",
       "       [[[0.76470588, 0.75294118, 0.7254902 ],\n",
       "         [0.76470588, 0.75294118, 0.7254902 ],\n",
       "         [0.76862745, 0.75686275, 0.72941176],\n",
       "         ...,\n",
       "         [0.76862745, 0.75686275, 0.72941176],\n",
       "         [0.76862745, 0.75686275, 0.72941176],\n",
       "         [0.76862745, 0.75686275, 0.72941176]],\n",
       "\n",
       "        [[0.76470588, 0.75294118, 0.7254902 ],\n",
       "         [0.76862745, 0.75686275, 0.72941176],\n",
       "         [0.76862745, 0.75686275, 0.72941176],\n",
       "         ...,\n",
       "         [0.76862745, 0.75686275, 0.72941176],\n",
       "         [0.76862745, 0.75686275, 0.72941176],\n",
       "         [0.76862745, 0.75686275, 0.72941176]],\n",
       "\n",
       "        [[0.76862745, 0.75686275, 0.72941176],\n",
       "         [0.76862745, 0.75686275, 0.72941176],\n",
       "         [0.76862745, 0.75686275, 0.72941176],\n",
       "         ...,\n",
       "         [0.76862745, 0.75686275, 0.72941176],\n",
       "         [0.76862745, 0.75686275, 0.72941176],\n",
       "         [0.76862745, 0.75686275, 0.72941176]],\n",
       "\n",
       "        ...,\n",
       "\n",
       "        [[0.76862745, 0.75686275, 0.72941176],\n",
       "         [0.76862745, 0.75686275, 0.72941176],\n",
       "         [0.76862745, 0.75686275, 0.72941176],\n",
       "         ...,\n",
       "         [0.75686275, 0.74509804, 0.7254902 ],\n",
       "         [0.75686275, 0.74509804, 0.7254902 ],\n",
       "         [0.75686275, 0.74509804, 0.7254902 ]],\n",
       "\n",
       "        [[0.76862745, 0.75686275, 0.72941176],\n",
       "         [0.76862745, 0.75686275, 0.72941176],\n",
       "         [0.76862745, 0.75686275, 0.72941176],\n",
       "         ...,\n",
       "         [0.75294118, 0.74117647, 0.72156863],\n",
       "         [0.75294118, 0.74117647, 0.72156863],\n",
       "         [0.75294118, 0.74117647, 0.72156863]],\n",
       "\n",
       "        [[0.76862745, 0.75686275, 0.72941176],\n",
       "         [0.76862745, 0.75686275, 0.72941176],\n",
       "         [0.76862745, 0.75686275, 0.72941176],\n",
       "         ...,\n",
       "         [0.75294118, 0.74117647, 0.72156863],\n",
       "         [0.74901961, 0.7372549 , 0.71764706],\n",
       "         [0.74901961, 0.7372549 , 0.71764706]]]])"
      ]
     },
     "execution_count": 6,
     "metadata": {},
     "output_type": "execute_result"
    }
   ],
   "source": [
    "#Let us see the data again after scaling.\n",
    "x_scaled\n",
    "#note that this is a 4D tensor."
   ]
  },
  {
   "cell_type": "code",
   "execution_count": 7,
   "metadata": {},
   "outputs": [],
   "source": [
    "#Flattening the train tensor; placing all pixel for one image in one dimension\n",
    "TOTAL_INPUTS = 80*60*3\n",
    "x_scaled_flat = x_scaled.reshape(x_scaled.shape[0], TOTAL_INPUTS)"
   ]
  },
  {
   "cell_type": "code",
   "execution_count": 8,
   "metadata": {},
   "outputs": [
    {
     "data": {
      "text/plain": [
       "array([[1.        , 1.        , 1.        , ..., 0.99607843, 1.        ,\n",
       "        0.99215686],\n",
       "       [1.        , 1.        , 1.        , ..., 1.        , 1.        ,\n",
       "        1.        ],\n",
       "       [1.        , 1.        , 1.        , ..., 1.        , 1.        ,\n",
       "        1.        ],\n",
       "       ...,\n",
       "       [0.76862745, 0.75686275, 0.72941176, ..., 0.74901961, 0.7372549 ,\n",
       "        0.70980392],\n",
       "       [1.        , 1.        , 1.        , ..., 1.        , 1.        ,\n",
       "        1.        ],\n",
       "       [0.76470588, 0.75294118, 0.7254902 , ..., 0.74901961, 0.7372549 ,\n",
       "        0.71764706]])"
      ]
     },
     "execution_count": 8,
     "metadata": {},
     "output_type": "execute_result"
    }
   ],
   "source": [
    "#Let us see how this flat array looks like\n",
    "x_scaled_flat\n",
    "#Now it is a 2D tensor."
   ]
  },
  {
   "cell_type": "code",
   "execution_count": 9,
   "metadata": {},
   "outputs": [
    {
     "data": {
      "text/plain": [
       "(10842, 14400)"
      ]
     },
     "execution_count": 9,
     "metadata": {},
     "output_type": "execute_result"
    }
   ],
   "source": [
    "x_scaled_flat.shape\n",
    "#Note that 14400 = 80 x 60 x 3"
   ]
  },
  {
   "attachments": {},
   "cell_type": "markdown",
   "metadata": {},
   "source": [
    "### Creating train, test and validation Dataset"
   ]
  },
  {
   "cell_type": "code",
   "execution_count": 10,
   "metadata": {},
   "outputs": [
    {
     "data": {
      "text/plain": [
       "(1000, 14400)"
      ]
     },
     "execution_count": 10,
     "metadata": {},
     "output_type": "execute_result"
    }
   ],
   "source": [
    "TEST_SIZE = 1000\n",
    "\n",
    "##Creating test set\n",
    "x_test = x_scaled_flat[:TEST_SIZE]\n",
    "y_test = df_usageEncoded[:TEST_SIZE]\n",
    "x_test.shape"
   ]
  },
  {
   "cell_type": "code",
   "execution_count": 11,
   "metadata": {},
   "outputs": [
    {
     "data": {
      "text/plain": [
       "(500, 14400)"
      ]
     },
     "execution_count": 11,
     "metadata": {},
     "output_type": "execute_result"
    }
   ],
   "source": [
    "VAL_SIZE = 500\n",
    "\n",
    "##Creating test set\n",
    "x_val = x_scaled_flat[:VAL_SIZE]\n",
    "y_val = df_usageEncoded[:VAL_SIZE]\n",
    "x_val.shape"
   ]
  },
  {
   "cell_type": "code",
   "execution_count": 12,
   "metadata": {},
   "outputs": [
    {
     "data": {
      "text/plain": [
       "(9342, 14400)"
      ]
     },
     "execution_count": 12,
     "metadata": {},
     "output_type": "execute_result"
    }
   ],
   "source": [
    "##Creating the remaining train set\n",
    "x_train = x_scaled_flat[TEST_SIZE + VAL_SIZE:]\n",
    "y_train = df_usageEncoded[TEST_SIZE + VAL_SIZE:]\n",
    "x_train.shape"
   ]
  },
  {
   "attachments": {},
   "cell_type": "markdown",
   "metadata": {},
   "source": [
    "So now we have two scaled and flattened datasets:\n",
    "- The train set haing 15366 samples\n",
    "- The test set having 5000 samples\n",
    "- The validation set having 1000 samples"
   ]
  },
  {
   "attachments": {},
   "cell_type": "markdown",
   "metadata": {},
   "source": [
    "## Define the Neural Network using Keras"
   ]
  },
  {
   "attachments": {},
   "cell_type": "markdown",
   "metadata": {},
   "source": [
    "### Model 1"
   ]
  },
  {
   "cell_type": "code",
   "execution_count": 13,
   "metadata": {},
   "outputs": [],
   "source": [
    "model_1 = Sequential([\n",
    "    Dense(units=128, input_dim=TOTAL_INPUTS, activation='relu', name='m1_hidden1'),\n",
    "    Dense(units=64, activation='relu', name='m1_hidden2'),\n",
    "    Dense(16, activation='relu', name='m1_hidden3'),\n",
    "    Dense(2, activation='softmax', name='m1_output')\n",
    "])\n",
    "#if we donot give names to the layers, then the names keep on changing on every run\n",
    "\n",
    "model_1.compile(optimizer='adam', \n",
    "                loss='sparse_categorical_crossentropy', \n",
    "                metrics=['accuracy'])"
   ]
  },
  {
   "cell_type": "code",
   "execution_count": 14,
   "metadata": {},
   "outputs": [
    {
     "name": "stdout",
     "output_type": "stream",
     "text": [
      "Model: \"sequential\"\n",
      "_________________________________________________________________\n",
      " Layer (type)                Output Shape              Param #   \n",
      "=================================================================\n",
      " m1_hidden1 (Dense)          (None, 128)               1843328   \n",
      "                                                                 \n",
      " m1_hidden2 (Dense)          (None, 64)                8256      \n",
      "                                                                 \n",
      " m1_hidden3 (Dense)          (None, 16)                1040      \n",
      "                                                                 \n",
      " m1_output (Dense)           (None, 2)                 34        \n",
      "                                                                 \n",
      "=================================================================\n",
      "Total params: 1852658 (7.07 MB)\n",
      "Trainable params: 1852658 (7.07 MB)\n",
      "Non-trainable params: 0 (0.00 Byte)\n",
      "_________________________________________________________________\n"
     ]
    }
   ],
   "source": [
    "type(model_1)\n",
    "model_1.summary()"
   ]
  },
  {
   "attachments": {},
   "cell_type": "markdown",
   "metadata": {},
   "source": [
    "- Total neurons in layer m1_hidden1 = (TOTAL_INPUTS+1)*128 = ((80*60*3)+1)*128 = 1843328\n",
    "- Total neurons in layer m1_hidden2 = (128+1)*64  \n",
    "- Total neurons in layer m1_hidden3 = (64+1)*16\n",
    "- Total neurons in layer m1_output = (16+1)*10"
   ]
  },
  {
   "attachments": {},
   "cell_type": "markdown",
   "metadata": {},
   "source": [
    "## Tensorboard (visualising learning)"
   ]
  },
  {
   "cell_type": "code",
   "execution_count": 15,
   "metadata": {},
   "outputs": [],
   "source": [
    "#Setting main folder and subfolders for tendboard\n",
    "LOG_DIR = 'tensorboard_cifar_logs/'\n",
    "\n",
    "def get_tensorboard(model_name):\n",
    "    sub_folder_name = f'{model_name}_at_{strftime(\"%H_%M\")}'\n",
    "    dir_paths = os.path.join(LOG_DIR, sub_folder_name)\n",
    "    os.makedirs(dir_paths)\n",
    "    return TensorBoard(log_dir=dir_paths)"
   ]
  },
  {
   "attachments": {},
   "cell_type": "markdown",
   "metadata": {},
   "source": [
    "### Loading tensor board in notebook"
   ]
  },
  {
   "cell_type": "code",
   "execution_count": 17,
   "metadata": {},
   "outputs": [
    {
     "name": "stdout",
     "output_type": "stream",
     "text": [
      "The tensorboard extension is already loaded. To reload it, use:\n",
      "  %reload_ext tensorboard\n"
     ]
    },
    {
     "data": {
      "text/plain": [
       "Reusing TensorBoard on port 6006 (pid 9896), started 0:00:04 ago. (Use '!kill 9896' to kill it.)"
      ]
     },
     "metadata": {},
     "output_type": "display_data"
    },
    {
     "data": {
      "text/html": [
       "\n",
       "      <iframe id=\"tensorboard-frame-78db4bd5ce88d93\" width=\"100%\" height=\"800\" frameborder=\"0\">\n",
       "      </iframe>\n",
       "      <script>\n",
       "        (function() {\n",
       "          const frame = document.getElementById(\"tensorboard-frame-78db4bd5ce88d93\");\n",
       "          const url = new URL(\"http://localhost\");\n",
       "          const port = 6006;\n",
       "          if (port) {\n",
       "            url.port = port;\n",
       "          }\n",
       "          frame.src = url;\n",
       "        })();\n",
       "      </script>\n",
       "    "
      ],
      "text/plain": [
       "<IPython.core.display.HTML object>"
      ]
     },
     "metadata": {},
     "output_type": "display_data"
    }
   ],
   "source": [
    "# Load the TensorBoard notebook extension\n",
    "%load_ext tensorboard\n",
    "%tensorboard --logdir=tensorboard_cifar_logs"
   ]
  },
  {
   "attachments": {},
   "cell_type": "markdown",
   "metadata": {},
   "source": [
    "## Fitting the Model"
   ]
  },
  {
   "cell_type": "code",
   "execution_count": 18,
   "metadata": {},
   "outputs": [],
   "source": [
    "samples_per_batch = 1000\n",
    "nr_epochs = 150"
   ]
  },
  {
   "cell_type": "code",
   "execution_count": 19,
   "metadata": {},
   "outputs": [
    {
     "name": "stdout",
     "output_type": "stream",
     "text": [
      "CPU times: total: 7min 52s\n",
      "Wall time: 3min 26s\n"
     ]
    },
    {
     "data": {
      "text/plain": [
       "<keras.src.callbacks.History at 0x211f5be81f0>"
      ]
     },
     "execution_count": 19,
     "metadata": {},
     "output_type": "execute_result"
    }
   ],
   "source": [
    "%%time\n",
    "model_1.fit(x_train, y_train, batch_size=samples_per_batch, epochs=nr_epochs,\n",
    "            callbacks=[get_tensorboard('Model_1')], verbose=0, validation_data=(x_val, y_val))"
   ]
  },
  {
   "cell_type": "code",
   "execution_count": 20,
   "metadata": {},
   "outputs": [
    {
     "name": "stderr",
     "output_type": "stream",
     "text": [
      "C:\\Users\\Electro Store\\AppData\\Roaming\\Python\\Python39\\site-packages\\keras\\src\\engine\\training.py:3000: UserWarning: You are saving your model as an HDF5 file via `model.save()`. This file format is considered legacy. We recommend using instead the native Keras format, e.g. `model.save('my_model.keras')`.\n",
      "  saving_api.save_model(\n"
     ]
    }
   ],
   "source": [
    "# Saving the model\n",
    "model_1.save('ANN_2Hidden.h5')"
   ]
  },
  {
   "attachments": {},
   "cell_type": "markdown",
   "metadata": {},
   "source": [
    "## Making Predictions on Individual Images"
   ]
  },
  {
   "attachments": {},
   "cell_type": "markdown",
   "metadata": {},
   "source": [
    "- In the following code model_1 is used for prediction.\n",
    "- You may use model_2 or model_3 too by making necessary alterations in the model name."
   ]
  },
  {
   "cell_type": "code",
   "execution_count": 21,
   "metadata": {},
   "outputs": [
    {
     "data": {
      "text/plain": [
       "(14400,)"
      ]
     },
     "execution_count": 21,
     "metadata": {},
     "output_type": "execute_result"
    }
   ],
   "source": [
    "image_nr=25\n",
    "x_val[image_nr].shape"
   ]
  },
  {
   "cell_type": "code",
   "execution_count": 22,
   "metadata": {},
   "outputs": [
    {
     "data": {
      "text/plain": [
       "(1, 14400)"
      ]
     },
     "execution_count": 22,
     "metadata": {},
     "output_type": "execute_result"
    }
   ],
   "source": [
    "##Adding a dimension as per requirement of predict method\n",
    "test = np.expand_dims(x_val[image_nr], axis=0)\n",
    "test.shape"
   ]
  },
  {
   "cell_type": "code",
   "execution_count": 23,
   "metadata": {},
   "outputs": [
    {
     "name": "stdout",
     "output_type": "stream",
     "text": [
      "1/1 [==============================] - 0s 122ms/step\n"
     ]
    },
    {
     "data": {
      "text/plain": [
       "array([[0.8082922 , 0.19170776]], dtype=float32)"
      ]
     },
     "execution_count": 23,
     "metadata": {},
     "output_type": "execute_result"
    }
   ],
   "source": [
    "model_1.predict(test)"
   ]
  },
  {
   "cell_type": "code",
   "execution_count": 24,
   "metadata": {},
   "outputs": [
    {
     "name": "stdout",
     "output_type": "stream",
     "text": [
      "1/1 [==============================] - 0s 36ms/step\n",
      "Actual value: 0 vs. predicted: 0\n"
     ]
    }
   ],
   "source": [
    "#Picking the highest probability class\n",
    "predicted_value=np.argmax(model_1.predict(test), axis=1)\n",
    "actual_value=y_val[image_nr]\n",
    "\n",
    "print(f'Actual value: {actual_value} vs. predicted: {predicted_value[0]}')"
   ]
  },
  {
   "attachments": {},
   "cell_type": "markdown",
   "metadata": {},
   "source": [
    "## Evaluation"
   ]
  },
  {
   "cell_type": "code",
   "execution_count": 25,
   "metadata": {},
   "outputs": [
    {
     "data": {
      "text/plain": [
       "['loss', 'accuracy']"
      ]
     },
     "execution_count": 25,
     "metadata": {},
     "output_type": "execute_result"
    }
   ],
   "source": [
    "#Recalling the metrics that we set during compilation of the model.\n",
    "model_1.metrics_names"
   ]
  },
  {
   "cell_type": "code",
   "execution_count": 26,
   "metadata": {},
   "outputs": [
    {
     "name": "stdout",
     "output_type": "stream",
     "text": [
      "32/32 [==============================] - 0s 5ms/step - loss: 0.1612 - accuracy: 0.9440\n",
      "Test loss is 0.161 and test accuracy is 94.4%\n"
     ]
    }
   ],
   "source": [
    "# Let us print the loss funcstion value and overall accuracy of our model on test data.\n",
    "test_loss, test_accuracy = model_1.evaluate(x_test, y_test)\n",
    "print(f'Test loss is {test_loss:0.3} and test accuracy is {test_accuracy:0.1%}')"
   ]
  },
  {
   "cell_type": "code",
   "execution_count": 41,
   "metadata": {},
   "outputs": [
    {
     "name": "stdout",
     "output_type": "stream",
     "text": [
      "32/32 [==============================] - 0s 5ms/step\n"
     ]
    }
   ],
   "source": [
    "y_pred =np.argmax(model_1.predict(x_test), axis=1)"
   ]
  },
  {
   "cell_type": "code",
   "execution_count": 42,
   "metadata": {},
   "outputs": [
    {
     "data": {
      "text/plain": [
       "0.8631578947368421"
      ]
     },
     "execution_count": 42,
     "metadata": {},
     "output_type": "execute_result"
    }
   ],
   "source": [
    "precision = precision_score(y_test, y_pred)\n",
    "precision"
   ]
  },
  {
   "cell_type": "code",
   "execution_count": 44,
   "metadata": {},
   "outputs": [
    {
     "data": {
      "text/plain": [
       "0.656"
      ]
     },
     "execution_count": 44,
     "metadata": {},
     "output_type": "execute_result"
    }
   ],
   "source": [
    "recall = recall_score(y_test, y_pred)\n",
    "recall"
   ]
  },
  {
   "cell_type": "markdown",
   "metadata": {},
   "source": [
    "### Predicting real-world data"
   ]
  },
  {
   "cell_type": "code",
   "execution_count": 3,
   "metadata": {},
   "outputs": [
    {
     "name": "stdout",
     "output_type": "stream",
     "text": [
      "1/1 [==============================] - 0s 109ms/step\n",
      "<class 'numpy.ndarray'>\n",
      "[[0.8674154  0.13258463]]\n",
      "0.8674154\n"
     ]
    },
    {
     "data": {
      "text/plain": [
       "0"
      ]
     },
     "execution_count": 3,
     "metadata": {},
     "output_type": "execute_result"
    }
   ],
   "source": [
    "im = Image.open('./formalShirt2.jpg')\n",
    "im = im.resize((80, 60))\n",
    "\n",
    "im_arr = np.array(im)\n",
    "scaled_imArr = im_arr/255\n",
    "flat_imArr = scaled_imArr.reshape(-1)\n",
    "\n",
    "im = np.expand_dims(flat_imArr, axis=0)\n",
    "\n",
    "model = tf.keras.models.load_model('./ANN_2Hidden.h5')\n",
    "\n",
    "pred1 = model.predict(im)\n",
    "\n",
    "print(type(pred1))\n",
    "print(pred1)\n",
    "print(np.max(pred1))\n",
    "np.argmax(pred1)"
   ]
  },
  {
   "cell_type": "code",
   "execution_count": 2,
   "metadata": {},
   "outputs": [
    {
     "name": "stdout",
     "output_type": "stream",
     "text": [
      "1/1 [==============================] - 0s 167ms/step\n",
      "<class 'numpy.ndarray'>\n",
      "[[0.99579805 0.00420195]]\n",
      "0.99579805\n"
     ]
    },
    {
     "data": {
      "text/plain": [
       "0"
      ]
     },
     "execution_count": 2,
     "metadata": {},
     "output_type": "execute_result"
    }
   ],
   "source": [
    "im2 = Image.open('./casualShirt.jpg')\n",
    "im2 = im2.resize((80, 60))\n",
    "\n",
    "im2_arr = np.array(im2)\n",
    "scaled_im2Arr = im2_arr/255\n",
    "flat_im2Arr = scaled_im2Arr.reshape(-1)\n",
    "\n",
    "im2 = np.expand_dims(flat_im2Arr, axis=0)\n",
    "\n",
    "model = tf.keras.models.load_model('./ANN_2Hidden.h5')\n",
    "\n",
    "pred2 = model.predict(im2)\n",
    "\n",
    "print(type(pred2))\n",
    "print(pred2)\n",
    "print(np.max(pred2))\n",
    "np.argmax(pred2)"
   ]
  }
 ],
 "metadata": {
  "kernelspec": {
   "display_name": "Python 3",
   "language": "python",
   "name": "python3"
  },
  "language_info": {
   "codemirror_mode": {
    "name": "ipython",
    "version": 3
   },
   "file_extension": ".py",
   "mimetype": "text/x-python",
   "name": "python",
   "nbconvert_exporter": "python",
   "pygments_lexer": "ipython3",
   "version": "3.9.7"
  }
 },
 "nbformat": 4,
 "nbformat_minor": 2
}
