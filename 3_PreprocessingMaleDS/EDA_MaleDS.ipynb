{
 "cells": [
  {
   "cell_type": "code",
   "execution_count": 59,
   "metadata": {},
   "outputs": [],
   "source": [
    "import pandas as pd\n",
    "import numpy as np\n",
    "\n",
    "import os\n",
    "import shutil\n",
    "\n",
    "from PIL import Image"
   ]
  },
  {
   "cell_type": "code",
   "execution_count": 60,
   "metadata": {},
   "outputs": [
    {
     "data": {
      "text/html": [
       "<div>\n",
       "<style scoped>\n",
       "    .dataframe tbody tr th:only-of-type {\n",
       "        vertical-align: middle;\n",
       "    }\n",
       "\n",
       "    .dataframe tbody tr th {\n",
       "        vertical-align: top;\n",
       "    }\n",
       "\n",
       "    .dataframe thead th {\n",
       "        text-align: right;\n",
       "    }\n",
       "</style>\n",
       "<table border=\"1\" class=\"dataframe\">\n",
       "  <thead>\n",
       "    <tr style=\"text-align: right;\">\n",
       "      <th></th>\n",
       "      <th>id</th>\n",
       "      <th>articleType</th>\n",
       "      <th>usage</th>\n",
       "    </tr>\n",
       "  </thead>\n",
       "  <tbody>\n",
       "    <tr>\n",
       "      <th>0</th>\n",
       "      <td>15970</td>\n",
       "      <td>Shirts</td>\n",
       "      <td>Casual</td>\n",
       "    </tr>\n",
       "    <tr>\n",
       "      <th>1</th>\n",
       "      <td>39386</td>\n",
       "      <td>Jeans</td>\n",
       "      <td>Casual</td>\n",
       "    </tr>\n",
       "    <tr>\n",
       "      <th>2</th>\n",
       "      <td>21379</td>\n",
       "      <td>Track Pants</td>\n",
       "      <td>Casual</td>\n",
       "    </tr>\n",
       "    <tr>\n",
       "      <th>3</th>\n",
       "      <td>53759</td>\n",
       "      <td>Tshirts</td>\n",
       "      <td>Casual</td>\n",
       "    </tr>\n",
       "    <tr>\n",
       "      <th>4</th>\n",
       "      <td>1855</td>\n",
       "      <td>Tshirts</td>\n",
       "      <td>Casual</td>\n",
       "    </tr>\n",
       "  </tbody>\n",
       "</table>\n",
       "</div>"
      ],
      "text/plain": [
       "      id  articleType   usage\n",
       "0  15970       Shirts  Casual\n",
       "1  39386        Jeans  Casual\n",
       "2  21379  Track Pants  Casual\n",
       "3  53759      Tshirts  Casual\n",
       "4   1855      Tshirts  Casual"
      ]
     },
     "execution_count": 60,
     "metadata": {},
     "output_type": "execute_result"
    }
   ],
   "source": [
    "df = pd.read_csv('../2_SeparatingMaleDataset/maleDS.csv')\n",
    "df.head()"
   ]
  },
  {
   "cell_type": "code",
   "execution_count": 61,
   "metadata": {},
   "outputs": [
    {
     "data": {
      "text/plain": [
       "(25080, 3)"
      ]
     },
     "execution_count": 61,
     "metadata": {},
     "output_type": "execute_result"
    }
   ],
   "source": [
    "df.shape"
   ]
  },
  {
   "cell_type": "code",
   "execution_count": 62,
   "metadata": {},
   "outputs": [
    {
     "name": "stdout",
     "output_type": "stream",
     "text": [
      "<class 'pandas.core.frame.DataFrame'>\n",
      "RangeIndex: 25080 entries, 0 to 25079\n",
      "Data columns (total 3 columns):\n",
      " #   Column       Non-Null Count  Dtype \n",
      "---  ------       --------------  ----- \n",
      " 0   id           25080 non-null  int64 \n",
      " 1   articleType  25080 non-null  object\n",
      " 2   usage        25080 non-null  object\n",
      "dtypes: int64(1), object(2)\n",
      "memory usage: 587.9+ KB\n"
     ]
    }
   ],
   "source": [
    "df.info()"
   ]
  },
  {
   "attachments": {},
   "cell_type": "markdown",
   "metadata": {},
   "source": [
    "# Preprocessing"
   ]
  },
  {
   "attachments": {},
   "cell_type": "markdown",
   "metadata": {},
   "source": [
    "### Dealing with black and white images (80x60)"
   ]
  },
  {
   "cell_type": "code",
   "execution_count": 63,
   "metadata": {},
   "outputs": [],
   "source": [
    "defectedImagesIDs = [] # 80x60 images\n",
    "goodImagesIDs = [] # 80x60x3 images\n",
    "folderPathOfImage = '../2_SeparatingMaleDataset/maleDS/'\n",
    "\n",
    "for id in df['id']:\n",
    "    imagePathVariable = folderPathOfImage + str(id)+'.jpg'\n",
    "    image = Image.open(imagePathVariable)\n",
    "    numpyArrayImg = np.array(image)\n",
    "        \n",
    "    a = (numpyArrayImg.shape)  \n",
    "    if a == (80, 60, 3):\n",
    "        goodImagesIDs.append(id)\n",
    "    else:\n",
    "        defectedImagesIDs.append(id)"
   ]
  },
  {
   "cell_type": "code",
   "execution_count": 64,
   "metadata": {},
   "outputs": [
    {
     "name": "stdout",
     "output_type": "stream",
     "text": [
      "24781\n",
      "299\n",
      "25080\n"
     ]
    }
   ],
   "source": [
    "print(len(goodImagesIDs))\n",
    "print(len(defectedImagesIDs))\n",
    "print(len(goodImagesIDs) + len(defectedImagesIDs))"
   ]
  },
  {
   "cell_type": "code",
   "execution_count": 65,
   "metadata": {},
   "outputs": [
    {
     "data": {
      "text/plain": [
       "usage\n",
       "Casual          229\n",
       "Sports           35\n",
       "Formal           31\n",
       "Smart Casual      2\n",
       "Travel            2\n",
       "Name: count, dtype: int64"
      ]
     },
     "execution_count": 65,
     "metadata": {},
     "output_type": "execute_result"
    }
   ],
   "source": [
    "defectedImgs = df[df['id'].isin(defectedImagesIDs)]\n",
    "defectedImgs.shape\n",
    "defectedImgs['usage'].value_counts() \n",
    "# only 31 bad (80x60) img from Formal and 229 (i.e. almost) are from casual hence removing them will not harm"
   ]
  },
  {
   "cell_type": "code",
   "execution_count": 66,
   "metadata": {},
   "outputs": [
    {
     "data": {
      "text/plain": [
       "(24781, 3)"
      ]
     },
     "execution_count": 66,
     "metadata": {},
     "output_type": "execute_result"
    }
   ],
   "source": [
    "noBandWDS = df[~df['id'].isin(defectedImagesIDs)]\n",
    "noBandWDS.shape"
   ]
  },
  {
   "cell_type": "code",
   "execution_count": 67,
   "metadata": {},
   "outputs": [],
   "source": [
    "noBandWDS.to_csv('processed_maleDS.csv', index = False)"
   ]
  },
  {
   "cell_type": "code",
   "execution_count": 68,
   "metadata": {},
   "outputs": [
    {
     "data": {
      "text/plain": [
       "(24781, 3)"
      ]
     },
     "execution_count": 68,
     "metadata": {},
     "output_type": "execute_result"
    }
   ],
   "source": [
    "df = pd.read_csv('./processed_maleDS.csv')\n",
    "df.shape"
   ]
  },
  {
   "cell_type": "code",
   "execution_count": 69,
   "metadata": {},
   "outputs": [],
   "source": [
    "# removing black and white images\n",
    "image_dir = '../2_SeparatingMaleDataset/maleDS/'\n",
    "for imgID in defectedImagesIDs:\n",
    "    image_path = os.path.join(image_dir, str(imgID) + '.jpg')\n",
    "    if os.path.isfile(image_path):\n",
    "        os.remove(image_path)\n",
    "    else:\n",
    "        print(f\"Could not find file {image_path}\")\n"
   ]
  },
  {
   "cell_type": "markdown",
   "metadata": {},
   "source": [
    "### Reducing labels in articleType"
   ]
  },
  {
   "cell_type": "code",
   "execution_count": 70,
   "metadata": {},
   "outputs": [
    {
     "data": {
      "text/plain": [
       "88"
      ]
     },
     "execution_count": 70,
     "metadata": {},
     "output_type": "execute_result"
    }
   ],
   "source": [
    "articleTypeLabels = set(df['articleType'].values)\n",
    "len(articleTypeLabels) # there are 88 labels "
   ]
  },
  {
   "cell_type": "code",
   "execution_count": 71,
   "metadata": {},
   "outputs": [
    {
     "data": {
      "text/plain": [
       "articleType\n",
       "Tshirts                  5841\n",
       "Shirts                   2918\n",
       "Casual Shoes             2470\n",
       "Sports Shoes             1619\n",
       "Watches                  1575\n",
       "Sandals                   832\n",
       "Sunglasses                745\n",
       "Backpacks                 666\n",
       "Flip Flops                657\n",
       "Formal Shoes              619\n",
       "Socks                     587\n",
       "Briefs                    549\n",
       "Belts                     537\n",
       "Shorts                    437\n",
       "Trousers                  434\n",
       "Wallets                   430\n",
       "Jeans                     366\n",
       "Perfume and Body Mist     331\n",
       "Ties                      256\n",
       "Caps                      249\n",
       "Innerwear Vests           233\n",
       "Sweatshirts               226\n",
       "Deodorant                 217\n",
       "Track Pants               215\n",
       "Jackets                   202\n",
       "Sweaters                  189\n",
       "Trunk                     137\n",
       "Cufflinks                 100\n",
       "Accessory Gift Set         97\n",
       "Kurtas                     83\n",
       "Duffel Bag                 81\n",
       "Laptop Bag                 69\n",
       "Handbags                   68\n",
       "Night suits                63\n",
       "Free Gifts                 54\n",
       "Boxers                     52\n",
       "Scarves                    47\n",
       "Messenger Bag              44\n",
       "Suspenders                 40\n",
       "Sports Sandals             37\n",
       "Lounge Pants               35\n",
       "Fragrance Gift Set         32\n",
       "Mufflers                   30\n",
       "Tracksuits                 28\n",
       "Lounge Shorts              25\n",
       "Waist Pouch                17\n",
       "Ring                       16\n",
       "Bracelet                   15\n",
       "Bangle                     14\n",
       "Basketballs                13\n",
       "Gloves                     13\n",
       "Travel Accessory           12\n",
       "Capris                     12\n",
       "Water Bottle               11\n",
       "Rucksacks                  11\n",
       "Waistcoat                  10\n",
       "Footballs                   8\n",
       "Churidar                    7\n",
       "Rain Jacket                 7\n",
       "Wristbands                  7\n",
       "Headband                    7\n",
       "Rompers                     6\n",
       "Mobile Pouch                6\n",
       "Blazers                     6\n",
       "Booties                     6\n",
       "Clothing Set                5\n",
       "Swimwear                    5\n",
       "Nehru Jackets               5\n",
       "Kurta Sets                  4\n",
       "Pendant                     4\n",
       "Trolley Bag                 3\n",
       "Stoles                      3\n",
       "Hat                         3\n",
       "Shoe Accessories            3\n",
       "Leggings                    3\n",
       "Kurtis                      2\n",
       "Hair Colour                 2\n",
       "Key chain                   2\n",
       "Tablet Sleeve               2\n",
       "Tops                        1\n",
       "Shoe Laces                  1\n",
       "Body Wash and Scrub         1\n",
       "Mens Grooming Kit           1\n",
       "Tights                      1\n",
       "Sunscreen                   1\n",
       "Heels                       1\n",
       "Tunics                      1\n",
       "Cushion Covers              1\n",
       "Name: count, dtype: int64"
      ]
     },
     "execution_count": 71,
     "metadata": {},
     "output_type": "execute_result"
    }
   ],
   "source": [
    "pd.set_option('display.max_rows', 100) # Setting the maximum number of rows to display = 100\n",
    "df['articleType'].value_counts()"
   ]
  },
  {
   "cell_type": "code",
   "execution_count": 14,
   "metadata": {},
   "outputs": [],
   "source": [
    "# Creating separate folder for each articleType label to analyze the images \n",
    "\n",
    "# loop through the labels and create a folder for each label\n",
    "for label in articleTypeLabels:\n",
    "    os.makedirs(f'articleTypes/{label}', exist_ok=True)\n",
    "\n",
    "# loop through the rows in the dataframe and copy the image to the corresponding folder\n",
    "for index, row in df.iterrows(): # iterrowsis similar to enumerate\n",
    "    label = row['articleType']\n",
    "    filename = str(row['id']) + '.jpg'\n",
    "    source_path = os.path.join('../2_SeparatingMaleDataset/maleDS/', filename)\n",
    "    destination_path = os.path.join(f'articleTypes/{label}', filename)\n",
    "    shutil.copyfile(source_path, destination_path)\n"
   ]
  },
  {
   "cell_type": "code",
   "execution_count": 72,
   "metadata": {},
   "outputs": [],
   "source": [
    "# reducing the articleTypes in male DS to 'Boxers','Capris','churidar','Innerwear Vests','Jeans','Kurtas',\n",
    "# 'Kurtis','Lounge Pants','Lounge Shorts','Shirts','Shorts','Sweaters','Swearshirts','Track Pants','Trousers',\n",
    "# 'Tshirts'\n",
    "\n",
    "selectedLabels = ['Boxers','Capris','churidar','Innerwear Vests','Jeans','Kurtas','Kurtis',\n",
    "                  'Lounge Pants','Lounge Shorts','Shirts','Shorts','Sweaters','Swearshirts',\n",
    "                  'Track Pants','Trousers','Tshirts'] \n",
    "df_reducedArticleType = df[df['articleType'].isin(selectedLabels)]\n",
    "df_reducedArticleType.to_csv('reducedArticleType.csv', index=False)"
   ]
  },
  {
   "cell_type": "code",
   "execution_count": 73,
   "metadata": {},
   "outputs": [
    {
     "name": "stdout",
     "output_type": "stream",
     "text": [
      "<class 'pandas.core.frame.DataFrame'>\n",
      "RangeIndex: 10842 entries, 0 to 10841\n",
      "Data columns (total 3 columns):\n",
      " #   Column       Non-Null Count  Dtype \n",
      "---  ------       --------------  ----- \n",
      " 0   id           10842 non-null  int64 \n",
      " 1   articleType  10842 non-null  object\n",
      " 2   usage        10842 non-null  object\n",
      "dtypes: int64(1), object(2)\n",
      "memory usage: 254.2+ KB\n"
     ]
    }
   ],
   "source": [
    "df_reducedArticleType = pd.read_csv('./reducedArticleType.csv')\n",
    "df_reducedArticleType.info()"
   ]
  },
  {
   "cell_type": "code",
   "execution_count": 74,
   "metadata": {},
   "outputs": [
    {
     "data": {
      "text/plain": [
       "{'Boxers',\n",
       " 'Capris',\n",
       " 'Innerwear Vests',\n",
       " 'Jeans',\n",
       " 'Kurtas',\n",
       " 'Kurtis',\n",
       " 'Lounge Pants',\n",
       " 'Lounge Shorts',\n",
       " 'Shirts',\n",
       " 'Shorts',\n",
       " 'Sweaters',\n",
       " 'Track Pants',\n",
       " 'Trousers',\n",
       " 'Tshirts'}"
      ]
     },
     "execution_count": 74,
     "metadata": {},
     "output_type": "execute_result"
    }
   ],
   "source": [
    "reducedArticleTypeLabels = set(df_reducedArticleType['articleType'].values)\n",
    "reducedArticleTypeLabels # from 88 reduced to 14 labels "
   ]
  },
  {
   "cell_type": "code",
   "execution_count": 75,
   "metadata": {},
   "outputs": [
    {
     "data": {
      "text/plain": [
       "articleType\n",
       "Tshirts            5841\n",
       "Shirts             2918\n",
       "Shorts              437\n",
       "Trousers            434\n",
       "Jeans               366\n",
       "Innerwear Vests     233\n",
       "Track Pants         215\n",
       "Sweaters            189\n",
       "Kurtas               83\n",
       "Boxers               52\n",
       "Lounge Pants         35\n",
       "Lounge Shorts        25\n",
       "Capris               12\n",
       "Kurtis                2\n",
       "Name: count, dtype: int64"
      ]
     },
     "execution_count": 75,
     "metadata": {},
     "output_type": "execute_result"
    }
   ],
   "source": [
    "df_reducedArticleType['articleType'].value_counts()"
   ]
  },
  {
   "cell_type": "code",
   "execution_count": 37,
   "metadata": {},
   "outputs": [],
   "source": [
    "# Creating separate folder for each articleType label to analyze the images \n",
    "\n",
    "# loop through the labels and create a folder for each label\n",
    "for label in reducedArticleTypeLabels:\n",
    "    os.makedirs(f'reduced_articleTypes/{label}', exist_ok=True)\n",
    "\n",
    "# loop through the rows in the dataframe and copy the image to the corresponding folder\n",
    "for index, row in df_reducedArticleType.iterrows(): # iterrowsis similar to enumerate\n",
    "    label = row['articleType']\n",
    "    filename = str(row['id']) + '.jpg'\n",
    "    source_path = os.path.join('../2_SeparatingMaleDataset/maleDS/', filename)\n",
    "    destination_path = os.path.join(f'reduced_articleTypes/{label}', filename)\n",
    "    shutil.copyfile(source_path, destination_path)"
   ]
  },
  {
   "cell_type": "code",
   "execution_count": 55,
   "metadata": {},
   "outputs": [],
   "source": [
    "# combining multiple labels of articleType\n",
    "label_mapping = {\n",
    "    'Shorts': 'trouser',\n",
    "    'Trousers': 'trouser',\n",
    "    'Jeans': 'trouser',\n",
    "    'Track Pants': 'trouser',\n",
    "    'Lounge Pants': 'trouser',\n",
    "    'Lounge Shorts': 'trouser',\n",
    "    'Boxers': 'trouser',\n",
    "    'Capris': 'trouser',\n",
    "    'Tshirts': 'tshirt',\n",
    "    'Innerwear Vests': 'tshirt',\n",
    "    'Sweaters': 'tshirt',\n",
    "    'Shirts': 'shirt',\n",
    "    'Kurtas': 'shirt',\n",
    "    'Kurtis': 'shirt'\n",
    "}\n",
    "\n",
    "df_reducedArticleType['articleType'] = df_reducedArticleType['articleType'].map(label_mapping)\n",
    "df_reducedArticleType.to_csv('relabelledArticleType.csv', index=False)"
   ]
  },
  {
   "cell_type": "code",
   "execution_count": 81,
   "metadata": {},
   "outputs": [
    {
     "data": {
      "text/plain": [
       "articleType\n",
       "tshirt     6263\n",
       "shirt      3003\n",
       "trouser    1576\n",
       "Name: count, dtype: int64"
      ]
     },
     "execution_count": 81,
     "metadata": {},
     "output_type": "execute_result"
    }
   ],
   "source": [
    "df_relabelledArticleType = pd.read_csv('./relabelledArticleType.csv')\n",
    "df_relabelledArticleType['articleType'].value_counts()"
   ]
  },
  {
   "cell_type": "markdown",
   "metadata": {},
   "source": [
    "### Analysing DS on usage "
   ]
  },
  {
   "cell_type": "code",
   "execution_count": 76,
   "metadata": {},
   "outputs": [
    {
     "data": {
      "text/plain": [
       "{'Casual', 'Ethnic', 'Formal', 'Party', 'Smart Casual', 'Sports'}"
      ]
     },
     "execution_count": 76,
     "metadata": {},
     "output_type": "execute_result"
    }
   ],
   "source": [
    "# Labels in usage column\n",
    "usageLabels = set(df_relabelledArticleType['usage'].values) # Casual, Formal, Ethnic, Party, Smart Casual, Sports\n",
    "usageLabels"
   ]
  },
  {
   "cell_type": "code",
   "execution_count": 77,
   "metadata": {},
   "outputs": [
    {
     "data": {
      "text/plain": [
       "usage\n",
       "Casual          8547\n",
       "Sports          1135\n",
       "Formal          1044\n",
       "Ethnic            98\n",
       "Smart Casual      16\n",
       "Party              2\n",
       "Name: count, dtype: int64"
      ]
     },
     "execution_count": 77,
     "metadata": {},
     "output_type": "execute_result"
    }
   ],
   "source": [
    "# ======= number of records against each usage label =========\n",
    "# Formal           1044\n",
    "# Casual           8547\n",
    "# Sports           1135\n",
    "# Ethnic             98\n",
    "# Smart Casual       16\n",
    "# Party               2\n",
    "\n",
    "df_relabelledArticleType['usage'].value_counts()"
   ]
  },
  {
   "cell_type": "code",
   "execution_count": 78,
   "metadata": {},
   "outputs": [
    {
     "name": "stdout",
     "output_type": "stream",
     "text": [
      "The articles in Ethnic are:\n",
      "articleType\n",
      "shirt    98\n",
      "Name: count, dtype: int64\n",
      "\n",
      "The articles in Casual are:\n",
      "articleType\n",
      "tshirt     5449\n",
      "shirt      2054\n",
      "trouser    1044\n",
      "Name: count, dtype: int64\n",
      "\n",
      "The articles in Sports are:\n",
      "articleType\n",
      "tshirt     813\n",
      "trouser    322\n",
      "Name: count, dtype: int64\n",
      "\n",
      "The articles in Formal are:\n",
      "articleType\n",
      "shirt      835\n",
      "trouser    208\n",
      "tshirt       1\n",
      "Name: count, dtype: int64\n",
      "\n",
      "The articles in Smart Casual are:\n",
      "articleType\n",
      "shirt      14\n",
      "trouser     2\n",
      "Name: count, dtype: int64\n",
      "\n",
      "The articles in Party are:\n",
      "articleType\n",
      "shirt    2\n",
      "Name: count, dtype: int64\n",
      "\n"
     ]
    }
   ],
   "source": [
    "# Checking articles in formal category\n",
    "def articlesForEachUsage(usageLabels):\n",
    "    for usage in usageLabels: \n",
    "        print(f'The articles in {usage} are:')\n",
    "        print(df_relabelledArticleType[df_relabelledArticleType['usage']==usage]['articleType'].value_counts())\n",
    "        print()\n",
    "    \n",
    "articlesForEachUsage(usageLabels)\n"
   ]
  },
  {
   "cell_type": "code",
   "execution_count": 35,
   "metadata": {},
   "outputs": [],
   "source": [
    "# This will organize the images in sub folders based on the article type for the particular usage\n",
    "\n",
    "# create a dictionary of labels and article types\n",
    "label_article_types = {}\n",
    "\n",
    "# loop through the rows in the dataframe and populate the dictionary\n",
    "for index, row in df_relabelledArticleType.iterrows():\n",
    "    label = row['usage']\n",
    "    article_type = row['articleType']\n",
    "    if label not in label_article_types:\n",
    "        label_article_types[label] = set()\n",
    "    label_article_types[label].add(article_type)\n",
    "\n",
    "# loop through the labels and create a folder for each label\n",
    "for label in label_article_types:\n",
    "    os.makedirs(f'usage/{label}', exist_ok=True)\n",
    "    \n",
    "    # loop through the article types and create a subfolder for each article type within the label folder\n",
    "    for article_type in label_article_types[label]:\n",
    "        os.makedirs(os.path.join(f'usage/{label}', article_type), exist_ok=True)\n",
    "\n",
    "# loop through the rows in the dataframe and copy the image to the corresponding subfolder\n",
    "for index, row in df_relabelledArticleType.iterrows():\n",
    "    label = row['usage']\n",
    "    article_type = row['articleType']\n",
    "    filename = str(row['id']) + '.jpg'\n",
    "    source_path = os.path.join('../2_SeparatingMaleDataset/maleDS/', filename)\n",
    "    destination_path = os.path.join(f'usage/{label}', article_type, filename)\n",
    "    shutil.copyfile(source_path, destination_path)\n"
   ]
  },
  {
   "cell_type": "markdown",
   "metadata": {},
   "source": [
    "##### Analysis\n",
    "**usage feature analysis** \n",
    "1. - Casual and sports can be merge (9,709) \n",
    "   - Formal, ethnic, smart casual, party can be merge (1,160)\n"
   ]
  },
  {
   "cell_type": "code",
   "execution_count": 82,
   "metadata": {},
   "outputs": [],
   "source": [
    "# combining multiple labels of usage\n",
    "label_mapping = {\n",
    "    'Casual': 'Casual',\n",
    "    'Sports': 'Casual',\n",
    "    'Formal': 'Formal',\n",
    "    'Ethnic': 'Formal',\n",
    "    'Smart Casual': 'Formal',\n",
    "    'Party': 'Formal'\n",
    "}\n",
    "\n",
    "df_relabelledArticleType['usage'] = df_relabelledArticleType['usage'].map(label_mapping)\n",
    "df_relabelledArticleType.to_csv('relabelledUsageArticleType.csv', index=False)"
   ]
  },
  {
   "cell_type": "code",
   "execution_count": 83,
   "metadata": {},
   "outputs": [
    {
     "data": {
      "text/plain": [
       "usage\n",
       "Casual    9682\n",
       "Formal    1160\n",
       "Name: count, dtype: int64"
      ]
     },
     "execution_count": 83,
     "metadata": {},
     "output_type": "execute_result"
    }
   ],
   "source": [
    "df_relabelledUsageArticleType = pd.read_csv('./relabelledUsageArticleType.csv')\n",
    "df_relabelledUsageArticleType['usage'].value_counts()"
   ]
  },
  {
   "attachments": {},
   "cell_type": "markdown",
   "metadata": {},
   "source": [
    "### Mislabelled Images"
   ]
  },
  {
   "cell_type": "code",
   "execution_count": null,
   "metadata": {},
   "outputs": [
    {
     "name": "stdout",
     "output_type": "stream",
     "text": [
      "        id gender   articleType   usage\n",
      "3747  7217    Men  Formal Shoes  Formal\n"
     ]
    },
    {
     "data": {
      "image/png": "[encoded data removed]",
      "text/plain": [
       "<Figure size 432x288 with 1 Axes>"
      ]
     },
     "metadata": {
      "needs_background": "light"
     },
     "output_type": "display_data"
    }
   ],
   "source": [
    "# Formal/Formal Shoes has a mislabelled image\n",
    "import matplotlib.pyplot as plt\n",
    "from PIL import Image\n",
    "\n",
    "\n",
    "matched_row = df.loc[df['id'] == (7217)]\n",
    "print(matched_row)\n",
    "\n",
    "img = Image.open('./Formal/Formal Shoes/7217.jpg')\n",
    "\n",
    "plt.imshow(img)\n",
    "plt.show()\n"
   ]
  }
 ],
 "metadata": {
  "kernelspec": {
   "display_name": "Python 3",
   "language": "python",
   "name": "python3"
  },
  "language_info": {
   "codemirror_mode": {
    "name": "ipython",
    "version": 3
   },
   "file_extension": ".py",
   "mimetype": "text/x-python",
   "name": "python",
   "nbconvert_exporter": "python",
   "pygments_lexer": "ipython3",
   "version": "3.9.7"
  },
  "orig_nbformat": 4
 },
 "nbformat": 4,
 "nbformat_minor": 2
}
