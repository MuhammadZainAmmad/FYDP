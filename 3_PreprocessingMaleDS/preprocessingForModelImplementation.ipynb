{
 "cells": [
  {
   "attachments": {},
   "cell_type": "markdown",
   "metadata": {},
   "source": [
    "# Preprocessing the Dataset"
   ]
  },
  {
   "cell_type": "code",
   "execution_count": 1,
   "metadata": {},
   "outputs": [],
   "source": [
    "import numpy as np\n",
    "from PIL import Image\n",
    "import pandas as pd"
   ]
  },
  {
   "cell_type": "code",
   "execution_count": 2,
   "metadata": {},
   "outputs": [
    {
     "data": {
      "text/html": [
       "<div>\n",
       "<style scoped>\n",
       "    .dataframe tbody tr th:only-of-type {\n",
       "        vertical-align: middle;\n",
       "    }\n",
       "\n",
       "    .dataframe tbody tr th {\n",
       "        vertical-align: top;\n",
       "    }\n",
       "\n",
       "    .dataframe thead th {\n",
       "        text-align: right;\n",
       "    }\n",
       "</style>\n",
       "<table border=\"1\" class=\"dataframe\">\n",
       "  <thead>\n",
       "    <tr style=\"text-align: right;\">\n",
       "      <th></th>\n",
       "      <th>id</th>\n",
       "      <th>articleType</th>\n",
       "      <th>usage</th>\n",
       "    </tr>\n",
       "  </thead>\n",
       "  <tbody>\n",
       "    <tr>\n",
       "      <th>0</th>\n",
       "      <td>15970</td>\n",
       "      <td>shirt</td>\n",
       "      <td>Casual</td>\n",
       "    </tr>\n",
       "    <tr>\n",
       "      <th>1</th>\n",
       "      <td>39386</td>\n",
       "      <td>trouser</td>\n",
       "      <td>Casual</td>\n",
       "    </tr>\n",
       "    <tr>\n",
       "      <th>2</th>\n",
       "      <td>21379</td>\n",
       "      <td>trouser</td>\n",
       "      <td>Casual</td>\n",
       "    </tr>\n",
       "    <tr>\n",
       "      <th>3</th>\n",
       "      <td>53759</td>\n",
       "      <td>tshirt</td>\n",
       "      <td>Casual</td>\n",
       "    </tr>\n",
       "    <tr>\n",
       "      <th>4</th>\n",
       "      <td>1855</td>\n",
       "      <td>tshirt</td>\n",
       "      <td>Casual</td>\n",
       "    </tr>\n",
       "    <tr>\n",
       "      <th>5</th>\n",
       "      <td>30805</td>\n",
       "      <td>shirt</td>\n",
       "      <td>Formal</td>\n",
       "    </tr>\n",
       "    <tr>\n",
       "      <th>6</th>\n",
       "      <td>12369</td>\n",
       "      <td>shirt</td>\n",
       "      <td>Formal</td>\n",
       "    </tr>\n",
       "    <tr>\n",
       "      <th>7</th>\n",
       "      <td>7990</td>\n",
       "      <td>tshirt</td>\n",
       "      <td>Casual</td>\n",
       "    </tr>\n",
       "    <tr>\n",
       "      <th>8</th>\n",
       "      <td>37812</td>\n",
       "      <td>shirt</td>\n",
       "      <td>Formal</td>\n",
       "    </tr>\n",
       "    <tr>\n",
       "      <th>9</th>\n",
       "      <td>56825</td>\n",
       "      <td>shirt</td>\n",
       "      <td>Casual</td>\n",
       "    </tr>\n",
       "  </tbody>\n",
       "</table>\n",
       "</div>"
      ],
      "text/plain": [
       "      id articleType   usage\n",
       "0  15970       shirt  Casual\n",
       "1  39386     trouser  Casual\n",
       "2  21379     trouser  Casual\n",
       "3  53759      tshirt  Casual\n",
       "4   1855      tshirt  Casual\n",
       "5  30805       shirt  Formal\n",
       "6  12369       shirt  Formal\n",
       "7   7990      tshirt  Casual\n",
       "8  37812       shirt  Formal\n",
       "9  56825       shirt  Casual"
      ]
     },
     "execution_count": 2,
     "metadata": {},
     "output_type": "execute_result"
    }
   ],
   "source": [
    "df = pd.read_csv(\"../3_PreprocessingMaleDS/final.csv\")\n",
    "df.head(10)"
   ]
  },
  {
   "cell_type": "code",
   "execution_count": 5,
   "metadata": {},
   "outputs": [
    {
     "data": {
      "text/plain": [
       "id             10842\n",
       "articleType    10842\n",
       "usage          10842\n",
       "dtype: int64"
      ]
     },
     "execution_count": 5,
     "metadata": {},
     "output_type": "execute_result"
    }
   ],
   "source": [
    "df.count()"
   ]
  },
  {
   "cell_type": "markdown",
   "metadata": {},
   "source": [
    "### Images to Np Array"
   ]
  },
  {
   "cell_type": "code",
   "execution_count": 6,
   "metadata": {},
   "outputs": [
    {
     "data": {
      "text/plain": [
       "(10842, 80, 60, 3)"
      ]
     },
     "execution_count": 6,
     "metadata": {},
     "output_type": "execute_result"
    }
   ],
   "source": [
    "# Directory of the images\n",
    "folderPathOfImage = \"../3_PreprocessingMaleDS/finalDS/\"\n",
    "\n",
    "NumpyArrays = []\n",
    "for id in df['id']:\n",
    "    imagePathVariable = folderPathOfImage + str(id)+'.jpg'\n",
    "    image = Image.open(imagePathVariable)\n",
    "    numpyArrayImg = np.array(image)\n",
    "    NumpyArrays.append(numpyArrayImg)\n",
    "\n",
    "df_images = np.array(NumpyArrays)\n",
    "df_images.shape"
   ]
  },
  {
   "cell_type": "code",
   "execution_count": 7,
   "metadata": {},
   "outputs": [],
   "source": [
    "np.save('df_images.npy', df_images)"
   ]
  },
  {
   "cell_type": "markdown",
   "metadata": {},
   "source": [
    "### Usage encoding"
   ]
  },
  {
   "cell_type": "code",
   "execution_count": 16,
   "metadata": {},
   "outputs": [
    {
     "data": {
      "text/plain": [
       "usage\n",
       "Casual    9682\n",
       "Formal    1160\n",
       "Name: count, dtype: int64"
      ]
     },
     "execution_count": 16,
     "metadata": {},
     "output_type": "execute_result"
    }
   ],
   "source": [
    "# Encoding the usage column into 0 and 1\n",
    "df_usage = df['usage']\n",
    "df_usage.value_counts()"
   ]
  },
  {
   "cell_type": "code",
   "execution_count": 7,
   "metadata": {},
   "outputs": [
    {
     "name": "stdout",
     "output_type": "stream",
     "text": [
      "<class 'numpy.ndarray'>\n"
     ]
    },
    {
     "data": {
      "text/plain": [
       "(10842,)"
      ]
     },
     "execution_count": 7,
     "metadata": {},
     "output_type": "execute_result"
    }
   ],
   "source": [
    "# Defining Lambda Function to encode the values of the column\n",
    "encoderFunction = lambda valueOfColumn: 1 if (valueOfColumn == 'Formal') else 0\n",
    "df_usageEncoded = np.vectorize(encoderFunction)(df_usage)\n",
    "print(type(df_usageEncoded))\n",
    "df_usageEncoded.shape # (10842,)"
   ]
  },
  {
   "cell_type": "code",
   "execution_count": 14,
   "metadata": {},
   "outputs": [],
   "source": [
    "np.save('df_usageEncoded.npy', df_usageEncoded)"
   ]
  },
  {
   "cell_type": "code",
   "execution_count": 15,
   "metadata": {},
   "outputs": [
    {
     "name": "stdout",
     "output_type": "stream",
     "text": [
      "formal count (1): 1160\n",
      "casual count (0): 9682\n"
     ]
    }
   ],
   "source": [
    "formalCount, casualCount = 0, 0\n",
    "for i in df_usageEncoded:\n",
    "    # print(i)\n",
    "    if i ==1:\n",
    "        formalCount += 1\n",
    "    elif i ==0:\n",
    "        casualCount += 1\n",
    "print(f'formal count (1): {formalCount}') # 1,160 i.e. correct number of 1s (formal)\n",
    "print(f'casual count (0): {casualCount}') # 9,682 i.e. correct number of 0s"
   ]
  },
  {
   "cell_type": "code",
   "execution_count": 19,
   "metadata": {},
   "outputs": [
    {
     "name": "stdout",
     "output_type": "stream",
     "text": [
      "0 0\n",
      "1 0\n",
      "2 0\n",
      "3 0\n",
      "4 0\n",
      "5 1\n",
      "6 1\n",
      "7 0\n",
      "8 1\n",
      "9 0\n"
     ]
    }
   ],
   "source": [
    "# checking the saved numpy array of encoded usage column \n",
    "encodedUsage = np.load('./df_usageEncoded.npy')\n",
    "encodedUsage\n",
    "for i in range(10):\n",
    "    print(i, encodedUsage[i])"
   ]
  },
  {
   "cell_type": "markdown",
   "metadata": {},
   "source": [
    "### articleType encoding"
   ]
  },
  {
   "cell_type": "code",
   "execution_count": 17,
   "metadata": {},
   "outputs": [
    {
     "data": {
      "text/plain": [
       "articleType\n",
       "tshirt     6263\n",
       "shirt      3003\n",
       "trouser    1576\n",
       "Name: count, dtype: int64"
      ]
     },
     "execution_count": 17,
     "metadata": {},
     "output_type": "execute_result"
    }
   ],
   "source": [
    "# Encoding the articleType column into 0,1,2\n",
    "df_articleType = df['articleType']\n",
    "df_articleType.value_counts()"
   ]
  },
  {
   "cell_type": "code",
   "execution_count": 13,
   "metadata": {},
   "outputs": [
    {
     "name": "stdout",
     "output_type": "stream",
     "text": [
      "<class 'numpy.ndarray'>\n"
     ]
    },
    {
     "data": {
      "text/plain": [
       "(10842,)"
      ]
     },
     "execution_count": 13,
     "metadata": {},
     "output_type": "execute_result"
    }
   ],
   "source": [
    "# Defining Lambda Function to encode the values of the column\n",
    "encoderFunction = lambda valueOfColumn: 0 if (valueOfColumn == 'shirt') else 1 if (valueOfColumn == 'tshirt') else 2\n",
    "df_articleTypeEncoded = np.vectorize(encoderFunction)(df_articleType)\n",
    "print(type(df_articleTypeEncoded))\n",
    "df_articleTypeEncoded.shape # (24781,)"
   ]
  },
  {
   "cell_type": "code",
   "execution_count": 14,
   "metadata": {},
   "outputs": [],
   "source": [
    "np.save('df_articleTypeEncoded.npy', df_articleTypeEncoded)"
   ]
  },
  {
   "cell_type": "code",
   "execution_count": 15,
   "metadata": {},
   "outputs": [
    {
     "name": "stdout",
     "output_type": "stream",
     "text": [
      "shirt count (0): 3003\n",
      "tshirt count (1): 6263\n",
      "trouser count (1): 1576\n"
     ]
    }
   ],
   "source": [
    "shirtCount, tshirtCount, trouserCount = 0, 0, 0\n",
    "for i in df_articleTypeEncoded:\n",
    "    # print(i)\n",
    "    if i ==0:\n",
    "        shirtCount += 1\n",
    "    elif i ==1:\n",
    "        tshirtCount += 1\n",
    "    elif i==2:\n",
    "        trouserCount +=1\n",
    "print(f'shirt count (0): {shirtCount}')\n",
    "print(f'tshirt count (1): {tshirtCount}') \n",
    "print(f'trouser count (1): {trouserCount}')"
   ]
  },
  {
   "cell_type": "code",
   "execution_count": 19,
   "metadata": {},
   "outputs": [
    {
     "name": "stdout",
     "output_type": "stream",
     "text": [
      "0 0\n",
      "1 2\n",
      "2 2\n",
      "3 1\n",
      "4 1\n",
      "5 0\n",
      "6 0\n",
      "7 1\n",
      "8 0\n",
      "9 0\n"
     ]
    }
   ],
   "source": [
    "# checking the saved numpy array of encoded usage column \n",
    "encodedArticleType = np.load('./df_articleTypeEncoded.npy')\n",
    "encodedArticleType\n",
    "for i in range(10):\n",
    "    print(i, encodedArticleType[i])"
   ]
  }
 ],
 "metadata": {
  "kernelspec": {
   "display_name": "Python 3",
   "language": "python",
   "name": "python3"
  },
  "language_info": {
   "codemirror_mode": {
    "name": "ipython",
    "version": 3
   },
   "file_extension": ".py",
   "mimetype": "text/x-python",
   "name": "python",
   "nbconvert_exporter": "python",
   "pygments_lexer": "ipython3",
   "version": "3.9.7"
  },
  "orig_nbformat": 4
 },
 "nbformat": 4,
 "nbformat_minor": 2
}
