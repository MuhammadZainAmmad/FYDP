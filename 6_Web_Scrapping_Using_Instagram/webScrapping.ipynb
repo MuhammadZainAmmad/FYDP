{
 "cells": [
  {
   "cell_type": "code",
   "execution_count": 7,
   "metadata": {},
   "outputs": [],
   "source": [
    "# Selenium Imports here \n",
    "\n",
    "from selenium import webdriver\n",
    "from selenium.webdriver.common.keys import Keys\n",
    "from selenium.webdriver.support import expected_conditions as EC\n",
    "from selenium.webdriver.common.by import By\n",
    "from selenium.webdriver.support.wait import WebDriverWait\n"
   ]
  },
  {
   "cell_type": "code",
   "execution_count": 8,
   "metadata": {},
   "outputs": [],
   "source": [
    "# Other Imports here\n",
    "\n",
    "import os\n",
    "import wget\n",
    "# cmd >> pip install wget"
   ]
  },
  {
   "cell_type": "markdown",
   "metadata": {},
   "source": [
    "Download Chrome Driver \n",
    "Login to your Instagram Account"
   ]
  },
  {
   "cell_type": "code",
   "execution_count": 12,
   "metadata": {},
   "outputs": [
    {
     "name": "stderr",
     "output_type": "stream",
     "text": [
      "C:\\Users\\Nadeem\\AppData\\Local\\Temp\\ipykernel_2396\\1993426088.py:4: DeprecationWarning: executable_path has been deprecated, please pass in a Service object\n",
      "  driver = webdriver.Chrome('E:/Setups/chromedriver_win32/chromedriver.exe')\n"
     ]
    },
    {
     "ename": "SessionNotCreatedException",
     "evalue": "Message: session not created: This version of ChromeDriver only supports Chrome version 106\nCurrent browser version is 113.0.5672.93 with binary path C:\\Program Files (x86)\\Google\\Chrome\\Application\\chrome.exe\nStacktrace:\nBacktrace:\n\tOrdinal0 [0x00611ED3+2236115]\n\tOrdinal0 [0x005A92F1+1807089]\n\tOrdinal0 [0x004B66FD+812797]\n\tOrdinal0 [0x004D8C6D+953453]\n\tOrdinal0 [0x004D4200+934400]\n\tOrdinal0 [0x004D19C9+924105]\n\tOrdinal0 [0x0050806C+1146988]\n\tOrdinal0 [0x00507A6A+1145450]\n\tOrdinal0 [0x005018A6+1120422]\n\tOrdinal0 [0x004DA73D+960317]\n\tOrdinal0 [0x004DB71F+964383]\n\tGetHandleVerifier [0x008BE7E2+2743074]\n\tGetHandleVerifier [0x008B08D4+2685972]\n\tGetHandleVerifier [0x006A2BAA+532202]\n\tGetHandleVerifier [0x006A1990+527568]\n\tOrdinal0 [0x005B080C+1837068]\n\tOrdinal0 [0x005B4CD8+1854680]\n\tOrdinal0 [0x005B4DC5+1854917]\n\tOrdinal0 [0x005BED64+1895780]\n\tBaseThreadInitThunk [0x75EC00C9+25]\n\tRtlGetAppContainerNamedObjectPath [0x77AA7B4E+286]\n\tRtlGetAppContainerNamedObjectPath [0x77AA7B1E+238]\n",
     "output_type": "error",
     "traceback": [
      "\u001b[1;31m---------------------------------------------------------------------------\u001b[0m",
      "\u001b[1;31mSessionNotCreatedException\u001b[0m                Traceback (most recent call last)",
      "Cell \u001b[1;32mIn[12], line 4\u001b[0m\n\u001b[0;32m      1\u001b[0m \u001b[39m# copy the folder path where your chromedriver is located\u001b[39;00m\n\u001b[0;32m      2\u001b[0m \u001b[39m#  turn every backslash of address into forward slash\u001b[39;00m\n\u001b[1;32m----> 4\u001b[0m driver \u001b[39m=\u001b[39m webdriver\u001b[39m.\u001b[39;49mChrome(\u001b[39m'\u001b[39;49m\u001b[39mE:/Setups/chromedriver_win32/chromedriver.exe\u001b[39;49m\u001b[39m'\u001b[39;49m)\n\u001b[0;32m      6\u001b[0m \u001b[39m# now we would like the driver to open which specific webpage\u001b[39;00m\n\u001b[0;32m      7\u001b[0m \u001b[39m# place instagram.com in the driver.get() method\u001b[39;00m\n\u001b[0;32m      8\u001b[0m \u001b[39m# ALWAYS USE FORWARD SLASHES !!! \u001b[39;00m\n\u001b[0;32m     10\u001b[0m driver\u001b[39m.\u001b[39mget(\u001b[39m\"\u001b[39m\u001b[39mhttps://www.instagram.com/\u001b[39m\u001b[39m\"\u001b[39m)\n",
      "File \u001b[1;32my:\\python\\Lib\\site-packages\\selenium\\webdriver\\chrome\\webdriver.py:80\u001b[0m, in \u001b[0;36mWebDriver.__init__\u001b[1;34m(self, executable_path, port, options, service_args, desired_capabilities, service_log_path, chrome_options, service, keep_alive)\u001b[0m\n\u001b[0;32m     77\u001b[0m \u001b[39mif\u001b[39;00m \u001b[39mnot\u001b[39;00m service:\n\u001b[0;32m     78\u001b[0m     service \u001b[39m=\u001b[39m Service(executable_path, port, service_args, service_log_path)\n\u001b[1;32m---> 80\u001b[0m \u001b[39msuper\u001b[39;49m()\u001b[39m.\u001b[39;49m\u001b[39m__init__\u001b[39;49m(\n\u001b[0;32m     81\u001b[0m     DesiredCapabilities\u001b[39m.\u001b[39;49mCHROME[\u001b[39m\"\u001b[39;49m\u001b[39mbrowserName\u001b[39;49m\u001b[39m\"\u001b[39;49m],\n\u001b[0;32m     82\u001b[0m     \u001b[39m\"\u001b[39;49m\u001b[39mgoog\u001b[39;49m\u001b[39m\"\u001b[39;49m,\n\u001b[0;32m     83\u001b[0m     port,\n\u001b[0;32m     84\u001b[0m     options,\n\u001b[0;32m     85\u001b[0m     service_args,\n\u001b[0;32m     86\u001b[0m     desired_capabilities,\n\u001b[0;32m     87\u001b[0m     service_log_path,\n\u001b[0;32m     88\u001b[0m     service,\n\u001b[0;32m     89\u001b[0m     keep_alive,\n\u001b[0;32m     90\u001b[0m )\n",
      "File \u001b[1;32my:\\python\\Lib\\site-packages\\selenium\\webdriver\\chromium\\webdriver.py:104\u001b[0m, in \u001b[0;36mChromiumDriver.__init__\u001b[1;34m(self, browser_name, vendor_prefix, port, options, service_args, desired_capabilities, service_log_path, service, keep_alive)\u001b[0m\n\u001b[0;32m    101\u001b[0m \u001b[39mself\u001b[39m\u001b[39m.\u001b[39mservice\u001b[39m.\u001b[39mstart()\n\u001b[0;32m    103\u001b[0m \u001b[39mtry\u001b[39;00m:\n\u001b[1;32m--> 104\u001b[0m     \u001b[39msuper\u001b[39;49m()\u001b[39m.\u001b[39;49m\u001b[39m__init__\u001b[39;49m(\n\u001b[0;32m    105\u001b[0m         command_executor\u001b[39m=\u001b[39;49mChromiumRemoteConnection(\n\u001b[0;32m    106\u001b[0m             remote_server_addr\u001b[39m=\u001b[39;49m\u001b[39mself\u001b[39;49m\u001b[39m.\u001b[39;49mservice\u001b[39m.\u001b[39;49mservice_url,\n\u001b[0;32m    107\u001b[0m             browser_name\u001b[39m=\u001b[39;49mbrowser_name,\n\u001b[0;32m    108\u001b[0m             vendor_prefix\u001b[39m=\u001b[39;49mvendor_prefix,\n\u001b[0;32m    109\u001b[0m             keep_alive\u001b[39m=\u001b[39;49mkeep_alive,\n\u001b[0;32m    110\u001b[0m             ignore_proxy\u001b[39m=\u001b[39;49m_ignore_proxy,\n\u001b[0;32m    111\u001b[0m         ),\n\u001b[0;32m    112\u001b[0m         options\u001b[39m=\u001b[39;49moptions,\n\u001b[0;32m    113\u001b[0m     )\n\u001b[0;32m    114\u001b[0m \u001b[39mexcept\u001b[39;00m \u001b[39mException\u001b[39;00m:\n\u001b[0;32m    115\u001b[0m     \u001b[39mself\u001b[39m\u001b[39m.\u001b[39mquit()\n",
      "File \u001b[1;32my:\\python\\Lib\\site-packages\\selenium\\webdriver\\remote\\webdriver.py:286\u001b[0m, in \u001b[0;36mWebDriver.__init__\u001b[1;34m(self, command_executor, desired_capabilities, browser_profile, proxy, keep_alive, file_detector, options)\u001b[0m\n\u001b[0;32m    284\u001b[0m \u001b[39mself\u001b[39m\u001b[39m.\u001b[39m_authenticator_id \u001b[39m=\u001b[39m \u001b[39mNone\u001b[39;00m\n\u001b[0;32m    285\u001b[0m \u001b[39mself\u001b[39m\u001b[39m.\u001b[39mstart_client()\n\u001b[1;32m--> 286\u001b[0m \u001b[39mself\u001b[39;49m\u001b[39m.\u001b[39;49mstart_session(capabilities, browser_profile)\n",
      "File \u001b[1;32my:\\python\\Lib\\site-packages\\selenium\\webdriver\\remote\\webdriver.py:378\u001b[0m, in \u001b[0;36mWebDriver.start_session\u001b[1;34m(self, capabilities, browser_profile)\u001b[0m\n\u001b[0;32m    376\u001b[0m w3c_caps \u001b[39m=\u001b[39m _make_w3c_caps(capabilities)\n\u001b[0;32m    377\u001b[0m parameters \u001b[39m=\u001b[39m {\u001b[39m\"\u001b[39m\u001b[39mcapabilities\u001b[39m\u001b[39m\"\u001b[39m: w3c_caps}\n\u001b[1;32m--> 378\u001b[0m response \u001b[39m=\u001b[39m \u001b[39mself\u001b[39;49m\u001b[39m.\u001b[39;49mexecute(Command\u001b[39m.\u001b[39;49mNEW_SESSION, parameters)\n\u001b[0;32m    379\u001b[0m \u001b[39mif\u001b[39;00m \u001b[39m\"\u001b[39m\u001b[39msessionId\u001b[39m\u001b[39m\"\u001b[39m \u001b[39mnot\u001b[39;00m \u001b[39min\u001b[39;00m response:\n\u001b[0;32m    380\u001b[0m     response \u001b[39m=\u001b[39m response[\u001b[39m\"\u001b[39m\u001b[39mvalue\u001b[39m\u001b[39m\"\u001b[39m]\n",
      "File \u001b[1;32my:\\python\\Lib\\site-packages\\selenium\\webdriver\\remote\\webdriver.py:440\u001b[0m, in \u001b[0;36mWebDriver.execute\u001b[1;34m(self, driver_command, params)\u001b[0m\n\u001b[0;32m    438\u001b[0m response \u001b[39m=\u001b[39m \u001b[39mself\u001b[39m\u001b[39m.\u001b[39mcommand_executor\u001b[39m.\u001b[39mexecute(driver_command, params)\n\u001b[0;32m    439\u001b[0m \u001b[39mif\u001b[39;00m response:\n\u001b[1;32m--> 440\u001b[0m     \u001b[39mself\u001b[39;49m\u001b[39m.\u001b[39;49merror_handler\u001b[39m.\u001b[39;49mcheck_response(response)\n\u001b[0;32m    441\u001b[0m     response[\u001b[39m\"\u001b[39m\u001b[39mvalue\u001b[39m\u001b[39m\"\u001b[39m] \u001b[39m=\u001b[39m \u001b[39mself\u001b[39m\u001b[39m.\u001b[39m_unwrap_value(response\u001b[39m.\u001b[39mget(\u001b[39m\"\u001b[39m\u001b[39mvalue\u001b[39m\u001b[39m\"\u001b[39m, \u001b[39mNone\u001b[39;00m))\n\u001b[0;32m    442\u001b[0m     \u001b[39mreturn\u001b[39;00m response\n",
      "File \u001b[1;32my:\\python\\Lib\\site-packages\\selenium\\webdriver\\remote\\errorhandler.py:245\u001b[0m, in \u001b[0;36mErrorHandler.check_response\u001b[1;34m(self, response)\u001b[0m\n\u001b[0;32m    243\u001b[0m         alert_text \u001b[39m=\u001b[39m value[\u001b[39m\"\u001b[39m\u001b[39malert\u001b[39m\u001b[39m\"\u001b[39m]\u001b[39m.\u001b[39mget(\u001b[39m\"\u001b[39m\u001b[39mtext\u001b[39m\u001b[39m\"\u001b[39m)\n\u001b[0;32m    244\u001b[0m     \u001b[39mraise\u001b[39;00m exception_class(message, screen, stacktrace, alert_text)  \u001b[39m# type: ignore[call-arg]  # mypy is not smart enough here\u001b[39;00m\n\u001b[1;32m--> 245\u001b[0m \u001b[39mraise\u001b[39;00m exception_class(message, screen, stacktrace)\n",
      "\u001b[1;31mSessionNotCreatedException\u001b[0m: Message: session not created: This version of ChromeDriver only supports Chrome version 106\nCurrent browser version is 113.0.5672.93 with binary path C:\\Program Files (x86)\\Google\\Chrome\\Application\\chrome.exe\nStacktrace:\nBacktrace:\n\tOrdinal0 [0x00611ED3+2236115]\n\tOrdinal0 [0x005A92F1+1807089]\n\tOrdinal0 [0x004B66FD+812797]\n\tOrdinal0 [0x004D8C6D+953453]\n\tOrdinal0 [0x004D4200+934400]\n\tOrdinal0 [0x004D19C9+924105]\n\tOrdinal0 [0x0050806C+1146988]\n\tOrdinal0 [0x00507A6A+1145450]\n\tOrdinal0 [0x005018A6+1120422]\n\tOrdinal0 [0x004DA73D+960317]\n\tOrdinal0 [0x004DB71F+964383]\n\tGetHandleVerifier [0x008BE7E2+2743074]\n\tGetHandleVerifier [0x008B08D4+2685972]\n\tGetHandleVerifier [0x006A2BAA+532202]\n\tGetHandleVerifier [0x006A1990+527568]\n\tOrdinal0 [0x005B080C+1837068]\n\tOrdinal0 [0x005B4CD8+1854680]\n\tOrdinal0 [0x005B4DC5+1854917]\n\tOrdinal0 [0x005BED64+1895780]\n\tBaseThreadInitThunk [0x75EC00C9+25]\n\tRtlGetAppContainerNamedObjectPath [0x77AA7B4E+286]\n\tRtlGetAppContainerNamedObjectPath [0x77AA7B1E+238]\n"
     ]
    }
   ],
   "source": [
    "# copy the folder path where your chromedriver is located\n",
    "#  turn every backslash of address into forward slash\n",
    "\n",
    "driver = webdriver.Chrome('E:/Setups/chromedriver_win32/chromedriver.exe')\n",
    "\n",
    "# now we would like the driver to open which specific webpage\n",
    "# place instagram.com in the driver.get() method\n",
    "# ALWAYS USE FORWARD SLASHES !!! \n",
    "\n",
    "driver.get(\"https://www.instagram.com/\")\n",
    "\n",
    "# above line will open Instagram Login Page"
   ]
  },
  {
   "cell_type": "code",
   "execution_count": 6,
   "metadata": {},
   "outputs": [
    {
     "ename": "NameError",
     "evalue": "name 'driver' is not defined",
     "output_type": "error",
     "traceback": [
      "\u001b[1;31m---------------------------------------------------------------------------\u001b[0m",
      "\u001b[1;31mNameError\u001b[0m                                 Traceback (most recent call last)",
      "Cell \u001b[1;32mIn[6], line 6\u001b[0m\n\u001b[0;32m      1\u001b[0m \u001b[39m# Selecting Input Fields on Instagram Login Page\u001b[39;00m\n\u001b[0;32m      2\u001b[0m \u001b[39m# now we need to find the username and password fields\u001b[39;00m\n\u001b[0;32m      3\u001b[0m \u001b[39m# the name of the username field is \"username\"\u001b[39;00m\n\u001b[0;32m      4\u001b[0m \u001b[39m# the name of the password field is \"password\"\u001b[39;00m\n\u001b[1;32m----> 6\u001b[0m username \u001b[39m=\u001b[39m WebDriverWait(driver, \u001b[39m10\u001b[39m)\u001b[39m.\u001b[39muntil(EC\u001b[39m.\u001b[39melement_to_be_clickable((By\u001b[39m.\u001b[39mCSS_SELECTOR, \u001b[39m\"\u001b[39m\u001b[39minput[name=\u001b[39m\u001b[39m'\u001b[39m\u001b[39musername\u001b[39m\u001b[39m'\u001b[39m\u001b[39m]\u001b[39m\u001b[39m\"\u001b[39m)))\n\u001b[0;32m      8\u001b[0m password \u001b[39m=\u001b[39m WebDriverWait(driver, \u001b[39m10\u001b[39m)\u001b[39m.\u001b[39muntil(EC\u001b[39m.\u001b[39melement_to_be_clickable((By\u001b[39m.\u001b[39mCSS_SELECTOR, \u001b[39m\"\u001b[39m\u001b[39minput[name=\u001b[39m\u001b[39m'\u001b[39m\u001b[39mpassword\u001b[39m\u001b[39m'\u001b[39m\u001b[39m]\u001b[39m\u001b[39m\"\u001b[39m)))\n\u001b[0;32m     10\u001b[0m \u001b[39m# since we have selected input fields, we will proceed with entering our login\u001b[39;00m\n\u001b[0;32m     11\u001b[0m \n\u001b[0;32m     12\u001b[0m \u001b[39m# .clear() is used to make sure the Input Fields are empty\u001b[39;00m\n",
      "\u001b[1;31mNameError\u001b[0m: name 'driver' is not defined"
     ]
    }
   ],
   "source": [
    "# Selecting Input Fields on Instagram Login Page\n",
    "# now we need to find the username and password fields\n",
    "# the name of the username field is \"username\"\n",
    "# the name of the password field is \"password\"\n",
    "\n",
    "username = WebDriverWait(driver, 10).until(EC.element_to_be_clickable((By.CSS_SELECTOR, \"input[name='username']\")))\n",
    "\n",
    "password = WebDriverWait(driver, 10).until(EC.element_to_be_clickable((By.CSS_SELECTOR, \"input[name='password']\")))\n",
    "\n",
    "# since we have selected input fields, we will proceed with entering our login\n",
    "\n",
    "# .clear() is used to make sure the Input Fields are empty\n",
    "\n",
    "username.clear()\n",
    "password.clear()\n",
    "\n",
    "# Our own Credentials \n",
    "\n",
    "username.send_keys(\"\")\n",
    "password.send_keys(\"\")\n",
    "\n",
    "# now for button click\n",
    "# selecting this element is not enough, so we have to perform a click action by .click()\n",
    "\n",
    "log_in = WebDriverWait(driver, 10).until(EC.element_to_be_clickable((By.CSS_SELECTOR, \"button[type='submit']\"))).click()\n"
   ]
  },
  {
   "cell_type": "code",
   "execution_count": 5,
   "metadata": {},
   "outputs": [],
   "source": [
    "# now we will be redirected to the home page of Instagram\n",
    "# we will target button, but it is too generic type, instead selecting CSS selector, we will use xpath.\n",
    "# we will target the specific text inside a button to be clicked.\n",
    "\n",
    "notNow = WebDriverWait(driver, 10).until(EC.element_to_be_clickable(( By.XPATH, \"//button[contains(text(), 'Not Now')]\"))).click()\n",
    "\n",
    "# this not Now Button is the one\n",
    "# which pops up when we log in to Instagram\n",
    "\n",
    "notNow2 = WebDriverWait(driver, 10).until(EC.element_to_be_clickable(( By.XPATH, \"//button[contains(text(), 'Not Now')]\"))).click()\n"
   ]
  },
  {
   "cell_type": "code",
   "execution_count": 9,
   "metadata": {},
   "outputs": [],
   "source": [
    "# Search for a Hashtag/ Person in Search Bar\n",
    "# use it's placeholder attribute to find the search bar\n",
    "\n",
    "searchBox =  WebDriverWait(driver, 10).until(EC.element_to_be_clickable((By.CSS_SELECTOR, \"input[placeholder='Search']\")))\n",
    "\n",
    "# Clearing the search box\n",
    "\n",
    "searchBox.clear()\n",
    "\n",
    "keyword = \"#cats\"\n",
    "\n",
    "# now this hashtag is automatically entered but we still need to click it. \n",
    "# there is no button for that, we have to enter the hashtag and press enter\n",
    "\n",
    "searchBox.send_keys(keyword)\n",
    "\n",
    "searchBox.send_keys(Keys.ENTER)\n",
    "searchBox.send_keys(Keys.ENTER)\n"
   ]
  },
  {
   "cell_type": "code",
   "execution_count": 10,
   "metadata": {},
   "outputs": [],
   "source": [
    "# scrolling down the page\n",
    "driver.execute_script(\"window.scrollTo(0, 4000);\")\n"
   ]
  },
  {
   "cell_type": "code",
   "execution_count": 31,
   "metadata": {},
   "outputs": [],
   "source": [
    "\n",
    "#images = driver.find_element(By.CLASS_NAME, \"_aagw\")\n",
    "\n",
    "images = driver.find_elements(By.TAG_NAME,'img')\n",
    "\n"
   ]
  },
  {
   "cell_type": "code",
   "execution_count": 32,
   "metadata": {},
   "outputs": [
    {
     "data": {
      "text/plain": [
       "[<selenium.webdriver.remote.webelement.WebElement (session=\"95476c5cf8cf39aaed8a73d15e9efd34\", element=\"e9bc1a2d-59f2-4f68-96f6-17dd55fd892a\")>,\n",
       " <selenium.webdriver.remote.webelement.WebElement (session=\"95476c5cf8cf39aaed8a73d15e9efd34\", element=\"16206ffe-dc4d-476c-a53a-cb926ba70db5\")>,\n",
       " <selenium.webdriver.remote.webelement.WebElement (session=\"95476c5cf8cf39aaed8a73d15e9efd34\", element=\"0ec3e20c-55b7-49e4-a657-768fbfd10e39\")>,\n",
       " <selenium.webdriver.remote.webelement.WebElement (session=\"95476c5cf8cf39aaed8a73d15e9efd34\", element=\"319154a8-b75b-4306-bafd-7ea8b7fc55e3\")>,\n",
       " <selenium.webdriver.remote.webelement.WebElement (session=\"95476c5cf8cf39aaed8a73d15e9efd34\", element=\"f008c3a5-cf44-4e42-a5cf-49e48ec351bf\")>,\n",
       " <selenium.webdriver.remote.webelement.WebElement (session=\"95476c5cf8cf39aaed8a73d15e9efd34\", element=\"5bddba9f-a38c-4509-bd06-683b2d78b52c\")>,\n",
       " <selenium.webdriver.remote.webelement.WebElement (session=\"95476c5cf8cf39aaed8a73d15e9efd34\", element=\"7288bd4f-6c18-469d-abc3-dc9d31d2b974\")>,\n",
       " <selenium.webdriver.remote.webelement.WebElement (session=\"95476c5cf8cf39aaed8a73d15e9efd34\", element=\"6f0b26cb-158e-47e2-8081-ca5ddd938a97\")>,\n",
       " <selenium.webdriver.remote.webelement.WebElement (session=\"95476c5cf8cf39aaed8a73d15e9efd34\", element=\"04ad2863-031c-442e-8598-5b2eaf97de90\")>,\n",
       " <selenium.webdriver.remote.webelement.WebElement (session=\"95476c5cf8cf39aaed8a73d15e9efd34\", element=\"3a4c0402-0328-4268-b7be-970a3eee442d\")>,\n",
       " <selenium.webdriver.remote.webelement.WebElement (session=\"95476c5cf8cf39aaed8a73d15e9efd34\", element=\"7717d268-d9f3-45d0-b6a4-d670cec469de\")>,\n",
       " <selenium.webdriver.remote.webelement.WebElement (session=\"95476c5cf8cf39aaed8a73d15e9efd34\", element=\"fececdad-1015-4cca-8ee0-682737b67023\")>,\n",
       " <selenium.webdriver.remote.webelement.WebElement (session=\"95476c5cf8cf39aaed8a73d15e9efd34\", element=\"8ce99717-54a1-4795-a9b7-cc4a3d9cb175\")>,\n",
       " <selenium.webdriver.remote.webelement.WebElement (session=\"95476c5cf8cf39aaed8a73d15e9efd34\", element=\"1438ee43-2e9d-4d60-b7dd-a5ba3bca5e1f\")>,\n",
       " <selenium.webdriver.remote.webelement.WebElement (session=\"95476c5cf8cf39aaed8a73d15e9efd34\", element=\"6ee59de3-8611-4754-9915-90f6b527b13b\")>,\n",
       " <selenium.webdriver.remote.webelement.WebElement (session=\"95476c5cf8cf39aaed8a73d15e9efd34\", element=\"a3dfc56a-e150-41dc-a801-01140c76d182\")>,\n",
       " <selenium.webdriver.remote.webelement.WebElement (session=\"95476c5cf8cf39aaed8a73d15e9efd34\", element=\"b2d1d193-6fbb-43ec-a14f-74db129eff62\")>,\n",
       " <selenium.webdriver.remote.webelement.WebElement (session=\"95476c5cf8cf39aaed8a73d15e9efd34\", element=\"97a14e5b-0755-4424-b63a-ec4458e67bac\")>,\n",
       " <selenium.webdriver.remote.webelement.WebElement (session=\"95476c5cf8cf39aaed8a73d15e9efd34\", element=\"6897126d-6c45-4cc6-858d-1e48c4c9fc37\")>,\n",
       " <selenium.webdriver.remote.webelement.WebElement (session=\"95476c5cf8cf39aaed8a73d15e9efd34\", element=\"d36e57f3-7bfe-4741-8391-34ef82ce7354\")>,\n",
       " <selenium.webdriver.remote.webelement.WebElement (session=\"95476c5cf8cf39aaed8a73d15e9efd34\", element=\"610dd43d-407c-4da0-a409-9f1fc5a93ad5\")>,\n",
       " <selenium.webdriver.remote.webelement.WebElement (session=\"95476c5cf8cf39aaed8a73d15e9efd34\", element=\"d6992010-c0fb-4238-85c3-d9e97537c0a4\")>,\n",
       " <selenium.webdriver.remote.webelement.WebElement (session=\"95476c5cf8cf39aaed8a73d15e9efd34\", element=\"312644ab-882d-41fa-8c45-31946a8663f0\")>,\n",
       " <selenium.webdriver.remote.webelement.WebElement (session=\"95476c5cf8cf39aaed8a73d15e9efd34\", element=\"3e108625-d760-45db-958a-77817f453623\")>,\n",
       " <selenium.webdriver.remote.webelement.WebElement (session=\"95476c5cf8cf39aaed8a73d15e9efd34\", element=\"062dfad9-dfb6-4f7b-b076-dd103ca90bcd\")>,\n",
       " <selenium.webdriver.remote.webelement.WebElement (session=\"95476c5cf8cf39aaed8a73d15e9efd34\", element=\"568c6c5e-551b-4a64-bc6b-022f28f3fecb\")>,\n",
       " <selenium.webdriver.remote.webelement.WebElement (session=\"95476c5cf8cf39aaed8a73d15e9efd34\", element=\"4d95ac1e-b085-45ca-bcee-72a1d57c7426\")>,\n",
       " <selenium.webdriver.remote.webelement.WebElement (session=\"95476c5cf8cf39aaed8a73d15e9efd34\", element=\"884fcb3a-7e05-4ff1-9694-4456dec3a7ad\")>,\n",
       " <selenium.webdriver.remote.webelement.WebElement (session=\"95476c5cf8cf39aaed8a73d15e9efd34\", element=\"d720028c-dbb9-473f-a032-0ef79a9f38f1\")>,\n",
       " <selenium.webdriver.remote.webelement.WebElement (session=\"95476c5cf8cf39aaed8a73d15e9efd34\", element=\"bab6f90b-0f5c-4877-b5ba-fee3c2eea1a7\")>,\n",
       " <selenium.webdriver.remote.webelement.WebElement (session=\"95476c5cf8cf39aaed8a73d15e9efd34\", element=\"087e9162-d73f-4b56-8d11-7199176e1077\")>,\n",
       " <selenium.webdriver.remote.webelement.WebElement (session=\"95476c5cf8cf39aaed8a73d15e9efd34\", element=\"b006ac45-d549-46aa-8fc8-d5d69d21c2df\")>,\n",
       " <selenium.webdriver.remote.webelement.WebElement (session=\"95476c5cf8cf39aaed8a73d15e9efd34\", element=\"d96d3a73-9e46-4841-aff6-aecb1fe3b3d0\")>,\n",
       " <selenium.webdriver.remote.webelement.WebElement (session=\"95476c5cf8cf39aaed8a73d15e9efd34\", element=\"69392bc1-09b6-4d12-b37d-114a0e0d992f\")>,\n",
       " <selenium.webdriver.remote.webelement.WebElement (session=\"95476c5cf8cf39aaed8a73d15e9efd34\", element=\"10dde0f4-065c-469c-906c-7f7e26f974b5\")>]"
      ]
     },
     "execution_count": 32,
     "metadata": {},
     "output_type": "execute_result"
    }
   ],
   "source": [
    "images "
   ]
  },
  {
   "cell_type": "code",
   "execution_count": 33,
   "metadata": {},
   "outputs": [],
   "source": [
    "# We need to target src attribute of the images. \n",
    "# here we want links instead of tags.\n",
    "\n",
    "images = [image.get_attribute('src') for image in images]\n"
   ]
  },
  {
   "cell_type": "code",
   "execution_count": 34,
   "metadata": {},
   "outputs": [
    {
     "data": {
      "text/plain": [
       "['https://instagram.fkhi17-1.fna.fbcdn.net/v/t51.2885-15/306197552_1086186478936571_3717500317328873526_n.webp?stp=dst-jpg_e35&_nc_ht=instagram.fkhi17-1.fna.fbcdn.net&_nc_cat=111&_nc_ohc=1aCrWJ3fCwwAX_7_oqz&edm=AGyKU4gBAAAA&ccb=7-5&ig_cache_key=MjkyNTY3NjQxNDQxODQzOTg2Mg%3D%3D.2-ccb7-5&oh=00_AT8muKRuj6DFl9ZdQuhAwYy4OoRUMyl5Ycr6DHMjUYg0DA&oe=6325B681&_nc_sid=4cb768',\n",
       " 'https://instagram.fkhi17-1.fna.fbcdn.net/v/t51.2885-15/306197552_1086186478936571_3717500317328873526_n.webp?stp=dst-jpg_e35&_nc_ht=instagram.fkhi17-1.fna.fbcdn.net&_nc_cat=111&_nc_ohc=1aCrWJ3fCwwAX_7_oqz&edm=AGyKU4gBAAAA&ccb=7-5&ig_cache_key=MjkyNTY3NjQxNDQxODQzOTg2Mg%3D%3D.2-ccb7-5&oh=00_AT8muKRuj6DFl9ZdQuhAwYy4OoRUMyl5Ycr6DHMjUYg0DA&oe=6325B681&_nc_sid=4cb768',\n",
       " 'https://instagram.fkhi17-1.fna.fbcdn.net/v/t51.2885-15/306296719_425186723040248_8605123903699936302_n.jpg?stp=dst-jpg_e35&_nc_ht=instagram.fkhi17-1.fna.fbcdn.net&_nc_cat=108&_nc_ohc=xoaRd-ms8koAX8o0jMb&tn=Sv9JZFKL_AyI3LX6&edm=AGyKU4gBAAAA&ccb=7-5&ig_cache_key=MjkyNTU4NTY0Njk0NjI0MzkyOA%3D%3D.2-ccb7-5&oh=00_AT_pW245QOLMTqkxe5lz8S1Do_6ffeeWbGD-g94qXve_uw&oe=632666FB&_nc_sid=4cb768',\n",
       " 'https://instagram.fkhi17-1.fna.fbcdn.net/v/t51.2885-15/306781442_1125834495001107_7006129137105522512_n.jpg?stp=dst-jpg_e15_fr_s1080x1080&_nc_ht=instagram.fkhi17-1.fna.fbcdn.net&_nc_cat=103&_nc_ohc=hiKbI6rcrRgAX_r2JxQ&edm=AGyKU4gBAAAA&ccb=7-5&ig_cache_key=MjkyNTcyMDI0ODI2ODYxMjk0OA%3D%3D.2-ccb7-5&oh=00_AT-YtgsaBwAiGB0L7-27NbtSDVm703PH4l6MyslyHG0Hyw&oe=6326464D&_nc_sid=4cb768',\n",
       " 'https://instagram.fkhi17-1.fna.fbcdn.net/v/t51.2885-15/306153278_615510383565712_1797785661823895575_n.webp?stp=dst-jpg_e35&_nc_ht=instagram.fkhi17-1.fna.fbcdn.net&_nc_cat=104&_nc_ohc=ry1ywbcqxVEAX-F7gRT&edm=AGyKU4gBAAAA&ccb=7-5&ig_cache_key=MjkyNTcxMjM1OTIwMTE0Mjk1NA%3D%3D.2-ccb7-5&oh=00_AT-31PF9NGGAwZuKV5xP_E7S45uXOS19lxD0QMmclGB7Hg&oe=63263980&_nc_sid=4cb768',\n",
       " 'https://instagram.fkhi17-1.fna.fbcdn.net/v/t51.2885-15/306569678_1061664414487210_6676844652516787844_n.jpg?stp=dst-jpg_e15_fr_p1080x1080&_nc_ht=instagram.fkhi17-1.fna.fbcdn.net&_nc_cat=110&_nc_ohc=OeamsevLIrwAX-foN2Q&edm=AGyKU4gBAAAA&ccb=7-5&ig_cache_key=MjkyNTY4MTQzODEyMjIwNDY2NA%3D%3D.2-ccb7-5&oh=00_AT-LGn0gFINYWq7_zu43vPFlXYNV9ufQd7wAUbmtjovX0w&oe=6326D590&_nc_sid=4cb768',\n",
       " 'https://instagram.fkhi17-1.fna.fbcdn.net/v/t51.2885-15/306514183_1454081378352966_320157155801715878_n.webp?stp=dst-jpg_e35&_nc_ht=instagram.fkhi17-1.fna.fbcdn.net&_nc_cat=106&_nc_ohc=iMFf12_xWD4AX_vTrlY&edm=AGyKU4gBAAAA&ccb=7-5&ig_cache_key=MjkyNTc0MDY0NDE2MTMwODcxMQ%3D%3D.2-ccb7-5&oh=00_AT_hJxSgGj8JcsnKz3E4G505ChmkPzOTmFnqvw0A58p8OQ&oe=63262F14&_nc_sid=4cb768',\n",
       " 'https://instagram.fkhi17-1.fna.fbcdn.net/v/t51.2885-15/306248309_1470153876744221_2620988043906853563_n.jpg?stp=dst-jpg_e35&_nc_ht=instagram.fkhi17-1.fna.fbcdn.net&_nc_cat=105&_nc_ohc=DiOkkim0g4kAX_01Khn&edm=AGyKU4gBAAAA&ccb=7-5&ig_cache_key=MjkyNTcyMTE5Mzg3Mzg2NzgwMQ%3D%3D.2-ccb7-5&oh=00_AT9tZkHDrR-sKIXqlbkjT2stea8JXmVUqdN_O3l4muQtnw&oe=63270646&_nc_sid=4cb768',\n",
       " 'https://instagram.fkhi17-1.fna.fbcdn.net/v/t51.2885-15/306121906_1230585451119422_4318014873094273249_n.webp?stp=dst-jpg_e35&_nc_ht=instagram.fkhi17-1.fna.fbcdn.net&_nc_cat=102&_nc_ohc=cSFZhaPT11IAX_toRxX&edm=AGyKU4gBAAAA&ccb=7-5&ig_cache_key=MjkyNTU4NjQzOTI0MjExMzIyNA%3D%3D.2-ccb7-5&oh=00_AT-negKIAJob_XuBWcSuL5ExAr7OVJXh9zUlSiwjeJvl3Q&oe=6325D486&_nc_sid=4cb768',\n",
       " 'https://instagram.fkhi17-1.fna.fbcdn.net/v/t51.2885-15/306384875_1209796232932362_6659227072393103573_n.jpg?stp=dst-jpg_e15_p640x640&_nc_ht=instagram.fkhi17-1.fna.fbcdn.net&_nc_cat=106&_nc_ohc=TEdhubxHReEAX-3W6rH&edm=AGyKU4gBAAAA&ccb=7-5&ig_cache_key=MjkyNTY4MDAxNTMwMzg2OTQxMQ%3D%3D.2-ccb7-5&oh=00_AT_qKRlf--TXS93wyK0xn42eaObxqJLY_izZmCWbK99c0Q&oe=6326B588&_nc_sid=4cb768',\n",
       " 'https://instagram.fkhi17-1.fna.fbcdn.net/v/t51.2885-15/306365782_494316808815306_393131037458784154_n.jpg?stp=dst-jpg_e15_s480x480&_nc_ht=instagram.fkhi17-1.fna.fbcdn.net&_nc_cat=106&_nc_ohc=eZiUJSgoKqAAX8JUah4&edm=AGyKU4gBAAAA&ccb=7-5&ig_cache_key=MjkyNTc1MTAwNTgyODU1ODQ2NA%3D%3D.2-ccb7-5&oh=00_AT9HBnUDytEAx35CNvF0r5_431hvObG76whP13NIGWtaOg&oe=63265ECD&_nc_sid=4cb768',\n",
       " 'https://instagram.fkhi17-1.fna.fbcdn.net/v/t51.2885-15/306644844_814195149596179_4808676745113660057_n.webp?stp=dst-jpg_e35&_nc_ht=instagram.fkhi17-1.fna.fbcdn.net&_nc_cat=107&_nc_ohc=liv3PXBy_LoAX-gaT3k&edm=AGyKU4gBAAAA&ccb=7-5&ig_cache_key=MjkyNTc1MTIxODc1NzI4NDIzNA%3D%3D.2-ccb7-5&oh=00_AT-oHZvJGn-Dbdf1bTegedfj5hG1kVXOZDBgf9b_JFVMxQ&oe=6325E5FF&_nc_sid=4cb768',\n",
       " 'https://instagram.fkhi17-1.fna.fbcdn.net/v/t51.2885-15/306474618_481080847209247_4384583390701093970_n.webp?stp=dst-jpg_e35&_nc_ht=instagram.fkhi17-1.fna.fbcdn.net&_nc_cat=107&_nc_ohc=xKmYjVBWplsAX8IK795&edm=AGyKU4gBAAAA&ccb=7-5&ig_cache_key=MjkyNTc1MTE0MTk4NDI2OTMyOQ%3D%3D.2-ccb7-5&oh=00_AT80JRRJFu1VCsGU5YXUXZHEyJSCy7PInBcOmMiYVFElXw&oe=63261C4F&_nc_sid=4cb768',\n",
       " 'https://instagram.fkhi17-1.fna.fbcdn.net/v/t51.2885-15/306191658_822315925478295_1697942185855274587_n.jpg?stp=dst-jpg_e35&_nc_ht=instagram.fkhi17-1.fna.fbcdn.net&_nc_cat=103&_nc_ohc=Il0HXvYaj8EAX-i4GXb&edm=AGyKU4gBAAAA&ccb=7-5&ig_cache_key=MjkyNTc1MTE4OTU4OTU3NjMzOA%3D%3D.2-ccb7-5&oh=00_AT8YCPKph7-dlO0pX1ONkV16S4uLdC0-w3wQzjXBVyt4bQ&oe=6326F891&_nc_sid=4cb768',\n",
       " 'https://instagram.fkhi17-1.fna.fbcdn.net/v/t51.2885-15/306415726_1122639031962032_556671739205608695_n.jpg?stp=dst-jpg_e35&_nc_ht=instagram.fkhi17-1.fna.fbcdn.net&_nc_cat=108&_nc_ohc=i9OTD8eJw2QAX_cJeXg&edm=AGyKU4gBAAAA&ccb=7-5&ig_cache_key=MjkyNTc1MTQzNzY1NzgwNzQ0Ng%3D%3D.2-ccb7-5&oh=00_AT9SqMYtTwnSiblzEJufR40umyaQNqACd6taEeGnstBKSA&oe=632554DA&_nc_sid=4cb768',\n",
       " 'https://instagram.fkhi17-1.fna.fbcdn.net/v/t51.2885-15/306422106_186414390507553_624459411119989253_n.webp?stp=dst-jpg_e35&_nc_ht=instagram.fkhi17-1.fna.fbcdn.net&_nc_cat=101&_nc_ohc=PL7XLDclQHIAX_-XeCY&edm=AGyKU4gBAAAA&ccb=7-5&ig_cache_key=MjkyNTc1MTEwMjExOTg2MzMxNw%3D%3D.2-ccb7-5&oh=00_AT9Zb3u9WFvUTpy7Ronr3CymQAHgu35lj35iG6r0q8DFxA&oe=6325ED32&_nc_sid=4cb768',\n",
       " 'https://instagram.fkhi17-1.fna.fbcdn.net/v/t51.2885-15/306423688_803906767697461_6451678670435238685_n.jpg?stp=dst-jpg_e35&_nc_ht=instagram.fkhi17-1.fna.fbcdn.net&_nc_cat=101&_nc_ohc=euSbdoHy_lIAX_3c0Uv&edm=AGyKU4gBAAAA&ccb=7-5&ig_cache_key=MjkyNTc1MDk2NTI3ODAyNjI1Mg%3D%3D.2-ccb7-5&oh=00_AT_SRuhCtg3ojekPojHZs61Yrc7PN2yu1DRmFR1Vju4bgQ&oe=6325D64B&_nc_sid=4cb768',\n",
       " 'https://instagram.fkhi17-1.fna.fbcdn.net/v/t51.2885-15/306302451_1071964593521273_5943413258263212149_n.jpg?stp=dst-jpg_e15_fr_s1080x1080&_nc_ht=instagram.fkhi17-1.fna.fbcdn.net&_nc_cat=105&_nc_ohc=ArW9YxGXtKYAX944LiE&edm=AGyKU4gBAAAA&ccb=7-5&ig_cache_key=MjkyNTc1MTQxOTQxMTc2MjQ3Nw%3D%3D.2-ccb7-5&oh=00_AT9NTB3Xhdmx-WobszgIGfq_7cobsNmj4peboTDsp_nElg&oe=63272AD2&_nc_sid=4cb768',\n",
       " 'https://instagram.fkhi17-1.fna.fbcdn.net/v/t51.2885-15/306491623_3166086463655424_1228446911977470789_n.webp?stp=dst-jpg_e35&_nc_ht=instagram.fkhi17-1.fna.fbcdn.net&_nc_cat=100&_nc_ohc=eeCkNG196RIAX9Vfty_&edm=AGyKU4gBAAAA&ccb=7-5&ig_cache_key=MjkyNTc1MTEyODA3NTUyODgxNQ%3D%3D.2-ccb7-5&oh=00_AT8rBIj6S9G3pe9D6OBFX8OKi_rcRafRq56Pqy9FrWA-1w&oe=632685EB&_nc_sid=4cb768',\n",
       " 'https://instagram.fkhi17-1.fna.fbcdn.net/v/t51.2885-15/306589787_784634386208382_3640312648177456484_n.webp?stp=dst-jpg_e35&_nc_ht=instagram.fkhi17-1.fna.fbcdn.net&_nc_cat=106&_nc_ohc=0LpD_2YFLB4AX80Zjz2&edm=AGyKU4gBAAAA&ccb=7-5&ig_cache_key=MjkyNTc1MTMwNzE5OTI4MTU4OQ%3D%3D.2-ccb7-5&oh=00_AT9wV-ww_KAJeEd_zXXGsDiRgYBPNPcxWoqx_XAbzZs0EA&oe=632632E4&_nc_sid=4cb768',\n",
       " 'https://instagram.fkhi17-1.fna.fbcdn.net/v/t51.2885-15/306537585_787399209170844_3158741021162617400_n.webp?stp=dst-jpg_e35&_nc_ht=instagram.fkhi17-1.fna.fbcdn.net&_nc_cat=100&_nc_ohc=kMieQHcebSQAX8Ar9U1&edm=AGyKU4gBAAAA&ccb=7-5&ig_cache_key=MjkyNTc1MTIwNTk4MjA5MzE5NQ%3D%3D.2-ccb7-5&oh=00_AT_qm69zMHcW4EG3xFwwOu36uufzGhcLzD-LK-K3fBOTCQ&oe=6326E0AA&_nc_sid=4cb768',\n",
       " 'https://instagram.fkhi17-1.fna.fbcdn.net/v/t51.2885-15/306166213_786322842415468_3978324771781154050_n.webp?stp=dst-jpg_e35&_nc_ht=instagram.fkhi17-1.fna.fbcdn.net&_nc_cat=104&_nc_ohc=WeCu3lqwsDcAX_-R7sD&edm=AGyKU4gBAAAA&ccb=7-5&ig_cache_key=MjkyNTc1MTAzNDE3Mzk1MTkzNw%3D%3D.2-ccb7-5&oh=00_AT_MZlJWgZzi9lH8bfoD7tSluFPz1OTODZ7hEX1bSSbNHA&oe=6325BEE1&_nc_sid=4cb768',\n",
       " 'https://instagram.fkhi17-1.fna.fbcdn.net/v/t51.2885-15/306846683_2224203614405459_8473674151033063692_n.jpg?stp=dst-jpg_e35&_nc_ht=instagram.fkhi17-1.fna.fbcdn.net&_nc_cat=111&_nc_ohc=biI5-09qE20AX8kV6Qf&edm=AGyKU4gBAAAA&ccb=7-5&ig_cache_key=MjkyNTc1MTE2NDQxNjMxMTk1MQ%3D%3D.2-ccb7-5&oh=00_AT-wvISI9JAnMr-XTEHZEY8rRSfiLKKm7IBxmozM5FUYgQ&oe=6325D031&_nc_sid=4cb768',\n",
       " 'https://instagram.fkhi17-1.fna.fbcdn.net/v/t51.2885-15/306330724_636098384787935_3930523653977901112_n.webp?stp=dst-jpg_e35&_nc_ht=instagram.fkhi17-1.fna.fbcdn.net&_nc_cat=111&_nc_ohc=-OI-qanTe2sAX_Ua9Pb&tn=Sv9JZFKL_AyI3LX6&edm=AGyKU4gBAAAA&ccb=7-5&ig_cache_key=MjkyNTc1MTQzMzk0MjM1MzM1OQ%3D%3D.2-ccb7-5&oh=00_AT_LlvgS_yecdFhgretwCFhIZ2OxqH0uIYGxNjM6ERi6Yw&oe=6326894C&_nc_sid=4cb768',\n",
       " 'https://instagram.fkhi17-1.fna.fbcdn.net/v/t51.2885-15/306148959_5567036236691879_1631235968673231655_n.webp?stp=dst-jpg_e35&_nc_ht=instagram.fkhi17-1.fna.fbcdn.net&_nc_cat=111&_nc_ohc=beNjRATJANoAX_GSMep&edm=AGyKU4gBAAAA&ccb=7-5&ig_cache_key=MjkyNTc1MTA2MDEwOTY4MzY2NQ%3D%3D.2-ccb7-5&oh=00_AT-v1lRitIdcyHsx_SpwnPu_ooeDHTz6WaXEd6jX2R3mpA&oe=6325C6D5&_nc_sid=4cb768',\n",
       " 'https://instagram.fkhi17-1.fna.fbcdn.net/v/t51.2885-15/306683081_155170910477972_7475652791174634301_n.jpg?stp=dst-jpg_e35&_nc_ht=instagram.fkhi17-1.fna.fbcdn.net&_nc_cat=108&_nc_ohc=kVgxQHt9wS4AX8tzEvv&edm=AGyKU4gBAAAA&ccb=7-5&ig_cache_key=MjkyNTc1MTE1NzEzOTgwMTI5OQ%3D%3D.2-ccb7-5&oh=00_AT_Sb3qp89ZqwZeLICTOzTGlxIL7odmWF2XY2_ItVXYyvg&oe=6326C745&_nc_sid=4cb768',\n",
       " 'https://instagram.fkhi17-1.fna.fbcdn.net/v/t51.2885-15/306320822_653462676407143_5004837371409671561_n.webp?stp=dst-jpg_e35&_nc_ht=instagram.fkhi17-1.fna.fbcdn.net&_nc_cat=107&_nc_ohc=2FK5nIIC6C4AX9CjYy2&edm=AGyKU4gBAAAA&ccb=7-5&ig_cache_key=MjkyNTc1MTA0NzE1MjA4MTc1NA%3D%3D.2-ccb7-5&oh=00_AT9QK6QI81YmROmg4SRJ5Snr2Ck0lbPUUVBbekA9ZzI7jw&oe=6326DC7B&_nc_sid=4cb768',\n",
       " 'https://instagram.fkhi17-1.fna.fbcdn.net/v/t51.2885-15/306597476_1340446533388736_4648313329136712919_n.jpg?stp=dst-jpg_e35&_nc_ht=instagram.fkhi17-1.fna.fbcdn.net&_nc_cat=108&_nc_ohc=aqp_ypuLkvgAX_VJPJH&edm=AGyKU4gBAAAA&ccb=7-5&ig_cache_key=MjkyNTc1MTQyNjgyODE4Mzc3OQ%3D%3D.2-ccb7-5&oh=00_AT_ZIjQiJ_U1DGk0bIkhVtJfZPAyVtZdyGdHtxzJOAM5YA&oe=6326AE21&_nc_sid=4cb768',\n",
       " 'https://instagram.fkhi17-1.fna.fbcdn.net/v/t51.2885-15/306337789_1206694606728844_7408350028904438214_n.jpg?stp=dst-jpg_e35&_nc_ht=instagram.fkhi17-1.fna.fbcdn.net&_nc_cat=104&_nc_ohc=1ug2skAdlwwAX-4_W16&edm=AGyKU4gBAAAA&ccb=7-5&ig_cache_key=MjkyNTc1MTI1MjczODgxOTY4NA%3D%3D.2-ccb7-5&oh=00_AT_AZ6Q9QhIlTTHwmcvS1pVj34LCgCkXUZzhjteNpTXItA&oe=6325DE30&_nc_sid=4cb768',\n",
       " 'https://instagram.fkhi17-1.fna.fbcdn.net/v/t51.2885-15/306171265_115379004636569_3383479482736252743_n.webp?stp=dst-jpg_e35&_nc_ht=instagram.fkhi17-1.fna.fbcdn.net&_nc_cat=105&_nc_ohc=0PVvBjdkDdAAX_EKIA_&tn=Sv9JZFKL_AyI3LX6&edm=AGyKU4gBAAAA&ccb=7-5&ig_cache_key=MjkyNTc1MTAxNzcwNzA2MDMzMw%3D%3D.2-ccb7-5&oh=00_AT_RHx67eLi25o1oHt4OCUz5N5O5eex9mjUeIJDs3J_FnA&oe=63260EEB&_nc_sid=4cb768',\n",
       " 'https://instagram.fkhi17-1.fna.fbcdn.net/v/t51.2885-15/306306733_1152929865569204_1923090765421285384_n.webp?stp=dst-jpg_e35&_nc_ht=instagram.fkhi17-1.fna.fbcdn.net&_nc_cat=108&_nc_ohc=fS1l_UbCeL8AX84aRZl&tn=Sv9JZFKL_AyI3LX6&edm=AGyKU4gBAAAA&ccb=7-5&ig_cache_key=MjkyNTc1MDk0NDUzMzUxNTM2Nw%3D%3D.2-ccb7-5&oh=00_AT9Vy-4CzV6r0HFQZwHfXPOJUPhDyv1Kt5ORHwZiYFu6Pg&oe=63261B7E&_nc_sid=4cb768',\n",
       " 'https://instagram.fkhi17-1.fna.fbcdn.net/v/t51.2885-15/306243004_824897411840279_5087212873421862176_n.jpg?stp=dst-jpg_e35&_nc_ht=instagram.fkhi17-1.fna.fbcdn.net&_nc_cat=111&_nc_ohc=JmKjkv8SCgMAX_9TvvZ&edm=AGyKU4gBAAAA&ccb=7-5&ig_cache_key=MjkyNTc1MDk2MzI0MDk1NzcxNQ%3D%3D.2-ccb7-5&oh=00_AT8uZ6FuYqK6H235wxKlufVIyetQa-_pzR8ZSiuqi__aug&oe=6325A5D9&_nc_sid=4cb768',\n",
       " 'https://instagram.fkhi17-1.fna.fbcdn.net/v/t51.2885-15/306690863_483435300037007_330814659434221555_n.webp?stp=dst-jpg_e35&_nc_ht=instagram.fkhi17-1.fna.fbcdn.net&_nc_cat=111&_nc_ohc=YXfoNrM91dwAX_H8hiE&edm=AGyKU4gBAAAA&ccb=7-5&ig_cache_key=MjkyNTc1MTQxMzQ5OTUwNjkyNA%3D%3D.2-ccb7-5&oh=00_AT9cSjk1lwXClyWl_wfyEd9k0K3xh05HpYJaj3asN_wcQg&oe=63269E6D&_nc_sid=4cb768',\n",
       " 'https://instagram.fkhi17-1.fna.fbcdn.net/v/t51.2885-15/306324838_1144905309709629_2180358869948202855_n.webp?stp=dst-jpg_e35&_nc_ht=instagram.fkhi17-1.fna.fbcdn.net&_nc_cat=109&_nc_ohc=pVWWX0p-XU8AX-SjWs2&tn=Sv9JZFKL_AyI3LX6&edm=AGyKU4gBAAAA&ccb=7-5&ig_cache_key=MjkyNTc1MTEwMjkxMTQ2NDA0Nw%3D%3D.2-ccb7-5&oh=00_AT-Hej8XrMYOKg3vBVQIarOu1zBbm50vH2KdPdzAgyXD-g&oe=6326B285&_nc_sid=4cb768',\n",
       " 'https://scontent.cdninstagram.com/v/t51.2885-19/212134377_168039048652059_7061471149033280189_n.jpg?stp=dst-jpg_s150x150&_nc_ht=scontent.cdninstagram.com&_nc_cat=103&_nc_ohc=F-CEL4RHftMAX9ZJpPY&edm=APs17CUBAAAA&ccb=7-5&oh=00_AT_VTauoGqnO6-a4JulMyJUpHeYYoTxZRrxrn9-Av1Digw&oe=6326C4B3&_nc_sid=978cb9']"
      ]
     },
     "execution_count": 34,
     "metadata": {},
     "output_type": "execute_result"
    }
   ],
   "source": [
    "images "
   ]
  },
  {
   "cell_type": "code",
   "execution_count": 35,
   "metadata": {},
   "outputs": [],
   "source": [
    "# Save / Download Images to Computer\n",
    "# this command will navigate to exact same directory where your jupyter notebook.\n",
    "\n",
    "path = os.getcwd()"
   ]
  },
  {
   "cell_type": "code",
   "execution_count": 36,
   "metadata": {},
   "outputs": [],
   "source": [
    "# create a folder named \"cats\" in the same directory\n",
    "# inside round btacket we are specifying, instead of adding a string we are adding a variable\n",
    "# we don't need hashtag which is in the beginning, in the folder name, so we will remove it\n",
    "path = os.path.join(path, keyword[1:] + \"s\")"
   ]
  },
  {
   "cell_type": "code",
   "execution_count": 37,
   "metadata": {},
   "outputs": [
    {
     "ename": "FileExistsError",
     "evalue": "[WinError 183] Cannot create a file when that file already exists: 'g:\\\\python_workspaces\\\\webScrapping\\\\catss'",
     "output_type": "error",
     "traceback": [
      "\u001b[1;31m---------------------------------------------------------------------------\u001b[0m",
      "\u001b[1;31mFileExistsError\u001b[0m                           Traceback (most recent call last)",
      "\u001b[1;32m~\\AppData\\Local\\Temp\\ipykernel_5540\\1953046214.py\u001b[0m in \u001b[0;36m<module>\u001b[1;34m\u001b[0m\n\u001b[0;32m      1\u001b[0m \u001b[1;31m# Making a directory\u001b[0m\u001b[1;33m\u001b[0m\u001b[1;33m\u001b[0m\u001b[1;33m\u001b[0m\u001b[0m\n\u001b[0;32m      2\u001b[0m \u001b[1;33m\u001b[0m\u001b[0m\n\u001b[1;32m----> 3\u001b[1;33m \u001b[0mos\u001b[0m\u001b[1;33m.\u001b[0m\u001b[0mmkdir\u001b[0m\u001b[1;33m(\u001b[0m\u001b[0mpath\u001b[0m\u001b[1;33m)\u001b[0m\u001b[1;33m\u001b[0m\u001b[1;33m\u001b[0m\u001b[0m\n\u001b[0m\u001b[0;32m      4\u001b[0m \u001b[1;33m\u001b[0m\u001b[0m\n\u001b[0;32m      5\u001b[0m \u001b[1;31m# path is the directory where are images will be saved\u001b[0m\u001b[1;33m\u001b[0m\u001b[1;33m\u001b[0m\u001b[1;33m\u001b[0m\u001b[0m\n",
      "\u001b[1;31mFileExistsError\u001b[0m: [WinError 183] Cannot create a file when that file already exists: 'g:\\\\python_workspaces\\\\webScrapping\\\\catss'"
     ]
    }
   ],
   "source": [
    "# Making a directory \n",
    "\n",
    "os.mkdir(path)\n",
    "\n",
    "# path is the directory where are images will be saved \n",
    "path"
   ]
  },
  {
   "cell_type": "code",
   "execution_count": 39,
   "metadata": {},
   "outputs": [],
   "source": [
    "# counter variable to keep track of images\n",
    "counter = 0 \n",
    "# cat1.jpeg cat2.jpeg cat3.jpeg ... \n",
    "for image in images:\n",
    "    saveAs = os.path.join(path, keyword[1:] + str(counter) + \".jpg\")\n",
    "    \n",
    "    # downloading the image\n",
    "    wget.download(image, saveAs)\n",
    "    counter += 1 "
   ]
  },
  {
   "cell_type": "code",
   "execution_count": 40,
   "metadata": {},
   "outputs": [
    {
     "data": {
      "text/plain": [
       "'g:\\\\python_workspaces\\\\webScrapping\\\\catss'"
      ]
     },
     "execution_count": 40,
     "metadata": {},
     "output_type": "execute_result"
    }
   ],
   "source": [
    "path "
   ]
  },
  {
   "cell_type": "code",
   "execution_count": null,
   "metadata": {},
   "outputs": [],
   "source": []
  }
 ],
 "metadata": {
  "kernelspec": {
   "display_name": "Python 3.7.7 64-bit",
   "language": "python",
   "name": "python3"
  },
  "language_info": {
   "codemirror_mode": {
    "name": "ipython",
    "version": 3
   },
   "file_extension": ".py",
   "mimetype": "text/x-python",
   "name": "python",
   "nbconvert_exporter": "python",
   "pygments_lexer": "ipython3",
   "version": "3.11.2"
  },
  "orig_nbformat": 4,
  "vscode": {
   "interpreter": {
    "hash": "69713e280fccb9aa802931bf1b98f79efcfe938b3ab1e86cc85b2e647522a81d"
   }
  }
 },
 "nbformat": 4,
 "nbformat_minor": 2
}
