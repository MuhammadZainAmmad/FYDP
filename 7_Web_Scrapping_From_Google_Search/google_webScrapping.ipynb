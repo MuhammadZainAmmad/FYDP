{
 "cells": [
  {
   "cell_type": "code",
   "execution_count": 24,
   "metadata": {},
   "outputs": [],
   "source": [
    "# cmd >> pip install google_images_download\n",
    "from google_images_download import google_images_download\n",
    "import requests\n",
    "from bs4 import BeautifulSoup\n",
    "from urllib.parse import urlparse, parse_qs\n",
    "import os\n",
    "import csv"
   ]
  },
  {
   "cell_type": "code",
   "execution_count": 27,
   "metadata": {},
   "outputs": [],
   "source": [
    "# def download_images(query, limit):\n",
    "#     response = google_images_download.googleimagesdownload()\n",
    "\n",
    "#     arguments = {\n",
    "#         \"keywords\": query,\n",
    "#         \"limit\": limit,\n",
    "#         \"print_urls\": True,\n",
    "#         \"chromedriver\": \"E:/Setups/chromedriver_win32/chromedriver.exe\"  # Replace with the path to your chromedriver executable\n",
    "#     }\n",
    "\n",
    "#     try:\n",
    "#         paths = response.download(arguments)\n",
    "#         print(paths)\n",
    "#     except Exception as e:\n",
    "#         print(\"Error:\", str(e))\n",
    "\n",
    "def download_images(query, limit):\n",
    "    # Create a folder to store the downloaded images\n",
    "    os.makedirs(\"images\", exist_ok=True)\n",
    "\n",
    "    # Perform a Google search\n",
    "    url = f\"https://www.google.com/search?q={query}&tbm=isch\"\n",
    "    response = requests.get(url)\n",
    "    response.raise_for_status()\n",
    "\n",
    "    # Parse the response and extract image URLs\n",
    "    soup = BeautifulSoup(response.text, \"html.parser\")\n",
    "    image_urls = []\n",
    "    for img in soup.select(\"img\"):\n",
    "        image_url = img.get(\"src\")\n",
    "        if image_url:\n",
    "            image_urls.append(image_url)\n",
    "            \n",
    "    count = 0\n",
    "    with open(\"image_details.csv\", \"w\", newline=\"\", encoding=\"utf-8\") as csvfile:\n",
    "        writer = csv.writer(csvfile)\n",
    "        writer.writerow([\"ID\", \"Shirt/Pant\", \"Formal/Informal\", \"Description\"])\n",
    "\n",
    "        for url in image_urls:\n",
    "            if count >= limit:\n",
    "                break\n",
    "            try:\n",
    "                response = requests.get(url)\n",
    "                response.raise_for_status()\n",
    "\n",
    "                # Save the image file as PNG\n",
    "                filename = f\"images/{count+1}.png\"\n",
    "                with open(filename, \"wb\") as file:\n",
    "                    file.write(response.content)\n",
    "\n",
    "                print(f\"Downloaded: {filename}\")\n",
    "\n",
    "                # Write image details to CSV\n",
    "                writer.writerow([count+1, \"Shirt\", \"Formal\", query])\n",
    "\n",
    "                count += 1\n",
    "            except Exception as e:\n",
    "                print(f\"Error downloading image: {str(e)}\")\n",
    "\n",
    "    print(\"Download and CSV generation completed.\")\n",
    "\n",
    "\n"
   ]
  },
  {
   "cell_type": "code",
   "execution_count": 28,
   "metadata": {},
   "outputs": [
    {
     "name": "stdout",
     "output_type": "stream",
     "text": [
      "Error downloading image: Invalid URL '/images/branding/searchlogo/1x/googlelogo_desk_heirloom_color_150x55dp.gif': No scheme supplied. Perhaps you meant https:///images/branding/searchlogo/1x/googlelogo_desk_heirloom_color_150x55dp.gif?\n",
      "Downloaded: images/1.png\n",
      "Downloaded: images/2.png\n",
      "Downloaded: images/3.png\n",
      "Downloaded: images/4.png\n",
      "Downloaded: images/5.png\n",
      "Downloaded: images/6.png\n",
      "Downloaded: images/7.png\n",
      "Downloaded: images/8.png\n",
      "Downloaded: images/9.png\n",
      "Downloaded: images/10.png\n",
      "Download and CSV generation completed.\n"
     ]
    }
   ],
   "source": [
    "query = \"Male White Formal Shirts with white Background\"  # Specify the query for the images you want to download\n",
    "limit = 10  # Specify the number of images you want to download\n",
    "\n",
    "download_images(query, limit)"
   ]
  },
  {
   "cell_type": "code",
   "execution_count": null,
   "metadata": {},
   "outputs": [],
   "source": []
  }
 ],
 "metadata": {
  "kernelspec": {
   "display_name": "Python 3.7.7 64-bit",
   "language": "python",
   "name": "python3"
  },
  "language_info": {
   "codemirror_mode": {
    "name": "ipython",
    "version": 3
   },
   "file_extension": ".py",
   "mimetype": "text/x-python",
   "name": "python",
   "nbconvert_exporter": "python",
   "pygments_lexer": "ipython3",
   "version": "3.11.2"
  },
  "orig_nbformat": 4,
  "vscode": {
   "interpreter": {
    "hash": "69713e280fccb9aa802931bf1b98f79efcfe938b3ab1e86cc85b2e647522a81d"
   }
  }
 },
 "nbformat": 4,
 "nbformat_minor": 2
}
