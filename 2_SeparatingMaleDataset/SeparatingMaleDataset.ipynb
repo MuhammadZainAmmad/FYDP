{
 "cells": [
  {
   "cell_type": "code",
   "execution_count": 2,
   "id": "8a889607",
   "metadata": {
    "_cell_guid": "b1076dfc-b9ad-4769-8c92-a6c4dae69d19",
    "_kg_hide-input": true,
    "_uuid": "8f2839f25d086af736a60e9eeb907d3b93b6e0e5",
    "execution": {
     "iopub.execute_input": "2022-11-19T08:58:15.256358Z",
     "iopub.status.busy": "2022-11-19T08:58:15.255939Z",
     "iopub.status.idle": "2022-11-19T08:58:15.264667Z",
     "shell.execute_reply": "2022-11-19T08:58:15.264087Z"
    },
    "papermill": {
     "duration": 0.017694,
     "end_time": "2022-11-19T08:58:15.266508",
     "exception": false,
     "start_time": "2022-11-19T08:58:15.248814",
     "status": "completed"
    },
    "tags": []
   },
   "outputs": [],
   "source": [
    "import numpy as np\n",
    "import pandas as pd"
   ]
  },
  {
   "cell_type": "code",
   "execution_count": 5,
   "id": "f8504e25",
   "metadata": {
    "execution": {
     "iopub.execute_input": "2022-11-19T08:58:15.277300Z",
     "iopub.status.busy": "2022-11-19T08:58:15.276989Z",
     "iopub.status.idle": "2022-11-19T08:58:15.436915Z",
     "shell.execute_reply": "2022-11-19T08:58:15.436059Z"
    },
    "papermill": {
     "duration": 0.167586,
     "end_time": "2022-11-19T08:58:15.439085",
     "exception": false,
     "start_time": "2022-11-19T08:58:15.271499",
     "status": "completed"
    },
    "tags": []
   },
   "outputs": [
    {
     "data": {
      "text/html": [
       "<div>\n",
       "<style scoped>\n",
       "    .dataframe tbody tr th:only-of-type {\n",
       "        vertical-align: middle;\n",
       "    }\n",
       "\n",
       "    .dataframe tbody tr th {\n",
       "        vertical-align: top;\n",
       "    }\n",
       "\n",
       "    .dataframe thead th {\n",
       "        text-align: right;\n",
       "    }\n",
       "</style>\n",
       "<table border=\"1\" class=\"dataframe\">\n",
       "  <thead>\n",
       "    <tr style=\"text-align: right;\">\n",
       "      <th></th>\n",
       "      <th>id</th>\n",
       "      <th>gender</th>\n",
       "      <th>articleType</th>\n",
       "      <th>usage</th>\n",
       "    </tr>\n",
       "  </thead>\n",
       "  <tbody>\n",
       "    <tr>\n",
       "      <th>0</th>\n",
       "      <td>15970</td>\n",
       "      <td>Men</td>\n",
       "      <td>Shirts</td>\n",
       "      <td>Casual</td>\n",
       "    </tr>\n",
       "    <tr>\n",
       "      <th>1</th>\n",
       "      <td>39386</td>\n",
       "      <td>Men</td>\n",
       "      <td>Jeans</td>\n",
       "      <td>Casual</td>\n",
       "    </tr>\n",
       "    <tr>\n",
       "      <th>2</th>\n",
       "      <td>59263</td>\n",
       "      <td>Women</td>\n",
       "      <td>Watches</td>\n",
       "      <td>Casual</td>\n",
       "    </tr>\n",
       "    <tr>\n",
       "      <th>3</th>\n",
       "      <td>21379</td>\n",
       "      <td>Men</td>\n",
       "      <td>Track Pants</td>\n",
       "      <td>Casual</td>\n",
       "    </tr>\n",
       "    <tr>\n",
       "      <th>4</th>\n",
       "      <td>53759</td>\n",
       "      <td>Men</td>\n",
       "      <td>Tshirts</td>\n",
       "      <td>Casual</td>\n",
       "    </tr>\n",
       "  </tbody>\n",
       "</table>\n",
       "</div>"
      ],
      "text/plain": [
       "      id gender  articleType   usage\n",
       "0  15970    Men       Shirts  Casual\n",
       "1  39386    Men        Jeans  Casual\n",
       "2  59263  Women      Watches  Casual\n",
       "3  21379    Men  Track Pants  Casual\n",
       "4  53759    Men      Tshirts  Casual"
      ]
     },
     "execution_count": 5,
     "metadata": {},
     "output_type": "execute_result"
    }
   ],
   "source": [
    "\n",
    "# on_bad_lines='skip' is important otherwise it will cause an error of \"pandas.parser.CParserError: Error tokenizing data. C error: Expected 2 fields in line 3, saw 12\"\n",
    "path = \"C:/Users/zaina/Desktop/FYDP/1_OriginalDataset_FashionProductImagesSmall/noNull.csv\"\n",
    "df = pd.read_csv(path)\n",
    "df.head()"
   ]
  },
  {
   "cell_type": "code",
   "execution_count": 6,
   "id": "e96a2507",
   "metadata": {
    "execution": {
     "iopub.execute_input": "2022-11-19T08:58:15.510479Z",
     "iopub.status.busy": "2022-11-19T08:58:15.510094Z",
     "iopub.status.idle": "2022-11-19T08:58:15.538096Z",
     "shell.execute_reply": "2022-11-19T08:58:15.537074Z"
    },
    "papermill": {
     "duration": 0.035701,
     "end_time": "2022-11-19T08:58:15.540138",
     "exception": false,
     "start_time": "2022-11-19T08:58:15.504437",
     "status": "completed"
    },
    "tags": []
   },
   "outputs": [
    {
     "name": "stdout",
     "output_type": "stream",
     "text": [
      "<class 'pandas.core.frame.DataFrame'>\n",
      "RangeIndex: 44107 entries, 0 to 44106\n",
      "Data columns (total 4 columns):\n",
      " #   Column       Non-Null Count  Dtype \n",
      "---  ------       --------------  ----- \n",
      " 0   id           44107 non-null  int64 \n",
      " 1   gender       44107 non-null  object\n",
      " 2   articleType  44107 non-null  object\n",
      " 3   usage        44107 non-null  object\n",
      "dtypes: int64(1), object(3)\n",
      "memory usage: 1.3+ MB\n"
     ]
    }
   ],
   "source": [
    "# .info() gives the information about the dataset like the number of rows and columns, the number of non-null values in each column, and the datatype of each column.\n",
    "df.info()"
   ]
  },
  {
   "cell_type": "code",
   "execution_count": 7,
   "id": "72c82b2f",
   "metadata": {
    "execution": {
     "iopub.execute_input": "2022-11-19T08:58:15.571905Z",
     "iopub.status.busy": "2022-11-19T08:58:15.571660Z",
     "iopub.status.idle": "2022-11-19T08:58:15.591373Z",
     "shell.execute_reply": "2022-11-19T08:58:15.590437Z"
    },
    "papermill": {
     "duration": 0.027946,
     "end_time": "2022-11-19T08:58:15.593777",
     "exception": false,
     "start_time": "2022-11-19T08:58:15.565831",
     "status": "completed"
    },
    "tags": []
   },
   "outputs": [
    {
     "data": {
      "text/html": [
       "<div>\n",
       "<style scoped>\n",
       "    .dataframe tbody tr th:only-of-type {\n",
       "        vertical-align: middle;\n",
       "    }\n",
       "\n",
       "    .dataframe tbody tr th {\n",
       "        vertical-align: top;\n",
       "    }\n",
       "\n",
       "    .dataframe thead th {\n",
       "        text-align: right;\n",
       "    }\n",
       "</style>\n",
       "<table border=\"1\" class=\"dataframe\">\n",
       "  <thead>\n",
       "    <tr style=\"text-align: right;\">\n",
       "      <th></th>\n",
       "      <th>id</th>\n",
       "    </tr>\n",
       "  </thead>\n",
       "  <tbody>\n",
       "    <tr>\n",
       "      <th>count</th>\n",
       "      <td>44107.000000</td>\n",
       "    </tr>\n",
       "    <tr>\n",
       "      <th>mean</th>\n",
       "      <td>29540.970776</td>\n",
       "    </tr>\n",
       "    <tr>\n",
       "      <th>std</th>\n",
       "      <td>16978.364872</td>\n",
       "    </tr>\n",
       "    <tr>\n",
       "      <th>min</th>\n",
       "      <td>1163.000000</td>\n",
       "    </tr>\n",
       "    <tr>\n",
       "      <th>25%</th>\n",
       "      <td>14702.500000</td>\n",
       "    </tr>\n",
       "    <tr>\n",
       "      <th>50%</th>\n",
       "      <td>28478.000000</td>\n",
       "    </tr>\n",
       "    <tr>\n",
       "      <th>75%</th>\n",
       "      <td>44401.500000</td>\n",
       "    </tr>\n",
       "    <tr>\n",
       "      <th>max</th>\n",
       "      <td>60000.000000</td>\n",
       "    </tr>\n",
       "  </tbody>\n",
       "</table>\n",
       "</div>"
      ],
      "text/plain": [
       "                 id\n",
       "count  44107.000000\n",
       "mean   29540.970776\n",
       "std    16978.364872\n",
       "min     1163.000000\n",
       "25%    14702.500000\n",
       "50%    28478.000000\n",
       "75%    44401.500000\n",
       "max    60000.000000"
      ]
     },
     "execution_count": 7,
     "metadata": {},
     "output_type": "execute_result"
    }
   ],
   "source": [
    "df.describe()"
   ]
  },
  {
   "cell_type": "code",
   "execution_count": null,
   "id": "18ce611a",
   "metadata": {
    "execution": {
     "iopub.execute_input": "2022-11-19T08:58:15.721728Z",
     "iopub.status.busy": "2022-11-19T08:58:15.721374Z",
     "iopub.status.idle": "2022-11-19T08:58:15.729785Z",
     "shell.execute_reply": "2022-11-19T08:58:15.729019Z"
    },
    "papermill": {
     "duration": 0.016646,
     "end_time": "2022-11-19T08:58:15.731815",
     "exception": false,
     "start_time": "2022-11-19T08:58:15.715169",
     "status": "completed"
    },
    "tags": []
   },
   "outputs": [],
   "source": [
    "# value_counts() gives the number of count of each class in a Feature/Column along with the Column's name and datatype \n",
    "df['gender'].value_counts()"
   ]
  },
  {
   "cell_type": "code",
   "execution_count": null,
   "id": "417519da",
   "metadata": {
    "execution": {
     "iopub.execute_input": "2022-11-19T08:58:15.862677Z",
     "iopub.status.busy": "2022-11-19T08:58:15.862409Z",
     "iopub.status.idle": "2022-11-19T08:58:15.885009Z",
     "shell.execute_reply": "2022-11-19T08:58:15.884097Z"
    },
    "papermill": {
     "duration": 0.03109,
     "end_time": "2022-11-19T08:58:15.886796",
     "exception": false,
     "start_time": "2022-11-19T08:58:15.855706",
     "status": "completed"
    },
    "tags": []
   },
   "outputs": [],
   "source": [
    "# Getting those values in a separate dataframe where gender = Men\n",
    "maleDataSet = df.loc[(df['gender']=='Men') ]\n",
    "maleDataSet['id'].count()"
   ]
  },
  {
   "cell_type": "code",
   "execution_count": null,
   "id": "8a6ac102",
   "metadata": {
    "execution": {
     "iopub.execute_input": "2022-11-19T08:58:15.900476Z",
     "iopub.status.busy": "2022-11-19T08:58:15.900218Z",
     "iopub.status.idle": "2022-11-19T08:58:15.921242Z",
     "shell.execute_reply": "2022-11-19T08:58:15.920586Z"
    },
    "papermill": {
     "duration": 0.029601,
     "end_time": "2022-11-19T08:58:15.922845",
     "exception": false,
     "start_time": "2022-11-19T08:58:15.893244",
     "status": "completed"
    },
    "tags": []
   },
   "outputs": [],
   "source": [
    "boysDataSet = df.loc[(df['gender']=='Boys') ]\n",
    "boysDataSet['id'].count()"
   ]
  },
  {
   "cell_type": "code",
   "execution_count": null,
   "id": "bb763755",
   "metadata": {
    "execution": {
     "iopub.execute_input": "2022-11-19T08:58:15.937352Z",
     "iopub.status.busy": "2022-11-19T08:58:15.936591Z",
     "iopub.status.idle": "2022-11-19T08:58:15.956918Z",
     "shell.execute_reply": "2022-11-19T08:58:15.956066Z"
    },
    "papermill": {
     "duration": 0.029352,
     "end_time": "2022-11-19T08:58:15.958688",
     "exception": false,
     "start_time": "2022-11-19T08:58:15.929336",
     "status": "completed"
    },
    "tags": []
   },
   "outputs": [],
   "source": [
    "uniSexDataSet = df.loc[(df['gender']=='Unisex') ]\n",
    "uniSexDataSet['id'].count()"
   ]
  },
  {
   "cell_type": "code",
   "execution_count": null,
   "id": "cf16dd40",
   "metadata": {
    "execution": {
     "iopub.execute_input": "2022-11-19T08:58:16.000292Z",
     "iopub.status.busy": "2022-11-19T08:58:15.999490Z",
     "iopub.status.idle": "2022-11-19T08:58:16.024956Z",
     "shell.execute_reply": "2022-11-19T08:58:16.023975Z"
    },
    "papermill": {
     "duration": 0.035754,
     "end_time": "2022-11-19T08:58:16.027260",
     "exception": false,
     "start_time": "2022-11-19T08:58:15.991506",
     "status": "completed"
    },
    "tags": []
   },
   "outputs": [],
   "source": [
    "# Concatenating all datasets of Men, Boys, Unisex\n",
    "frames = [maleDataSet, boysDataSet, uniSexDataSet]  \n",
    "result = pd.concat(frames)\n",
    "\n",
    "print(f\"Separated male dataset contain these values\\n{result['gender'].value_counts()}\\n\")\n",
    "\n",
    "print(f\"Size of male dataset: {result['id'].count()}\")"
   ]
  },
  {
   "cell_type": "code",
   "execution_count": null,
   "id": "dd74f0e3",
   "metadata": {},
   "outputs": [],
   "source": [
    "result['usage'].value_counts()"
   ]
  },
  {
   "cell_type": "code",
   "execution_count": null,
   "id": "06de9107",
   "metadata": {},
   "outputs": [],
   "source": [
    "# # Filtering Pandas Dataframe\n",
    "\n",
    "# # Create a sample DataFrame\n",
    "# df = pd.DataFrame({'id': [1, 2, 3, 4, 5], 'value': ['a', 'b', 'c', 'a', 'b']})\n",
    "\n",
    "# # Use boolean indexing to filter the DataFrame based on the condition\n",
    "# filtered_df = df[df['value'] == 'a']\n",
    "\n",
    "# # Get the values from the 'id' column of the filtered DataFrame\n",
    "# id_values = filtered_df['id'].values\n",
    "\n",
    "# # Print the results\n",
    "# print(id_values)\n",
    " "
   ]
  },
  {
   "cell_type": "code",
   "execution_count": null,
   "id": "d9b4e2c7",
   "metadata": {},
   "outputs": [],
   "source": [
    "# Filtering male dataset to display the pics with a certain label\n",
    "from tensorflow.keras.utils import load_img\n",
    "\n",
    "filtered_result = result[result['usage'] == 'Sports']\n",
    "id_values = filtered_result['id'].values\n",
    "# print(id_values)\n",
    "\n",
    "dir_path = '../2_SeparatingMaleDataset/maleDatasetImages/'\n",
    "for id in id_values:\n",
    "    pic_path = dir_path + str(id) + '.jpg'\n",
    "    pic = load_img(pic_path)\n",
    "    display(pic)"
   ]
  },
  {
   "cell_type": "code",
   "execution_count": null,
   "id": "b5b9070a",
   "metadata": {
    "execution": {
     "iopub.execute_input": "2022-11-19T08:58:16.081320Z",
     "iopub.status.busy": "2022-11-19T08:58:16.080930Z",
     "iopub.status.idle": "2022-11-19T08:58:16.159829Z",
     "shell.execute_reply": "2022-11-19T08:58:16.159197Z"
    },
    "papermill": {
     "duration": 0.090073,
     "end_time": "2022-11-19T08:58:16.161997",
     "exception": false,
     "start_time": "2022-11-19T08:58:16.071924",
     "status": "completed"
    },
    "tags": []
   },
   "outputs": [],
   "source": [
    "# dataframe to CSV file\n",
    "# result.to_csv('./maleDataSet.csv', index=False)"
   ]
  },
  {
   "cell_type": "code",
   "execution_count": null,
   "id": "21d84898",
   "metadata": {},
   "outputs": [],
   "source": [
    "# Moving male dataset files to separate folder \n",
    "# Some missing pics: 39403, 39410, 39401, 39425, 12347\n",
    "\n",
    "# import shutil\n",
    "# for id in result['id']:\n",
    "#     if id==39403 or id==39410 or id==39401 or id==39425 or id==12347:\n",
    "#         continue\n",
    "#     else:    \n",
    "#         old_path = 'C:/Users/zaina/Desktop/FYDP/1_OriginalDataset_FashionProductImagesSmall/images_copy/'+ str(id) + '.jpg'\n",
    "#         new_path = 'C:/Users/zaina/Desktop/FYDP/2_SeparatingMaleDataset/maleDatasetImages/'+ str(id) + '.jpg'\n",
    "#         shutil.move(old_path, new_path)"
   ]
  },
  {
   "cell_type": "code",
   "execution_count": 1,
   "id": "e800d4d4",
   "metadata": {},
   "outputs": [
    {
     "ename": "NameError",
     "evalue": "name 'pd' is not defined",
     "output_type": "error",
     "traceback": [
      "\u001b[1;31m---------------------------------------------------------------------------\u001b[0m",
      "\u001b[1;31mNameError\u001b[0m                                 Traceback (most recent call last)",
      "\u001b[1;32m<ipython-input-1-9f00917e50dd>\u001b[0m in \u001b[0;36m<module>\u001b[1;34m\u001b[0m\n\u001b[1;32m----> 1\u001b[1;33m \u001b[0mmaleDS\u001b[0m \u001b[1;33m=\u001b[0m \u001b[0mpd\u001b[0m\u001b[1;33m.\u001b[0m\u001b[0mread_csv\u001b[0m\u001b[1;33m(\u001b[0m\u001b[1;34m'./maleDataSet.csv'\u001b[0m\u001b[1;33m)\u001b[0m\u001b[1;33m\u001b[0m\u001b[1;33m\u001b[0m\u001b[0m\n\u001b[0m\u001b[0;32m      2\u001b[0m \u001b[0mmaleDS\u001b[0m\u001b[1;33m.\u001b[0m\u001b[0mhead\u001b[0m\u001b[1;33m(\u001b[0m\u001b[1;33m)\u001b[0m\u001b[1;33m\u001b[0m\u001b[1;33m\u001b[0m\u001b[0m\n",
      "\u001b[1;31mNameError\u001b[0m: name 'pd' is not defined"
     ]
    }
   ],
   "source": [
    "maleDS = pd.read_csv('./maleDataSet.csv')\n",
    "maleDS.head()"
   ]
  }
 ],
 "metadata": {
  "kernelspec": {
   "display_name": "Python 3",
   "language": "python",
   "name": "python3"
  },
  "language_info": {
   "codemirror_mode": {
    "name": "ipython",
    "version": 3
   },
   "file_extension": ".py",
   "mimetype": "text/x-python",
   "name": "python",
   "nbconvert_exporter": "python",
   "pygments_lexer": "ipython3",
   "version": "3.9.5"
  },
  "papermill": {
   "default_parameters": {},
   "duration": 8.207644,
   "end_time": "2022-11-19T08:58:16.702843",
   "environment_variables": {},
   "exception": null,
   "input_path": "__notebook__.ipynb",
   "output_path": "__notebook__.ipynb",
   "parameters": {},
   "start_time": "2022-11-19T08:58:08.495199",
   "version": "2.3.4"
  },
  "vscode": {
   "interpreter": {
    "hash": "01c36c82db6f1b01914fa05a0f2c67a7445ddf73308cca96456dd479a934611d"
   }
  }
 },
 "nbformat": 4,
 "nbformat_minor": 5
}
