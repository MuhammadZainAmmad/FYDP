{
 "cells": [
  {
   "cell_type": "code",
   "execution_count": 1,
   "metadata": {},
   "outputs": [],
   "source": [
    "import pandas as pd"
   ]
  },
  {
   "cell_type": "code",
   "execution_count": 2,
   "metadata": {},
   "outputs": [
    {
     "data": {
      "text/html": [
       "<div>\n",
       "<style scoped>\n",
       "    .dataframe tbody tr th:only-of-type {\n",
       "        vertical-align: middle;\n",
       "    }\n",
       "\n",
       "    .dataframe tbody tr th {\n",
       "        vertical-align: top;\n",
       "    }\n",
       "\n",
       "    .dataframe thead th {\n",
       "        text-align: right;\n",
       "    }\n",
       "</style>\n",
       "<table border=\"1\" class=\"dataframe\">\n",
       "  <thead>\n",
       "    <tr style=\"text-align: right;\">\n",
       "      <th></th>\n",
       "      <th>id</th>\n",
       "      <th>gender</th>\n",
       "      <th>articleType</th>\n",
       "      <th>usage</th>\n",
       "    </tr>\n",
       "  </thead>\n",
       "  <tbody>\n",
       "    <tr>\n",
       "      <th>0</th>\n",
       "      <td>15970</td>\n",
       "      <td>Men</td>\n",
       "      <td>Shirts</td>\n",
       "      <td>Casual</td>\n",
       "    </tr>\n",
       "    <tr>\n",
       "      <th>1</th>\n",
       "      <td>39386</td>\n",
       "      <td>Men</td>\n",
       "      <td>Jeans</td>\n",
       "      <td>Casual</td>\n",
       "    </tr>\n",
       "    <tr>\n",
       "      <th>2</th>\n",
       "      <td>21379</td>\n",
       "      <td>Men</td>\n",
       "      <td>Track Pants</td>\n",
       "      <td>Casual</td>\n",
       "    </tr>\n",
       "    <tr>\n",
       "      <th>3</th>\n",
       "      <td>53759</td>\n",
       "      <td>Men</td>\n",
       "      <td>Tshirts</td>\n",
       "      <td>Casual</td>\n",
       "    </tr>\n",
       "    <tr>\n",
       "      <th>4</th>\n",
       "      <td>1855</td>\n",
       "      <td>Men</td>\n",
       "      <td>Tshirts</td>\n",
       "      <td>Casual</td>\n",
       "    </tr>\n",
       "  </tbody>\n",
       "</table>\n",
       "</div>"
      ],
      "text/plain": [
       "      id gender  articleType   usage\n",
       "0  15970    Men       Shirts  Casual\n",
       "1  39386    Men        Jeans  Casual\n",
       "2  21379    Men  Track Pants  Casual\n",
       "3  53759    Men      Tshirts  Casual\n",
       "4   1855    Men      Tshirts  Casual"
      ]
     },
     "execution_count": 2,
     "metadata": {},
     "output_type": "execute_result"
    }
   ],
   "source": [
    "df = pd.read_csv('maleDS.csv')\n",
    "df.head()"
   ]
  },
  {
   "cell_type": "code",
   "execution_count": 14,
   "metadata": {},
   "outputs": [
    {
     "data": {
      "text/plain": [
       "(25080, 4)"
      ]
     },
     "execution_count": 14,
     "metadata": {},
     "output_type": "execute_result"
    }
   ],
   "source": [
    "df.shape"
   ]
  },
  {
   "cell_type": "code",
   "execution_count": 15,
   "metadata": {},
   "outputs": [
    {
     "name": "stdout",
     "output_type": "stream",
     "text": [
      "<class 'pandas.core.frame.DataFrame'>\n",
      "RangeIndex: 25080 entries, 0 to 25079\n",
      "Data columns (total 4 columns):\n",
      " #   Column       Non-Null Count  Dtype \n",
      "---  ------       --------------  ----- \n",
      " 0   id           25080 non-null  int64 \n",
      " 1   gender       25080 non-null  object\n",
      " 2   articleType  25080 non-null  object\n",
      " 3   usage        25080 non-null  object\n",
      "dtypes: int64(1), object(3)\n",
      "memory usage: 783.9+ KB\n"
     ]
    }
   ],
   "source": [
    "df.info()"
   ]
  },
  {
   "cell_type": "code",
   "execution_count": 13,
   "metadata": {},
   "outputs": [
    {
     "data": {
      "text/plain": [
       "{'Casual',\n",
       " 'Ethnic',\n",
       " 'Formal',\n",
       " 'Home',\n",
       " 'Party',\n",
       " 'Smart Casual',\n",
       " 'Sports',\n",
       " 'Travel'}"
      ]
     },
     "execution_count": 13,
     "metadata": {},
     "output_type": "execute_result"
    }
   ],
   "source": [
    "# Labels in usage column\n",
    "usageLabels = set(df['usage'].values) # Casual, Formal, Ethnic, Home, Party, Smart Casual, Sports, Travel\n",
    "usageLabels"
   ]
  },
  {
   "cell_type": "code",
   "execution_count": 12,
   "metadata": {},
   "outputs": [
    {
     "data": {
      "text/plain": [
       "Casual          19390\n",
       "Sports           3258\n",
       "Formal           2236\n",
       "Ethnic            117\n",
       "Smart Casual       54\n",
       "Travel             22\n",
       "Party               2\n",
       "Home                1\n",
       "Name: usage, dtype: int64"
      ]
     },
     "execution_count": 12,
     "metadata": {},
     "output_type": "execute_result"
    }
   ],
   "source": [
    "# ======= number of records against each usage label =========\n",
    "# Formal           2236\n",
    "# Casual          19390\n",
    "# Sports           3258\n",
    "# Ethnic            117\n",
    "# Smart Casual       54\n",
    "# Travel             22\n",
    "# Party               2\n",
    "# Home                1\n",
    "\n",
    "df['usage'].value_counts()"
   ]
  },
  {
   "cell_type": "code",
   "execution_count": 16,
   "metadata": {},
   "outputs": [],
   "source": [
    "# # Creating separate folder for each usage label to analyze the images \n",
    "\n",
    "# import os\n",
    "# import shutil\n",
    "\n",
    "# # loop through the labels and create a folder for each label\n",
    "# for label in usageLabels:\n",
    "#     os.makedirs(label, exist_ok=True)\n",
    "\n",
    "# # loop through the rows in the dataframe and copy the image to the corresponding folder\n",
    "# for index, row in df.iterrows(): # iterrowsis similar to enumerate\n",
    "#     label = row['usage']\n",
    "#     filename = str(row['id']) + '.jpg'\n",
    "#     source_path = os.path.join('./maleDS/', filename)\n",
    "#     destination_path = os.path.join(label, filename)\n",
    "#     shutil.copyfile(source_path, destination_path)\n"
   ]
  },
  {
   "attachments": {},
   "cell_type": "markdown",
   "metadata": {},
   "source": [
    "Analysis:\n",
    "    1) Total 8 labels, require only 2 i.e. casual and formal \n",
    "    2) \n"
   ]
  },
  {
   "cell_type": "code",
   "execution_count": 20,
   "metadata": {},
   "outputs": [
    {
     "data": {
      "text/plain": [
       "88"
      ]
     },
     "execution_count": 20,
     "metadata": {},
     "output_type": "execute_result"
    }
   ],
   "source": [
    "articleTypeLabels = set(df['articleType'].values)\n",
    "len(articleTypeLabels) # there are 88 labels "
   ]
  },
  {
   "cell_type": "code",
   "execution_count": 22,
   "metadata": {},
   "outputs": [
    {
     "data": {
      "text/plain": [
       "Tshirts                  5844\n",
       "Shirts                   2920\n",
       "Casual Shoes             2498\n",
       "Sports Shoes             1636\n",
       "Watches                  1624\n",
       "Sandals                   852\n",
       "Sunglasses                749\n",
       "Backpacks                 686\n",
       "Flip Flops                660\n",
       "Formal Shoes              637\n",
       "Socks                     607\n",
       "Briefs                    562\n",
       "Belts                     550\n",
       "Wallets                   463\n",
       "Shorts                    441\n",
       "Trousers                  434\n",
       "Jeans                     366\n",
       "Perfume and Body Mist     332\n",
       "Ties                      263\n",
       "Caps                      256\n",
       "Innerwear Vests           236\n",
       "Sweatshirts               226\n",
       "Track Pants               218\n",
       "Deodorant                 218\n",
       "Jackets                   202\n",
       "Sweaters                  189\n",
       "Trunk                     140\n",
       "Cufflinks                 106\n",
       "Accessory Gift Set         97\n",
       "Kurtas                     83\n",
       "Duffel Bag                 81\n",
       "Laptop Bag                 72\n",
       "Handbags                   70\n",
       "Night suits                63\n",
       "Free Gifts                 54\n",
       "Boxers                     52\n",
       "Scarves                    47\n",
       "Messenger Bag              44\n",
       "Suspenders                 40\n",
       "Sports Sandals             37\n",
       "Lounge Pants               35\n",
       "Fragrance Gift Set         32\n",
       "Mufflers                   30\n",
       "Tracksuits                 28\n",
       "Ring                       26\n",
       "Lounge Shorts              25\n",
       "Waist Pouch                17\n",
       "Bracelet                   16\n",
       "Bangle                     14\n",
       "Gloves                     14\n",
       "Basketballs                13\n",
       "Travel Accessory           12\n",
       "Capris                     12\n",
       "Water Bottle               11\n",
       "Rucksacks                  11\n",
       "Waistcoat                  10\n",
       "Footballs                   8\n",
       "Pendant                     8\n",
       "Churidar                    7\n",
       "Rain Jacket                 7\n",
       "Wristbands                  7\n",
       "Headband                    7\n",
       "Blazers                     6\n",
       "Booties                     6\n",
       "Mobile Pouch                6\n",
       "Rompers                     6\n",
       "Nehru Jackets               5\n",
       "Swimwear                    5\n",
       "Clothing Set                5\n",
       "Kurta Sets                  4\n",
       "Leggings                    3\n",
       "Stoles                      3\n",
       "Shoe Accessories            3\n",
       "Hat                         3\n",
       "Trolley Bag                 3\n",
       "Tablet Sleeve               2\n",
       "Hair Colour                 2\n",
       "Kurtis                      2\n",
       "Key chain                   2\n",
       "Shoe Laces                  1\n",
       "Tops                        1\n",
       "Body Wash and Scrub         1\n",
       "Mens Grooming Kit           1\n",
       "Sunscreen                   1\n",
       "Heels                       1\n",
       "Tunics                      1\n",
       "Cushion Covers              1\n",
       "Tights                      1\n",
       "Name: articleType, dtype: int64"
      ]
     },
     "execution_count": 22,
     "metadata": {},
     "output_type": "execute_result"
    }
   ],
   "source": [
    "pd.set_option('display.max_rows', 100) # Setting the maximum number of rows to display = 100\n",
    "df['articleType'].value_counts()"
   ]
  }
 ],
 "metadata": {
  "kernelspec": {
   "display_name": "Python 3",
   "language": "python",
   "name": "python3"
  },
  "language_info": {
   "codemirror_mode": {
    "name": "ipython",
    "version": 3
   },
   "file_extension": ".py",
   "mimetype": "text/x-python",
   "name": "python",
   "nbconvert_exporter": "python",
   "pygments_lexer": "ipython3",
   "version": "3.9.5"
  },
  "orig_nbformat": 4
 },
 "nbformat": 4,
 "nbformat_minor": 2
}
