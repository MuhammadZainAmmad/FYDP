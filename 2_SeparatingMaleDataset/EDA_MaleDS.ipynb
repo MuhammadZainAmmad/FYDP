{
 "cells": [
  {
   "cell_type": "code",
   "execution_count": null,
   "metadata": {},
   "outputs": [],
   "source": [
    "import pandas as pd"
   ]
  },
  {
   "cell_type": "code",
   "execution_count": null,
   "metadata": {},
   "outputs": [],
   "source": [
    "df = pd.read_csv('maleDS.csv')"
   ]
  },
  {
   "cell_type": "code",
   "execution_count": null,
   "metadata": {},
   "outputs": [],
   "source": [
    "df.shape"
   ]
  },
  {
   "cell_type": "code",
   "execution_count": null,
   "metadata": {},
   "outputs": [],
   "source": [
    "# # Filtering Pandas Dataframe (Documentation)\n",
    "\n",
    "# # Create a sample DataFrame\n",
    "# df = pd.DataFrame({'id': [1, 2, 3, 4, 5], 'value': ['a', 'b', 'c', 'a', 'b']})\n",
    "\n",
    "# # Use boolean indexing to filter the DataFrame based on the condition\n",
    "# filtered_df = df[df['value'] == 'a']\n",
    "\n",
    "# # Get the values from the 'id' column of the filtered DataFrame\n",
    "# id_values = filtered_df['id'].values\n",
    "\n",
    "# # Print the results\n",
    "# print(id_values)"
   ]
  },
  {
   "cell_type": "code",
   "execution_count": null,
   "metadata": {},
   "outputs": [],
   "source": [
    "# Filtering male dataset to display the pics with a certain label\n",
    "from tensorflow.keras.utils import load_img\n",
    "\n",
    "filtered_result = df[df['usage'] == 'Sports']\n",
    "id_values = filtered_result['id'].values\n",
    "# print(id_values)\n",
    "\n",
    "dir_path = '../2_SeparatingMaleDataset/maleDS/'\n",
    "for id in id_values:\n",
    "    pic_path = dir_path + str(id) + '.jpg'\n",
    "    pic = load_img(pic_path)\n",
    "    display(pic)"
   ]
  }
 ],
 "metadata": {
  "kernelspec": {
   "display_name": "Python 3",
   "language": "python",
   "name": "python3"
  },
  "language_info": {
   "codemirror_mode": {
    "name": "ipython",
    "version": 3
   },
   "file_extension": ".py",
   "mimetype": "text/x-python",
   "name": "python",
   "nbconvert_exporter": "python",
   "pygments_lexer": "ipython3",
   "version": "3.9.5"
  },
  "orig_nbformat": 4
 },
 "nbformat": 4,
 "nbformat_minor": 2
}
