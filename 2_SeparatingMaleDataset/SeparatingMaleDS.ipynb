{
 "cells": [
  {
   "cell_type": "code",
   "execution_count": 1,
   "id": "8a889607",
   "metadata": {
    "_cell_guid": "b1076dfc-b9ad-4769-8c92-a6c4dae69d19",
    "_kg_hide-input": true,
    "_uuid": "8f2839f25d086af736a60e9eeb907d3b93b6e0e5",
    "execution": {
     "iopub.execute_input": "2022-11-19T08:58:15.256358Z",
     "iopub.status.busy": "2022-11-19T08:58:15.255939Z",
     "iopub.status.idle": "2022-11-19T08:58:15.264667Z",
     "shell.execute_reply": "2022-11-19T08:58:15.264087Z"
    },
    "papermill": {
     "duration": 0.017694,
     "end_time": "2022-11-19T08:58:15.266508",
     "exception": false,
     "start_time": "2022-11-19T08:58:15.248814",
     "status": "completed"
    },
    "tags": []
   },
   "outputs": [],
   "source": [
    "import numpy as np\n",
    "import pandas as pd"
   ]
  },
  {
   "cell_type": "code",
   "execution_count": 2,
   "id": "f8504e25",
   "metadata": {
    "execution": {
     "iopub.execute_input": "2022-11-19T08:58:15.277300Z",
     "iopub.status.busy": "2022-11-19T08:58:15.276989Z",
     "iopub.status.idle": "2022-11-19T08:58:15.436915Z",
     "shell.execute_reply": "2022-11-19T08:58:15.436059Z"
    },
    "papermill": {
     "duration": 0.167586,
     "end_time": "2022-11-19T08:58:15.439085",
     "exception": false,
     "start_time": "2022-11-19T08:58:15.271499",
     "status": "completed"
    },
    "tags": []
   },
   "outputs": [
    {
     "ename": "ParserError",
     "evalue": "Error tokenizing data. C error: Expected 10 fields in line 6044, saw 11\n",
     "output_type": "error",
     "traceback": [
      "\u001b[1;31m---------------------------------------------------------------------------\u001b[0m",
      "\u001b[1;31mParserError\u001b[0m                               Traceback (most recent call last)",
      "\u001b[1;32m<ipython-input-2-ec2878bccce2>\u001b[0m in \u001b[0;36m<module>\u001b[1;34m\u001b[0m\n\u001b[1;32m----> 1\u001b[1;33m \u001b[0mdf\u001b[0m \u001b[1;33m=\u001b[0m \u001b[0mpd\u001b[0m\u001b[1;33m.\u001b[0m\u001b[0mread_csv\u001b[0m\u001b[1;33m(\u001b[0m\u001b[1;34m'../1_OriginalDataset_FashionProductImagesSmall/styles.csv'\u001b[0m\u001b[1;33m)\u001b[0m\u001b[1;33m\u001b[0m\u001b[1;33m\u001b[0m\u001b[0m\n\u001b[0m\u001b[0;32m      2\u001b[0m \u001b[0mdf\u001b[0m\u001b[1;33m.\u001b[0m\u001b[0mhead\u001b[0m\u001b[1;33m(\u001b[0m\u001b[1;33m)\u001b[0m\u001b[1;33m\u001b[0m\u001b[1;33m\u001b[0m\u001b[0m\n",
      "\u001b[1;32mc:\\Users\\zaina\\AppData\\Local\\Programs\\Python\\Python39\\lib\\site-packages\\pandas\\util\\_decorators.py\u001b[0m in \u001b[0;36mwrapper\u001b[1;34m(*args, **kwargs)\u001b[0m\n\u001b[0;32m    209\u001b[0m                 \u001b[1;32melse\u001b[0m\u001b[1;33m:\u001b[0m\u001b[1;33m\u001b[0m\u001b[1;33m\u001b[0m\u001b[0m\n\u001b[0;32m    210\u001b[0m                     \u001b[0mkwargs\u001b[0m\u001b[1;33m[\u001b[0m\u001b[0mnew_arg_name\u001b[0m\u001b[1;33m]\u001b[0m \u001b[1;33m=\u001b[0m \u001b[0mnew_arg_value\u001b[0m\u001b[1;33m\u001b[0m\u001b[1;33m\u001b[0m\u001b[0m\n\u001b[1;32m--> 211\u001b[1;33m             \u001b[1;32mreturn\u001b[0m \u001b[0mfunc\u001b[0m\u001b[1;33m(\u001b[0m\u001b[1;33m*\u001b[0m\u001b[0margs\u001b[0m\u001b[1;33m,\u001b[0m \u001b[1;33m**\u001b[0m\u001b[0mkwargs\u001b[0m\u001b[1;33m)\u001b[0m\u001b[1;33m\u001b[0m\u001b[1;33m\u001b[0m\u001b[0m\n\u001b[0m\u001b[0;32m    212\u001b[0m \u001b[1;33m\u001b[0m\u001b[0m\n\u001b[0;32m    213\u001b[0m         \u001b[1;32mreturn\u001b[0m \u001b[0mcast\u001b[0m\u001b[1;33m(\u001b[0m\u001b[0mF\u001b[0m\u001b[1;33m,\u001b[0m \u001b[0mwrapper\u001b[0m\u001b[1;33m)\u001b[0m\u001b[1;33m\u001b[0m\u001b[1;33m\u001b[0m\u001b[0m\n",
      "\u001b[1;32mc:\\Users\\zaina\\AppData\\Local\\Programs\\Python\\Python39\\lib\\site-packages\\pandas\\util\\_decorators.py\u001b[0m in \u001b[0;36mwrapper\u001b[1;34m(*args, **kwargs)\u001b[0m\n\u001b[0;32m    329\u001b[0m                     \u001b[0mstacklevel\u001b[0m\u001b[1;33m=\u001b[0m\u001b[0mfind_stack_level\u001b[0m\u001b[1;33m(\u001b[0m\u001b[1;33m)\u001b[0m\u001b[1;33m,\u001b[0m\u001b[1;33m\u001b[0m\u001b[1;33m\u001b[0m\u001b[0m\n\u001b[0;32m    330\u001b[0m                 )\n\u001b[1;32m--> 331\u001b[1;33m             \u001b[1;32mreturn\u001b[0m \u001b[0mfunc\u001b[0m\u001b[1;33m(\u001b[0m\u001b[1;33m*\u001b[0m\u001b[0margs\u001b[0m\u001b[1;33m,\u001b[0m \u001b[1;33m**\u001b[0m\u001b[0mkwargs\u001b[0m\u001b[1;33m)\u001b[0m\u001b[1;33m\u001b[0m\u001b[1;33m\u001b[0m\u001b[0m\n\u001b[0m\u001b[0;32m    332\u001b[0m \u001b[1;33m\u001b[0m\u001b[0m\n\u001b[0;32m    333\u001b[0m         \u001b[1;31m# error: \"Callable[[VarArg(Any), KwArg(Any)], Any]\" has no\u001b[0m\u001b[1;33m\u001b[0m\u001b[1;33m\u001b[0m\u001b[1;33m\u001b[0m\u001b[0m\n",
      "\u001b[1;32mc:\\Users\\zaina\\AppData\\Local\\Programs\\Python\\Python39\\lib\\site-packages\\pandas\\io\\parsers\\readers.py\u001b[0m in \u001b[0;36mread_csv\u001b[1;34m(filepath_or_buffer, sep, delimiter, header, names, index_col, usecols, squeeze, prefix, mangle_dupe_cols, dtype, engine, converters, true_values, false_values, skipinitialspace, skiprows, skipfooter, nrows, na_values, keep_default_na, na_filter, verbose, skip_blank_lines, parse_dates, infer_datetime_format, keep_date_col, date_parser, dayfirst, cache_dates, iterator, chunksize, compression, thousands, decimal, lineterminator, quotechar, quoting, doublequote, escapechar, comment, encoding, encoding_errors, dialect, error_bad_lines, warn_bad_lines, on_bad_lines, delim_whitespace, low_memory, memory_map, float_precision, storage_options)\u001b[0m\n\u001b[0;32m    948\u001b[0m     \u001b[0mkwds\u001b[0m\u001b[1;33m.\u001b[0m\u001b[0mupdate\u001b[0m\u001b[1;33m(\u001b[0m\u001b[0mkwds_defaults\u001b[0m\u001b[1;33m)\u001b[0m\u001b[1;33m\u001b[0m\u001b[1;33m\u001b[0m\u001b[0m\n\u001b[0;32m    949\u001b[0m \u001b[1;33m\u001b[0m\u001b[0m\n\u001b[1;32m--> 950\u001b[1;33m     \u001b[1;32mreturn\u001b[0m \u001b[0m_read\u001b[0m\u001b[1;33m(\u001b[0m\u001b[0mfilepath_or_buffer\u001b[0m\u001b[1;33m,\u001b[0m \u001b[0mkwds\u001b[0m\u001b[1;33m)\u001b[0m\u001b[1;33m\u001b[0m\u001b[1;33m\u001b[0m\u001b[0m\n\u001b[0m\u001b[0;32m    951\u001b[0m \u001b[1;33m\u001b[0m\u001b[0m\n\u001b[0;32m    952\u001b[0m \u001b[1;33m\u001b[0m\u001b[0m\n",
      "\u001b[1;32mc:\\Users\\zaina\\AppData\\Local\\Programs\\Python\\Python39\\lib\\site-packages\\pandas\\io\\parsers\\readers.py\u001b[0m in \u001b[0;36m_read\u001b[1;34m(filepath_or_buffer, kwds)\u001b[0m\n\u001b[0;32m    609\u001b[0m \u001b[1;33m\u001b[0m\u001b[0m\n\u001b[0;32m    610\u001b[0m     \u001b[1;32mwith\u001b[0m \u001b[0mparser\u001b[0m\u001b[1;33m:\u001b[0m\u001b[1;33m\u001b[0m\u001b[1;33m\u001b[0m\u001b[0m\n\u001b[1;32m--> 611\u001b[1;33m         \u001b[1;32mreturn\u001b[0m \u001b[0mparser\u001b[0m\u001b[1;33m.\u001b[0m\u001b[0mread\u001b[0m\u001b[1;33m(\u001b[0m\u001b[0mnrows\u001b[0m\u001b[1;33m)\u001b[0m\u001b[1;33m\u001b[0m\u001b[1;33m\u001b[0m\u001b[0m\n\u001b[0m\u001b[0;32m    612\u001b[0m \u001b[1;33m\u001b[0m\u001b[0m\n\u001b[0;32m    613\u001b[0m \u001b[1;33m\u001b[0m\u001b[0m\n",
      "\u001b[1;32mc:\\Users\\zaina\\AppData\\Local\\Programs\\Python\\Python39\\lib\\site-packages\\pandas\\io\\parsers\\readers.py\u001b[0m in \u001b[0;36mread\u001b[1;34m(self, nrows)\u001b[0m\n\u001b[0;32m   1776\u001b[0m                     \u001b[0mcolumns\u001b[0m\u001b[1;33m,\u001b[0m\u001b[1;33m\u001b[0m\u001b[1;33m\u001b[0m\u001b[0m\n\u001b[0;32m   1777\u001b[0m                     \u001b[0mcol_dict\u001b[0m\u001b[1;33m,\u001b[0m\u001b[1;33m\u001b[0m\u001b[1;33m\u001b[0m\u001b[0m\n\u001b[1;32m-> 1778\u001b[1;33m                 \u001b[1;33m)\u001b[0m \u001b[1;33m=\u001b[0m \u001b[0mself\u001b[0m\u001b[1;33m.\u001b[0m\u001b[0m_engine\u001b[0m\u001b[1;33m.\u001b[0m\u001b[0mread\u001b[0m\u001b[1;33m(\u001b[0m  \u001b[1;31m# type: ignore[attr-defined]\u001b[0m\u001b[1;33m\u001b[0m\u001b[1;33m\u001b[0m\u001b[0m\n\u001b[0m\u001b[0;32m   1779\u001b[0m                     \u001b[0mnrows\u001b[0m\u001b[1;33m\u001b[0m\u001b[1;33m\u001b[0m\u001b[0m\n\u001b[0;32m   1780\u001b[0m                 )\n",
      "\u001b[1;32mc:\\Users\\zaina\\AppData\\Local\\Programs\\Python\\Python39\\lib\\site-packages\\pandas\\io\\parsers\\c_parser_wrapper.py\u001b[0m in \u001b[0;36mread\u001b[1;34m(self, nrows)\u001b[0m\n\u001b[0;32m    228\u001b[0m         \u001b[1;32mtry\u001b[0m\u001b[1;33m:\u001b[0m\u001b[1;33m\u001b[0m\u001b[1;33m\u001b[0m\u001b[0m\n\u001b[0;32m    229\u001b[0m             \u001b[1;32mif\u001b[0m \u001b[0mself\u001b[0m\u001b[1;33m.\u001b[0m\u001b[0mlow_memory\u001b[0m\u001b[1;33m:\u001b[0m\u001b[1;33m\u001b[0m\u001b[1;33m\u001b[0m\u001b[0m\n\u001b[1;32m--> 230\u001b[1;33m                 \u001b[0mchunks\u001b[0m \u001b[1;33m=\u001b[0m \u001b[0mself\u001b[0m\u001b[1;33m.\u001b[0m\u001b[0m_reader\u001b[0m\u001b[1;33m.\u001b[0m\u001b[0mread_low_memory\u001b[0m\u001b[1;33m(\u001b[0m\u001b[0mnrows\u001b[0m\u001b[1;33m)\u001b[0m\u001b[1;33m\u001b[0m\u001b[1;33m\u001b[0m\u001b[0m\n\u001b[0m\u001b[0;32m    231\u001b[0m                 \u001b[1;31m# destructive to chunks\u001b[0m\u001b[1;33m\u001b[0m\u001b[1;33m\u001b[0m\u001b[1;33m\u001b[0m\u001b[0m\n\u001b[0;32m    232\u001b[0m                 \u001b[0mdata\u001b[0m \u001b[1;33m=\u001b[0m \u001b[0m_concatenate_chunks\u001b[0m\u001b[1;33m(\u001b[0m\u001b[0mchunks\u001b[0m\u001b[1;33m)\u001b[0m\u001b[1;33m\u001b[0m\u001b[1;33m\u001b[0m\u001b[0m\n",
      "\u001b[1;32mc:\\Users\\zaina\\AppData\\Local\\Programs\\Python\\Python39\\lib\\site-packages\\pandas\\_libs\\parsers.pyx\u001b[0m in \u001b[0;36mpandas._libs.parsers.TextReader.read_low_memory\u001b[1;34m()\u001b[0m\n",
      "\u001b[1;32mc:\\Users\\zaina\\AppData\\Local\\Programs\\Python\\Python39\\lib\\site-packages\\pandas\\_libs\\parsers.pyx\u001b[0m in \u001b[0;36mpandas._libs.parsers.TextReader._read_rows\u001b[1;34m()\u001b[0m\n",
      "\u001b[1;32mc:\\Users\\zaina\\AppData\\Local\\Programs\\Python\\Python39\\lib\\site-packages\\pandas\\_libs\\parsers.pyx\u001b[0m in \u001b[0;36mpandas._libs.parsers.TextReader._tokenize_rows\u001b[1;34m()\u001b[0m\n",
      "\u001b[1;32mc:\\Users\\zaina\\AppData\\Local\\Programs\\Python\\Python39\\lib\\site-packages\\pandas\\_libs\\parsers.pyx\u001b[0m in \u001b[0;36mpandas._libs.parsers.raise_parser_error\u001b[1;34m()\u001b[0m\n",
      "\u001b[1;31mParserError\u001b[0m: Error tokenizing data. C error: Expected 10 fields in line 6044, saw 11\n"
     ]
    }
   ],
   "source": [
    "df = pd.read_csv('../1_OriginalDataset_FashionProductImagesSmall/styles.csv')\n",
    "df.head()"
   ]
  },
  {
   "cell_type": "code",
   "execution_count": 3,
   "id": "18ce611a",
   "metadata": {
    "execution": {
     "iopub.execute_input": "2022-11-19T08:58:15.721728Z",
     "iopub.status.busy": "2022-11-19T08:58:15.721374Z",
     "iopub.status.idle": "2022-11-19T08:58:15.729785Z",
     "shell.execute_reply": "2022-11-19T08:58:15.729019Z"
    },
    "papermill": {
     "duration": 0.016646,
     "end_time": "2022-11-19T08:58:15.731815",
     "exception": false,
     "start_time": "2022-11-19T08:58:15.715169",
     "status": "completed"
    },
    "tags": []
   },
   "outputs": [
    {
     "data": {
      "text/plain": [
       "Men       22123\n",
       "Women     18367\n",
       "Unisex     2132\n",
       "Boys        830\n",
       "Girls       655\n",
       "Name: gender, dtype: int64"
      ]
     },
     "execution_count": 3,
     "metadata": {},
     "output_type": "execute_result"
    }
   ],
   "source": [
    "# value_counts() gives the number of count of each class in a Feature/Column along with the Column's name and datatype \n",
    "df['gender'].value_counts()"
   ]
  },
  {
   "cell_type": "code",
   "execution_count": 4,
   "id": "417519da",
   "metadata": {
    "execution": {
     "iopub.execute_input": "2022-11-19T08:58:15.862677Z",
     "iopub.status.busy": "2022-11-19T08:58:15.862409Z",
     "iopub.status.idle": "2022-11-19T08:58:15.885009Z",
     "shell.execute_reply": "2022-11-19T08:58:15.884097Z"
    },
    "papermill": {
     "duration": 0.03109,
     "end_time": "2022-11-19T08:58:15.886796",
     "exception": false,
     "start_time": "2022-11-19T08:58:15.855706",
     "status": "completed"
    },
    "tags": []
   },
   "outputs": [
    {
     "data": {
      "text/plain": [
       "22123"
      ]
     },
     "execution_count": 4,
     "metadata": {},
     "output_type": "execute_result"
    }
   ],
   "source": [
    "# Getting those values in a separate dataframe where gender = Men\n",
    "maleDataSet = df.loc[(df['gender']=='Men') ]\n",
    "maleDataSet['id'].count()"
   ]
  },
  {
   "cell_type": "code",
   "execution_count": 5,
   "id": "8a6ac102",
   "metadata": {
    "execution": {
     "iopub.execute_input": "2022-11-19T08:58:15.900476Z",
     "iopub.status.busy": "2022-11-19T08:58:15.900218Z",
     "iopub.status.idle": "2022-11-19T08:58:15.921242Z",
     "shell.execute_reply": "2022-11-19T08:58:15.920586Z"
    },
    "papermill": {
     "duration": 0.029601,
     "end_time": "2022-11-19T08:58:15.922845",
     "exception": false,
     "start_time": "2022-11-19T08:58:15.893244",
     "status": "completed"
    },
    "tags": []
   },
   "outputs": [
    {
     "data": {
      "text/plain": [
       "830"
      ]
     },
     "execution_count": 5,
     "metadata": {},
     "output_type": "execute_result"
    }
   ],
   "source": [
    "boysDataSet = df.loc[(df['gender']=='Boys') ]\n",
    "boysDataSet['id'].count()"
   ]
  },
  {
   "cell_type": "code",
   "execution_count": 6,
   "id": "bb763755",
   "metadata": {
    "execution": {
     "iopub.execute_input": "2022-11-19T08:58:15.937352Z",
     "iopub.status.busy": "2022-11-19T08:58:15.936591Z",
     "iopub.status.idle": "2022-11-19T08:58:15.956918Z",
     "shell.execute_reply": "2022-11-19T08:58:15.956066Z"
    },
    "papermill": {
     "duration": 0.029352,
     "end_time": "2022-11-19T08:58:15.958688",
     "exception": false,
     "start_time": "2022-11-19T08:58:15.929336",
     "status": "completed"
    },
    "tags": []
   },
   "outputs": [
    {
     "data": {
      "text/plain": [
       "2132"
      ]
     },
     "execution_count": 6,
     "metadata": {},
     "output_type": "execute_result"
    }
   ],
   "source": [
    "uniSexDataSet = df.loc[(df['gender']=='Unisex') ]\n",
    "uniSexDataSet['id'].count()"
   ]
  },
  {
   "cell_type": "code",
   "execution_count": 7,
   "id": "cf16dd40",
   "metadata": {
    "execution": {
     "iopub.execute_input": "2022-11-19T08:58:16.000292Z",
     "iopub.status.busy": "2022-11-19T08:58:15.999490Z",
     "iopub.status.idle": "2022-11-19T08:58:16.024956Z",
     "shell.execute_reply": "2022-11-19T08:58:16.023975Z"
    },
    "papermill": {
     "duration": 0.035754,
     "end_time": "2022-11-19T08:58:16.027260",
     "exception": false,
     "start_time": "2022-11-19T08:58:15.991506",
     "status": "completed"
    },
    "tags": []
   },
   "outputs": [
    {
     "name": "stdout",
     "output_type": "stream",
     "text": [
      "Separated male dataset contain these values\n",
      "Men       22123\n",
      "Unisex     2132\n",
      "Boys        830\n",
      "Name: gender, dtype: int64\n",
      "\n",
      "Size of male dataset: 25085\n"
     ]
    }
   ],
   "source": [
    "# Concatenating all datasets of Men, Boys, Unisex\n",
    "frames = [maleDataSet, boysDataSet, uniSexDataSet]  \n",
    "result = pd.concat(frames)\n",
    "\n",
    "print(f\"Separated male dataset contain these values\\n{result['gender'].value_counts()}\\n\")\n",
    "\n",
    "print(f\"Size of male dataset: {result['id'].count()}\")"
   ]
  },
  {
   "cell_type": "code",
   "execution_count": 8,
   "id": "dd74f0e3",
   "metadata": {},
   "outputs": [
    {
     "data": {
      "text/plain": [
       "Casual          19395\n",
       "Sports           3258\n",
       "Formal           2236\n",
       "Ethnic            117\n",
       "Smart Casual       54\n",
       "Travel             22\n",
       "Party               2\n",
       "Home                1\n",
       "Name: usage, dtype: int64"
      ]
     },
     "execution_count": 8,
     "metadata": {},
     "output_type": "execute_result"
    }
   ],
   "source": [
    "result['usage'].value_counts()"
   ]
  },
  {
   "cell_type": "code",
   "execution_count": 9,
   "id": "b5b9070a",
   "metadata": {
    "execution": {
     "iopub.execute_input": "2022-11-19T08:58:16.081320Z",
     "iopub.status.busy": "2022-11-19T08:58:16.080930Z",
     "iopub.status.idle": "2022-11-19T08:58:16.159829Z",
     "shell.execute_reply": "2022-11-19T08:58:16.159197Z"
    },
    "papermill": {
     "duration": 0.090073,
     "end_time": "2022-11-19T08:58:16.161997",
     "exception": false,
     "start_time": "2022-11-19T08:58:16.071924",
     "status": "completed"
    },
    "tags": []
   },
   "outputs": [],
   "source": [
    "# dataframe to CSV file\n",
    "result.to_csv('./maleDS.csv', index=False)"
   ]
  },
  {
   "cell_type": "code",
   "execution_count": 15,
   "id": "e800d4d4",
   "metadata": {},
   "outputs": [
    {
     "data": {
      "text/plain": [
       "(25085, 4)"
      ]
     },
     "execution_count": 15,
     "metadata": {},
     "output_type": "execute_result"
    }
   ],
   "source": [
    "maleDS = pd.read_csv('./maleDS.csv')\n",
    "maleDS.shape\n",
    "# Some missing pics: 39403, 39410, 39401, 39425, 12347 hence csv has 25085 rows while images are 25080"
   ]
  },
  {
   "cell_type": "code",
   "execution_count": 18,
   "id": "f312fbd8",
   "metadata": {},
   "outputs": [
    {
     "data": {
      "text/plain": [
       "(25080, 4)"
      ]
     },
     "execution_count": 18,
     "metadata": {},
     "output_type": "execute_result"
    }
   ],
   "source": [
    "# Deleteing the rows of csv which do not map to any image\n",
    "ids_to_delete = [39403, 39410, 39401, 39425, 12347]\n",
    "maleDS = maleDS[~maleDS['id'].isin(ids_to_delete)]\n",
    "maleDS.shape # 25080 rows i.e. equal to number of images"
   ]
  },
  {
   "cell_type": "code",
   "execution_count": 20,
   "id": "82fe8ee9",
   "metadata": {},
   "outputs": [],
   "source": [
    "maleDS.to_csv('./maleDS.csv', index=False)"
   ]
  },
  {
   "cell_type": "code",
   "execution_count": 28,
   "id": "2e94cb0f",
   "metadata": {},
   "outputs": [],
   "source": [
    "# Moving male dataset files to separate folder \n",
    "\n",
    "import shutil\n",
    "for id in maleDS['id']:  \n",
    "    old_path = 'C:/Users/zaina/Desktop/FYDP/1_OriginalDataset_FashionProductImagesSmall/images/'+ str(id) + '.jpg'\n",
    "    new_path = 'C:/Users/zaina/Desktop/FYDP/2_SeparatingMaleDataset/maleDS/'+ str(id) + '.jpg'\n",
    "    shutil.copy(old_path, new_path)"
   ]
  }
 ],
 "metadata": {
  "kernelspec": {
   "display_name": "Python 3",
   "language": "python",
   "name": "python3"
  },
  "language_info": {
   "codemirror_mode": {
    "name": "ipython",
    "version": 3
   },
   "file_extension": ".py",
   "mimetype": "text/x-python",
   "name": "python",
   "nbconvert_exporter": "python",
   "pygments_lexer": "ipython3",
   "version": "3.9.5"
  },
  "papermill": {
   "default_parameters": {},
   "duration": 8.207644,
   "end_time": "2022-11-19T08:58:16.702843",
   "environment_variables": {},
   "exception": null,
   "input_path": "__notebook__.ipynb",
   "output_path": "__notebook__.ipynb",
   "parameters": {},
   "start_time": "2022-11-19T08:58:08.495199",
   "version": "2.3.4"
  },
  "vscode": {
   "interpreter": {
    "hash": "01c36c82db6f1b01914fa05a0f2c67a7445ddf73308cca96456dd479a934611d"
   }
  }
 },
 "nbformat": 4,
 "nbformat_minor": 5
}
