{
 "cells": [
  {
   "cell_type": "code",
   "execution_count": 1,
   "id": "8a889607",
   "metadata": {
    "_cell_guid": "b1076dfc-b9ad-4769-8c92-a6c4dae69d19",
    "_kg_hide-input": true,
    "_uuid": "8f2839f25d086af736a60e9eeb907d3b93b6e0e5",
    "execution": {
     "iopub.execute_input": "2022-11-19T08:58:15.256358Z",
     "iopub.status.busy": "2022-11-19T08:58:15.255939Z",
     "iopub.status.idle": "2022-11-19T08:58:15.264667Z",
     "shell.execute_reply": "2022-11-19T08:58:15.264087Z"
    },
    "papermill": {
     "duration": 0.017694,
     "end_time": "2022-11-19T08:58:15.266508",
     "exception": false,
     "start_time": "2022-11-19T08:58:15.248814",
     "status": "completed"
    },
    "tags": []
   },
   "outputs": [],
   "source": [
    "import pandas as pd\n",
    "import os"
   ]
  },
  {
   "cell_type": "code",
   "execution_count": 2,
   "id": "f8504e25",
   "metadata": {
    "execution": {
     "iopub.execute_input": "2022-11-19T08:58:15.277300Z",
     "iopub.status.busy": "2022-11-19T08:58:15.276989Z",
     "iopub.status.idle": "2022-11-19T08:58:15.436915Z",
     "shell.execute_reply": "2022-11-19T08:58:15.436059Z"
    },
    "papermill": {
     "duration": 0.167586,
     "end_time": "2022-11-19T08:58:15.439085",
     "exception": false,
     "start_time": "2022-11-19T08:58:15.271499",
     "status": "completed"
    },
    "tags": []
   },
   "outputs": [
    {
     "data": {
      "text/html": [
       "<div>\n",
       "<style scoped>\n",
       "    .dataframe tbody tr th:only-of-type {\n",
       "        vertical-align: middle;\n",
       "    }\n",
       "\n",
       "    .dataframe tbody tr th {\n",
       "        vertical-align: top;\n",
       "    }\n",
       "\n",
       "    .dataframe thead th {\n",
       "        text-align: right;\n",
       "    }\n",
       "</style>\n",
       "<table border=\"1\" class=\"dataframe\">\n",
       "  <thead>\n",
       "    <tr style=\"text-align: right;\">\n",
       "      <th></th>\n",
       "      <th>id</th>\n",
       "      <th>gender</th>\n",
       "      <th>articleType</th>\n",
       "      <th>usage</th>\n",
       "    </tr>\n",
       "  </thead>\n",
       "  <tbody>\n",
       "    <tr>\n",
       "      <th>0</th>\n",
       "      <td>15970</td>\n",
       "      <td>Men</td>\n",
       "      <td>Shirts</td>\n",
       "      <td>Casual</td>\n",
       "    </tr>\n",
       "    <tr>\n",
       "      <th>1</th>\n",
       "      <td>39386</td>\n",
       "      <td>Men</td>\n",
       "      <td>Jeans</td>\n",
       "      <td>Casual</td>\n",
       "    </tr>\n",
       "    <tr>\n",
       "      <th>2</th>\n",
       "      <td>59263</td>\n",
       "      <td>Women</td>\n",
       "      <td>Watches</td>\n",
       "      <td>Casual</td>\n",
       "    </tr>\n",
       "    <tr>\n",
       "      <th>3</th>\n",
       "      <td>21379</td>\n",
       "      <td>Men</td>\n",
       "      <td>Track Pants</td>\n",
       "      <td>Casual</td>\n",
       "    </tr>\n",
       "    <tr>\n",
       "      <th>4</th>\n",
       "      <td>53759</td>\n",
       "      <td>Men</td>\n",
       "      <td>Tshirts</td>\n",
       "      <td>Casual</td>\n",
       "    </tr>\n",
       "  </tbody>\n",
       "</table>\n",
       "</div>"
      ],
      "text/plain": [
       "      id gender  articleType   usage\n",
       "0  15970    Men       Shirts  Casual\n",
       "1  39386    Men        Jeans  Casual\n",
       "2  59263  Women      Watches  Casual\n",
       "3  21379    Men  Track Pants  Casual\n",
       "4  53759    Men      Tshirts  Casual"
      ]
     },
     "execution_count": 2,
     "metadata": {},
     "output_type": "execute_result"
    }
   ],
   "source": [
    "df = pd.read_csv('../1_OriginalDataset_FashionProductImagesSmall/processedDS.csv')\n",
    "df.head()"
   ]
  },
  {
   "cell_type": "code",
   "execution_count": 3,
   "id": "18ce611a",
   "metadata": {
    "execution": {
     "iopub.execute_input": "2022-11-19T08:58:15.721728Z",
     "iopub.status.busy": "2022-11-19T08:58:15.721374Z",
     "iopub.status.idle": "2022-11-19T08:58:15.729785Z",
     "shell.execute_reply": "2022-11-19T08:58:15.729019Z"
    },
    "papermill": {
     "duration": 0.016646,
     "end_time": "2022-11-19T08:58:15.731815",
     "exception": false,
     "start_time": "2022-11-19T08:58:15.715169",
     "status": "completed"
    },
    "tags": []
   },
   "outputs": [
    {
     "data": {
      "text/plain": [
       "gender\n",
       "Men       22123\n",
       "Women     18367\n",
       "Unisex     2132\n",
       "Boys        830\n",
       "Girls       655\n",
       "Name: count, dtype: int64"
      ]
     },
     "execution_count": 3,
     "metadata": {},
     "output_type": "execute_result"
    }
   ],
   "source": [
    "df['gender'].value_counts()"
   ]
  },
  {
   "cell_type": "code",
   "execution_count": 4,
   "id": "417519da",
   "metadata": {
    "execution": {
     "iopub.execute_input": "2022-11-19T08:58:15.862677Z",
     "iopub.status.busy": "2022-11-19T08:58:15.862409Z",
     "iopub.status.idle": "2022-11-19T08:58:15.885009Z",
     "shell.execute_reply": "2022-11-19T08:58:15.884097Z"
    },
    "papermill": {
     "duration": 0.03109,
     "end_time": "2022-11-19T08:58:15.886796",
     "exception": false,
     "start_time": "2022-11-19T08:58:15.855706",
     "status": "completed"
    },
    "tags": []
   },
   "outputs": [
    {
     "data": {
      "text/plain": [
       "22123"
      ]
     },
     "execution_count": 4,
     "metadata": {},
     "output_type": "execute_result"
    }
   ],
   "source": [
    "# Getting those values in a separate dataframe where gender = Men\n",
    "maleDataSet = df[df['gender']=='Men' ]\n",
    "maleDataSet['id'].count()"
   ]
  },
  {
   "cell_type": "code",
   "execution_count": 5,
   "id": "8a6ac102",
   "metadata": {
    "execution": {
     "iopub.execute_input": "2022-11-19T08:58:15.900476Z",
     "iopub.status.busy": "2022-11-19T08:58:15.900218Z",
     "iopub.status.idle": "2022-11-19T08:58:15.921242Z",
     "shell.execute_reply": "2022-11-19T08:58:15.920586Z"
    },
    "papermill": {
     "duration": 0.029601,
     "end_time": "2022-11-19T08:58:15.922845",
     "exception": false,
     "start_time": "2022-11-19T08:58:15.893244",
     "status": "completed"
    },
    "tags": []
   },
   "outputs": [
    {
     "data": {
      "text/plain": [
       "830"
      ]
     },
     "execution_count": 5,
     "metadata": {},
     "output_type": "execute_result"
    }
   ],
   "source": [
    "boysDataSet = df[df['gender']=='Boys']\n",
    "boysDataSet['id'].count()"
   ]
  },
  {
   "cell_type": "code",
   "execution_count": 6,
   "id": "bb763755",
   "metadata": {
    "execution": {
     "iopub.execute_input": "2022-11-19T08:58:15.937352Z",
     "iopub.status.busy": "2022-11-19T08:58:15.936591Z",
     "iopub.status.idle": "2022-11-19T08:58:15.956918Z",
     "shell.execute_reply": "2022-11-19T08:58:15.956066Z"
    },
    "papermill": {
     "duration": 0.029352,
     "end_time": "2022-11-19T08:58:15.958688",
     "exception": false,
     "start_time": "2022-11-19T08:58:15.929336",
     "status": "completed"
    },
    "tags": []
   },
   "outputs": [
    {
     "data": {
      "text/plain": [
       "2132"
      ]
     },
     "execution_count": 6,
     "metadata": {},
     "output_type": "execute_result"
    }
   ],
   "source": [
    "uniSexDataSet = df[df['gender']=='Unisex']\n",
    "uniSexDataSet['id'].count()"
   ]
  },
  {
   "cell_type": "code",
   "execution_count": 7,
   "id": "cf16dd40",
   "metadata": {
    "execution": {
     "iopub.execute_input": "2022-11-19T08:58:16.000292Z",
     "iopub.status.busy": "2022-11-19T08:58:15.999490Z",
     "iopub.status.idle": "2022-11-19T08:58:16.024956Z",
     "shell.execute_reply": "2022-11-19T08:58:16.023975Z"
    },
    "papermill": {
     "duration": 0.035754,
     "end_time": "2022-11-19T08:58:16.027260",
     "exception": false,
     "start_time": "2022-11-19T08:58:15.991506",
     "status": "completed"
    },
    "tags": []
   },
   "outputs": [
    {
     "name": "stdout",
     "output_type": "stream",
     "text": [
      "Separated male dataset contain these values\n",
      "gender\n",
      "Men       22123\n",
      "Unisex     2132\n",
      "Boys        830\n",
      "Name: count, dtype: int64\n",
      "\n",
      "Size of male dataset: 25085\n"
     ]
    }
   ],
   "source": [
    "# Concatenating all datasets of Men, Boys, Unisex\n",
    "frames = [maleDataSet, boysDataSet, uniSexDataSet]  \n",
    "result = pd.concat(frames)\n",
    "\n",
    "print(f\"Separated male dataset contain these values\\n{result['gender'].value_counts()}\\n\")\n",
    "\n",
    "print(f\"Size of male dataset: {result['id'].count()}\")"
   ]
  },
  {
   "cell_type": "code",
   "execution_count": 8,
   "id": "dd74f0e3",
   "metadata": {},
   "outputs": [
    {
     "data": {
      "text/plain": [
       "usage\n",
       "Casual          19395\n",
       "Sports           3258\n",
       "Formal           2236\n",
       "Ethnic            117\n",
       "Smart Casual       54\n",
       "Travel             22\n",
       "Party               2\n",
       "Home                1\n",
       "Name: count, dtype: int64"
      ]
     },
     "execution_count": 8,
     "metadata": {},
     "output_type": "execute_result"
    }
   ],
   "source": [
    "result['usage'].value_counts()"
   ]
  },
  {
   "cell_type": "code",
   "execution_count": 9,
   "id": "b5b9070a",
   "metadata": {
    "execution": {
     "iopub.execute_input": "2022-11-19T08:58:16.081320Z",
     "iopub.status.busy": "2022-11-19T08:58:16.080930Z",
     "iopub.status.idle": "2022-11-19T08:58:16.159829Z",
     "shell.execute_reply": "2022-11-19T08:58:16.159197Z"
    },
    "papermill": {
     "duration": 0.090073,
     "end_time": "2022-11-19T08:58:16.161997",
     "exception": false,
     "start_time": "2022-11-19T08:58:16.071924",
     "status": "completed"
    },
    "tags": []
   },
   "outputs": [],
   "source": [
    "# dataframe to CSV file\n",
    "result.to_csv('./maleDS.csv', index=False)"
   ]
  },
  {
   "cell_type": "code",
   "execution_count": 10,
   "id": "e800d4d4",
   "metadata": {},
   "outputs": [
    {
     "data": {
      "text/plain": [
       "(25085, 4)"
      ]
     },
     "execution_count": 10,
     "metadata": {},
     "output_type": "execute_result"
    }
   ],
   "source": [
    "maleDS = pd.read_csv('./maleDS.csv')\n",
    "maleDS.shape\n",
    "# Some missing pics: 39403, 39410, 39401, 39425, 12347 hence csv has 25085 rows while images are 25080"
   ]
  },
  {
   "cell_type": "code",
   "execution_count": 11,
   "id": "f312fbd8",
   "metadata": {},
   "outputs": [
    {
     "data": {
      "text/plain": [
       "(25080, 4)"
      ]
     },
     "execution_count": 11,
     "metadata": {},
     "output_type": "execute_result"
    }
   ],
   "source": [
    "# Deleteing the rows of csv which do not map to any image\n",
    "ids_to_delete = [39403, 39410, 39401, 39425, 12347]\n",
    "maleDS = maleDS[~maleDS['id'].isin(ids_to_delete)]\n",
    "maleDS.shape # 25080 rows i.e. equal to number of images"
   ]
  },
  {
   "cell_type": "code",
   "execution_count": 12,
   "id": "82fe8ee9",
   "metadata": {},
   "outputs": [],
   "source": [
    "maleDS.to_csv('./maleDS.csv', index=False)"
   ]
  },
  {
   "cell_type": "code",
   "execution_count": 13,
   "id": "9d24fdc1",
   "metadata": {},
   "outputs": [],
   "source": [
    "# Creating male DS directory to store male images\n",
    "new_directory_name = \"maleDS\"\n",
    "\n",
    "new_directory_path = os.path.join(os.getcwd(), new_directory_name)\n",
    "if not os.path.exists(new_directory_path):\n",
    "    os.makedirs(new_directory_path)"
   ]
  },
  {
   "cell_type": "code",
   "execution_count": 14,
   "id": "2e94cb0f",
   "metadata": {},
   "outputs": [],
   "source": [
    "# Moving male dataset files to separate folder \n",
    "\n",
    "import shutil\n",
    "for id in maleDS['id']:  \n",
    "    old_path = '../1_OriginalDataset_FashionProductImagesSmall/images/'+ str(id) + '.jpg'\n",
    "    new_path = './maleDS/'+ str(id) + '.jpg'\n",
    "    shutil.copy(old_path, new_path)"
   ]
  },
  {
   "cell_type": "code",
   "execution_count": 17,
   "id": "fc73565d",
   "metadata": {},
   "outputs": [],
   "source": [
    "maleDS = pd.read_csv('./maleDS.csv')\n",
    "maleDS.drop(columns= ['gender'], axis=1, inplace=True)\n",
    "maleDS.head()\n",
    "maleDS.to_csv('./maleDS.csv', index=False)"
   ]
  }
 ],
 "metadata": {
  "kernelspec": {
   "display_name": "Python 3",
   "language": "python",
   "name": "python3"
  },
  "language_info": {
   "codemirror_mode": {
    "name": "ipython",
    "version": 3
   },
   "file_extension": ".py",
   "mimetype": "text/x-python",
   "name": "python",
   "nbconvert_exporter": "python",
   "pygments_lexer": "ipython3",
   "version": "3.9.7"
  },
  "papermill": {
   "default_parameters": {},
   "duration": 8.207644,
   "end_time": "2022-11-19T08:58:16.702843",
   "environment_variables": {},
   "exception": null,
   "input_path": "__notebook__.ipynb",
   "output_path": "__notebook__.ipynb",
   "parameters": {},
   "start_time": "2022-11-19T08:58:08.495199",
   "version": "2.3.4"
  },
  "vscode": {
   "interpreter": {
    "hash": "01c36c82db6f1b01914fa05a0f2c67a7445ddf73308cca96456dd479a934611d"
   }
  }
 },
 "nbformat": 4,
 "nbformat_minor": 5
}
